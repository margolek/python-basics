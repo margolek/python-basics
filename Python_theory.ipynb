{
  "nbformat": 4,
  "nbformat_minor": 0,
  "metadata": {
    "colab": {
      "name": "Telusko_basics.ipynb",
      "provenance": [],
      "collapsed_sections": [
        "cNEMnjVPJJBE",
        "MgRjvjFOIVj6",
        "LSQQIZoBS0OR",
        "HEvdgGmVDVi9",
        "PJtZHvPHOW_l",
        "NYPx-ZCnZmRG",
        "Pv8IZmOsdAvO",
        "NRASy0M0fjoI",
        "qjUx9rAcQ8SQ",
        "nkZkZrthk2Uu",
        "WVrV3pgN3Y3u",
        "8VA2zY_YdE7w",
        "GvX04tX6YU5Y",
        "WS0oHBIPlqC3",
        "EpdeQSm2rNLg"
      ],
      "mount_file_id": "1-l1qZApf5kKReC8V9tYYvIN4cwmUWOR6",
      "authorship_tag": "ABX9TyMmXrBb9iOs4i1NNiqLtctR",
      "include_colab_link": true
    },
    "kernelspec": {
      "name": "python3",
      "display_name": "Python 3"
    }
  },
  "cells": [
    {
      "cell_type": "markdown",
      "metadata": {
        "id": "view-in-github",
        "colab_type": "text"
      },
      "source": [
        "<a href=\"https://colab.research.google.com/github/margolek/python-basics/blob/main/Python_theory.ipynb\" target=\"_parent\"><img src=\"https://colab.research.google.com/assets/colab-badge.svg\" alt=\"Open In Colab\"/></a>"
      ]
    },
    {
      "cell_type": "markdown",
      "metadata": {
        "id": "cNEMnjVPJJBE"
      },
      "source": [
        "# Variables"
      ]
    },
    {
      "cell_type": "markdown",
      "metadata": {
        "id": "vj8PjnGbW_FC"
      },
      "source": [
        "We have integer and float number"
      ]
    },
    {
      "cell_type": "code",
      "metadata": {
        "colab": {
          "base_uri": "https://localhost:8080/"
        },
        "id": "RongAtqTo-Rk",
        "outputId": "8ffb5a6d-a42a-4eaf-8703-89e54e4780e1"
      },
      "source": [
        "a = 4*6\n",
        "b = 4/7\n",
        "print(\"a = \",a) \n",
        "print(\"b = \", b) "
      ],
      "execution_count": null,
      "outputs": [
        {
          "output_type": "stream",
          "text": [
            "a =  24\n",
            "b =  0.5714285714285714\n"
          ],
          "name": "stdout"
        }
      ]
    },
    {
      "cell_type": "code",
      "metadata": {
        "id": "3yAYyTCsJNuE"
      },
      "source": [
        ""
      ],
      "execution_count": null,
      "outputs": []
    },
    {
      "cell_type": "markdown",
      "metadata": {
        "id": "0Qpz-CYkuWzS"
      },
      "source": [
        "\\ - mean new line\n",
        "\n",
        "r - raw string (do not use special signs)"
      ]
    },
    {
      "cell_type": "code",
      "metadata": {
        "colab": {
          "base_uri": "https://localhost:8080/"
        },
        "id": "jV5XMt5IC4X6",
        "outputId": "8f8eccad-a4f5-4d67-cead-d3764e0c2ca0"
      },
      "source": [
        "print(\"new\\bin\")\n",
        "print(r\"new\\bin\")"
      ],
      "execution_count": null,
      "outputs": [
        {
          "output_type": "stream",
          "text": [
            "new\bin\n",
            "new\\bin\n"
          ],
          "name": "stdout"
        }
      ]
    },
    {
      "cell_type": "markdown",
      "metadata": {
        "id": "7UU3Lhf_DdvF"
      },
      "source": [
        "_ - output of previous operation"
      ]
    },
    {
      "cell_type": "code",
      "metadata": {
        "id": "oF3PsFgHDiO1"
      },
      "source": [
        "x = 5\n",
        "x - 4\n",
        "_ * 5"
      ],
      "execution_count": null,
      "outputs": []
    },
    {
      "cell_type": "markdown",
      "metadata": {
        "id": "m7vxQfdQEiUk"
      },
      "source": [
        "We can add string"
      ]
    },
    {
      "cell_type": "code",
      "metadata": {
        "colab": {
          "base_uri": "https://localhost:8080/",
          "height": 35
        },
        "id": "MXk1U_-kEl1y",
        "outputId": "5e703e16-d34f-45a3-9715-acc1a4594f48"
      },
      "source": [
        "name = 'Pawer'\n",
        "name + ' Gaweł'"
      ],
      "execution_count": null,
      "outputs": [
        {
          "output_type": "execute_result",
          "data": {
            "application/vnd.google.colaboratory.intrinsic+json": {
              "type": "string"
            },
            "text/plain": [
              "'Pawer Gaweł'"
            ]
          },
          "metadata": {
            "tags": []
          },
          "execution_count": 48
        }
      ]
    },
    {
      "cell_type": "markdown",
      "metadata": {
        "id": "gsjb_o77Fkjl"
      },
      "source": [
        "List in string"
      ]
    },
    {
      "cell_type": "code",
      "metadata": {
        "colab": {
          "base_uri": "https://localhost:8080/"
        },
        "id": "SVmylLwPFnkB",
        "outputId": "0d49454f-b51e-4377-f850-8eff4b03415b"
      },
      "source": [
        "name = 'YoutubeString'\n",
        "print(name[2])\n",
        "print(name[-5])\n",
        "print(name[1:4])\n",
        "print(name[1:])\n",
        "print(name[:3])\n"
      ],
      "execution_count": null,
      "outputs": [
        {
          "output_type": "stream",
          "text": [
            "u\n",
            "t\n",
            "out\n",
            "outubeString\n",
            "You\n",
            "\n"
          ],
          "name": "stdout"
        }
      ]
    },
    {
      "cell_type": "markdown",
      "metadata": {
        "id": "kMc0LRQbM1Ww"
      },
      "source": [
        "The same data are in the same 'box' (have the same address)"
      ]
    },
    {
      "cell_type": "code",
      "metadata": {
        "colab": {
          "base_uri": "https://localhost:8080/"
        },
        "id": "q-w03nFOMnAH",
        "outputId": "0e314258-694f-474b-e0ae-8d93ab70b69d"
      },
      "source": [
        "a = 10\n",
        "b = a\n",
        "print(id(a))\n",
        "print(id(b))"
      ],
      "execution_count": null,
      "outputs": [
        {
          "output_type": "stream",
          "text": [
            "10914784\n",
            "10914784\n"
          ],
          "name": "stdout"
        }
      ]
    },
    {
      "cell_type": "markdown",
      "metadata": {
        "id": "MgRjvjFOIVj6"
      },
      "source": [
        "# **Lists**"
      ]
    },
    {
      "cell_type": "markdown",
      "metadata": {
        "id": "_Ep0rbDSRQno"
      },
      "source": [
        "[Docoumentation](https://docs.python.org/3/tutorial/datastructures.html#more-on-lists)"
      ]
    },
    {
      "cell_type": "code",
      "metadata": {
        "colab": {
          "base_uri": "https://localhost:8080/"
        },
        "id": "prmRt5w-IZ9o",
        "outputId": "15a9725a-d743-44a2-e125-ad347e66f1fd"
      },
      "source": [
        "nums = [5,4,6,7]\n",
        "print(nums[-1])\n",
        "names = ['Kewin', 'John', 'Muhamed']\n",
        "print(names[2:4])\n",
        "mil = [nums,names]\n",
        "print(mil)\n",
        "nums.append(5)\n",
        "print(nums)\n",
        "nums.insert(2,8)\n",
        "print(nums)\n",
        "nums.pop(1)\n",
        "print(nums)\n",
        "del nums[2:]\n",
        "print(nums)\n",
        "nums.extend([23,54,32,55])\n",
        "print(nums)\n",
        "min(nums)\n",
        "max(nums)\n",
        "sum(nums)\n",
        "nums.sort()"
      ],
      "execution_count": null,
      "outputs": [
        {
          "output_type": "stream",
          "text": [
            "7\n",
            "['Muhamed']\n",
            "[[5, 4, 6, 7], ['Kewin', 'John', 'Muhamed']]\n",
            "[5, 4, 6, 7, 5]\n",
            "[5, 4, 8, 6, 7, 5]\n",
            "[5, 8, 6, 7, 5]\n",
            "[5, 8]\n",
            "[5, 8, 23, 54, 32, 55]\n"
          ],
          "name": "stdout"
        }
      ]
    },
    {
      "cell_type": "markdown",
      "metadata": {
        "id": "LSQQIZoBS0OR"
      },
      "source": [
        "# Tuple\n"
      ]
    },
    {
      "cell_type": "markdown",
      "metadata": {
        "id": "R745MYtFUQ6h"
      },
      "source": [
        "Tuple is faster than a list and we use it when we need not to change any value\n",
        "\n",
        "count() - method that count number of argument\n",
        "index() - dispay number of index input argument"
      ]
    },
    {
      "cell_type": "code",
      "metadata": {
        "colab": {
          "base_uri": "https://localhost:8080/"
        },
        "id": "-Gej5njlS8ew",
        "outputId": "0ecfffb9-cc3d-4242-8b4a-a5d00e63eb66"
      },
      "source": [
        "tup = (34,34,231,53)\n",
        "print(tup)\n",
        "tup[1]\n",
        "tup.count(34)\n",
        "\n",
        "s= {23,54,654,32}\n",
        "print(s)"
      ],
      "execution_count": null,
      "outputs": [
        {
          "output_type": "stream",
          "text": [
            "(34, 34, 231, 53)\n",
            "{32, 654, 54, 23}\n"
          ],
          "name": "stdout"
        }
      ]
    },
    {
      "cell_type": "markdown",
      "metadata": {
        "id": "HEvdgGmVDVi9"
      },
      "source": [
        "# Dictionary"
      ]
    },
    {
      "cell_type": "markdown",
      "metadata": {
        "id": "MSxvkMoHDrI5"
      },
      "source": [
        "We use dictionary when we have key and value"
      ]
    },
    {
      "cell_type": "code",
      "metadata": {
        "colab": {
          "base_uri": "https://localhost:8080/",
          "height": 69
        },
        "id": "QczVLWsrDaKt",
        "outputId": "02be450c-014b-44be-b95f-9ba0c71fa551"
      },
      "source": [
        "data = {1:'Slawek',2:'Serafin',4:'Krakow'}\n",
        "print(data)\n",
        "print(data[2])\n",
        "data.get(1,'Not Found')\n",
        "data.get(3,'Not Found')\n"
      ],
      "execution_count": null,
      "outputs": [
        {
          "output_type": "stream",
          "text": [
            "{1: 'Slawek', 2: 'Serafin', 4: 'Krakow'}\n",
            "Serafin\n"
          ],
          "name": "stdout"
        },
        {
          "output_type": "execute_result",
          "data": {
            "application/vnd.google.colaboratory.intrinsic+json": {
              "type": "string"
            },
            "text/plain": [
              "'Not Found'"
            ]
          },
          "metadata": {
            "tags": []
          },
          "execution_count": 6
        }
      ]
    },
    {
      "cell_type": "markdown",
      "metadata": {
        "id": "LKOTMX2DFuAM"
      },
      "source": [
        "We make combination of list and dictionaries"
      ]
    },
    {
      "cell_type": "code",
      "metadata": {
        "colab": {
          "base_uri": "https://localhost:8080/"
        },
        "id": "fYLNUnaBFWNE",
        "outputId": "b79c0fd3-bb35-4f43-a1da-e0cf75a68f4c"
      },
      "source": [
        "keys = ['Slawek','John','Muhamed']\n",
        "values = ['Python','Java','C++']\n",
        "data = dict(zip(keys,values))\n",
        "print(data)\n",
        "data['George'] = 'css'\n",
        "print(data)\n",
        "del data['John']\n",
        "print(data)\n"
      ],
      "execution_count": null,
      "outputs": [
        {
          "output_type": "stream",
          "text": [
            "{'Slawek': 'Python', 'John': 'Java', 'Muhamed': 'C++'}\n",
            "{'Slawek': 'Python', 'John': 'Java', 'Muhamed': 'C++', 'George': 'css'}\n",
            "{'Slawek': 'Python', 'Muhamed': 'C++', 'George': 'css'}\n"
          ],
          "name": "stdout"
        }
      ]
    },
    {
      "cell_type": "markdown",
      "metadata": {
        "id": "oO6zrdfWHukO"
      },
      "source": [
        "Dicionaries inside another dictionary"
      ]
    },
    {
      "cell_type": "code",
      "metadata": {
        "colab": {
          "base_uri": "https://localhost:8080/"
        },
        "id": "MhG5Hc3hG0Sm",
        "outputId": "63b77833-76a7-401b-e7f5-e76861c51038"
      },
      "source": [
        "prog = {'JS':'Atom','CS':'VS','Python':['Pycharm','Sublime'],'Java':{'JSE':'Netbeans','JEE':'Eclipse'}}\n",
        "print(prog['Java'])\n",
        "print(prog['Java']['JEE'])"
      ],
      "execution_count": null,
      "outputs": [
        {
          "output_type": "stream",
          "text": [
            "{'JSE': 'Netbeans', 'JEE': 'Eclipse'}\n",
            "Eclipse\n"
          ],
          "name": "stdout"
        }
      ]
    },
    {
      "cell_type": "markdown",
      "metadata": {
        "id": "PJtZHvPHOW_l"
      },
      "source": [
        "# Data types"
      ]
    },
    {
      "cell_type": "markdown",
      "metadata": {
        "id": "8XC3aoy_PJjS"
      },
      "source": [
        "Types of numeric value"
      ]
    },
    {
      "cell_type": "code",
      "metadata": {
        "colab": {
          "base_uri": "https://localhost:8080/"
        },
        "id": "c7heKZDBOY7W",
        "outputId": "b62713e8-5043-4e72-fe36-38cf9ba2e7dc"
      },
      "source": [
        "num = 2.5\n",
        "print(type(num))\n",
        "num = 5\n",
        "print(type(num))\n",
        "num = 2+5j\n",
        "print(type(num))\n",
        "b = 4\n",
        "c = 3\n",
        "d = complex(b,c)\n",
        "print(d)\n",
        "bool = b > 3\n",
        "print(type(bool))"
      ],
      "execution_count": null,
      "outputs": [
        {
          "output_type": "stream",
          "text": [
            "<class 'float'>\n",
            "<class 'int'>\n",
            "<class 'complex'>\n",
            "(4+3j)\n",
            "<class 'bool'>\n"
          ],
          "name": "stdout"
        }
      ]
    },
    {
      "cell_type": "markdown",
      "metadata": {
        "id": "C50FssJDQWqV"
      },
      "source": [
        "Sequence type"
      ]
    },
    {
      "cell_type": "code",
      "metadata": {
        "colab": {
          "base_uri": "https://localhost:8080/"
        },
        "id": "VgKfeUWOQYbE",
        "outputId": "d4bbccd7-3c05-4a98-d35c-f976365eef23"
      },
      "source": [
        "lst = [23,54,65,32]\n",
        "print(type(lst))\n",
        "s = {23,54,76,54}\n",
        "print(type(s))\n",
        "t = (26,76,32,54)\n",
        "print(type(t))\n",
        "str = 'Slawek'\n",
        "print(type(str))\n",
        "lst2 = list(range(2,6,2))\n",
        "print(lst2)\n",
        "print(type(range(10)))\n",
        "d = {'Slawek':'Xiaomi','Julia':'IP8','John':'Samsung'}\n",
        "print(d.keys())\n",
        "print(type(d))"
      ],
      "execution_count": null,
      "outputs": [
        {
          "output_type": "stream",
          "text": [
            "<class 'list'>\n",
            "<class 'set'>\n",
            "<class 'tuple'>\n",
            "<class 'str'>\n",
            "[2, 4]\n",
            "<class 'range'>\n",
            "dict_keys(['Slawek', 'Julia', 'John'])\n",
            "<class 'dict'>\n"
          ],
          "name": "stdout"
        }
      ]
    },
    {
      "cell_type": "markdown",
      "metadata": {
        "id": "NYPx-ZCnZmRG"
      },
      "source": [
        "# Operators"
      ]
    },
    {
      "cell_type": "markdown",
      "metadata": {
        "id": "jx6tUxa9ZzKC"
      },
      "source": [
        "*Arithmetic Operators*"
      ]
    },
    {
      "cell_type": "code",
      "metadata": {
        "id": "QRsYG9NtZoQb"
      },
      "source": [
        "x = 2\n",
        "y = 3\n",
        "x+y\n",
        "x-y\n",
        "x*y\n",
        "x/y"
      ],
      "execution_count": null,
      "outputs": []
    },
    {
      "cell_type": "markdown",
      "metadata": {
        "id": "QxXwO4fyaEYs"
      },
      "source": [
        "*Assignment Operators*"
      ]
    },
    {
      "cell_type": "code",
      "metadata": {
        "colab": {
          "base_uri": "https://localhost:8080/"
        },
        "id": "z8YZJCPMaJG0",
        "outputId": "37856122-c6e6-4904-902e-f7574105c913"
      },
      "source": [
        "x=2\n",
        "x+=2\n",
        "print(x)\n",
        "x*=3\n",
        "print(x)\n",
        "a,b = 5,6\n",
        "print(a,b)"
      ],
      "execution_count": null,
      "outputs": [
        {
          "output_type": "stream",
          "text": [
            "4\n",
            "12\n",
            "5 6\n"
          ],
          "name": "stdout"
        }
      ]
    },
    {
      "cell_type": "markdown",
      "metadata": {
        "id": "Ql2l_AjBbE_G"
      },
      "source": [
        "*Unary operator*"
      ]
    },
    {
      "cell_type": "code",
      "metadata": {
        "colab": {
          "base_uri": "https://localhost:8080/"
        },
        "id": "GEYcXAPnbG89",
        "outputId": "49f7d6c8-e892-49d8-b0bf-865bf587a1ad"
      },
      "source": [
        "n = 7\n",
        "print(-n)"
      ],
      "execution_count": null,
      "outputs": [
        {
          "output_type": "stream",
          "text": [
            "-7\n"
          ],
          "name": "stdout"
        }
      ]
    },
    {
      "cell_type": "markdown",
      "metadata": {
        "id": "wpjAqghIbT75"
      },
      "source": [
        "*Relational Operators*"
      ]
    },
    {
      "cell_type": "code",
      "metadata": {
        "colab": {
          "base_uri": "https://localhost:8080/"
        },
        "id": "q6xyCggybWOX",
        "outputId": "4f4f1442-5c5d-436f-ea53-4255430b40b0"
      },
      "source": [
        "a,b = 5,6\n",
        "print(a>b)\n",
        "print(b>a)\n",
        "print(a==b)\n",
        "print(a<=b)\n",
        "print(a!=b)"
      ],
      "execution_count": null,
      "outputs": [
        {
          "output_type": "stream",
          "text": [
            "False\n",
            "True\n",
            "False\n",
            "True\n",
            "True\n"
          ],
          "name": "stdout"
        }
      ]
    },
    {
      "cell_type": "markdown",
      "metadata": {
        "id": "oyBIy4cZb-gk"
      },
      "source": [
        "*Logical operators*"
      ]
    },
    {
      "cell_type": "code",
      "metadata": {
        "colab": {
          "base_uri": "https://localhost:8080/"
        },
        "id": "6PCSe-0xcBVW",
        "outputId": "02a49339-ea4a-4a72-97e7-ba7d861e971f"
      },
      "source": [
        "a = 5\n",
        "b = 4\n",
        "print(a < b and b < 3)\n",
        "print(a < 3 or b > 2)\n",
        "x = True\n",
        "print(not x)"
      ],
      "execution_count": null,
      "outputs": [
        {
          "output_type": "stream",
          "text": [
            "False\n",
            "True\n",
            "False\n"
          ],
          "name": "stdout"
        }
      ]
    },
    {
      "cell_type": "markdown",
      "metadata": {
        "id": "Pv8IZmOsdAvO"
      },
      "source": [
        "# Number conversion"
      ]
    },
    {
      "cell_type": "code",
      "metadata": {
        "colab": {
          "base_uri": "https://localhost:8080/"
        },
        "id": "spBW9k16dDOH",
        "outputId": "a46ac2ca-987f-4aff-c3ad-67eede6cf170"
      },
      "source": [
        "print(bin(25))\n",
        "print(oct(25))\n",
        "print(hex(25))"
      ],
      "execution_count": null,
      "outputs": [
        {
          "output_type": "stream",
          "text": [
            "0b11001\n",
            "0o31\n",
            "0x19\n"
          ],
          "name": "stdout"
        }
      ]
    },
    {
      "cell_type": "markdown",
      "metadata": {
        "id": "NRASy0M0fjoI"
      },
      "source": [
        "# Swap two variables"
      ]
    },
    {
      "cell_type": "code",
      "metadata": {
        "colab": {
          "base_uri": "https://localhost:8080/"
        },
        "id": "kMdqBBULfmOc",
        "outputId": "ce8221d0-e583-422a-f74b-38d44673f730"
      },
      "source": [
        "a = 5\n",
        "b = 6\n",
        "\n",
        "a = a ^ b #Komentowanie kodu\n",
        "b = a ^ b\n",
        "a = a ^ b\n",
        "\n",
        "a,b = b,a\n",
        "\n",
        "print(a)\n",
        "print(b)"
      ],
      "execution_count": null,
      "outputs": [
        {
          "output_type": "stream",
          "text": [
            "5\n",
            "6\n"
          ],
          "name": "stdout"
        }
      ]
    },
    {
      "cell_type": "markdown",
      "metadata": {
        "id": "qjUx9rAcQ8SQ"
      },
      "source": [
        "# BitWise Operators\n"
      ]
    },
    {
      "cell_type": "markdown",
      "metadata": {
        "id": "DTrFFdm6TF3p"
      },
      "source": [
        "*Complement*"
      ]
    },
    {
      "cell_type": "code",
      "metadata": {
        "colab": {
          "base_uri": "https://localhost:8080/"
        },
        "id": "jIBjNdMEQ_u1",
        "outputId": "b3e990ae-f7b4-44c4-8719-5d13e61b074d"
      },
      "source": [
        "print(~12)\n",
        "print(~25)\n",
        "print(~23)"
      ],
      "execution_count": null,
      "outputs": [
        {
          "output_type": "stream",
          "text": [
            "-13\n",
            "-26\n",
            "-24\n"
          ],
          "name": "stdout"
        }
      ]
    },
    {
      "cell_type": "markdown",
      "metadata": {
        "id": "nqvdok0yhepI"
      },
      "source": [
        "*AND*\n"
      ]
    },
    {
      "cell_type": "code",
      "metadata": {
        "colab": {
          "base_uri": "https://localhost:8080/",
          "height": 52
        },
        "id": "nEl1b4G8hh0S",
        "outputId": "eb2b056f-fa86-43d7-a210-0b27e50cccde"
      },
      "source": [
        "print(12 & 13)\n"
      ],
      "execution_count": null,
      "outputs": [
        {
          "output_type": "stream",
          "text": [
            "12\n"
          ],
          "name": "stdout"
        },
        {
          "output_type": "execute_result",
          "data": {
            "application/vnd.google.colaboratory.intrinsic+json": {
              "type": "string"
            },
            "text/plain": [
              "'0b1101'"
            ]
          },
          "metadata": {
            "tags": []
          },
          "execution_count": 12
        }
      ]
    },
    {
      "cell_type": "markdown",
      "metadata": {
        "id": "xaFpT3j1iP0f"
      },
      "source": [
        "*Or*"
      ]
    },
    {
      "cell_type": "code",
      "metadata": {
        "colab": {
          "base_uri": "https://localhost:8080/"
        },
        "id": "_Y0sg7wiiRs2",
        "outputId": "00a013f4-ce52-473a-c3ce-3f1d156cedae"
      },
      "source": [
        "print(12 | 13)"
      ],
      "execution_count": null,
      "outputs": [
        {
          "output_type": "stream",
          "text": [
            "13\n"
          ],
          "name": "stdout"
        }
      ]
    },
    {
      "cell_type": "markdown",
      "metadata": {
        "id": "0yY7Tnt4jFCm"
      },
      "source": [
        "*XOR*"
      ]
    },
    {
      "cell_type": "code",
      "metadata": {
        "colab": {
          "base_uri": "https://localhost:8080/"
        },
        "id": "Brgh6MygjG2p",
        "outputId": "191e223e-d403-4d43-9f9e-b5fd624958ac"
      },
      "source": [
        "print(12 ^ 13)"
      ],
      "execution_count": null,
      "outputs": [
        {
          "output_type": "stream",
          "text": [
            "1\n"
          ],
          "name": "stdout"
        }
      ]
    },
    {
      "cell_type": "markdown",
      "metadata": {
        "id": "LIK1XEbEjXdR"
      },
      "source": [
        "*left shift and right shift*"
      ]
    },
    {
      "cell_type": "code",
      "metadata": {
        "colab": {
          "base_uri": "https://localhost:8080/"
        },
        "id": "maxV8s_zjZWB",
        "outputId": "7f307914-ff64-4e5f-c9e5-bc7851cbe33a"
      },
      "source": [
        "bin(10)\n",
        "print(10 << 2)\n",
        "print(10 >> 2)"
      ],
      "execution_count": null,
      "outputs": [
        {
          "output_type": "stream",
          "text": [
            "40\n",
            "2\n"
          ],
          "name": "stdout"
        },
        {
          "output_type": "execute_result",
          "data": {
            "text/plain": [
              "2"
            ]
          },
          "metadata": {
            "tags": []
          },
          "execution_count": 21
        }
      ]
    },
    {
      "cell_type": "code",
      "metadata": {
        "id": "Pl8P6jTNks9n"
      },
      "source": [
        ""
      ],
      "execution_count": null,
      "outputs": []
    },
    {
      "cell_type": "markdown",
      "metadata": {
        "id": "nkZkZrthk2Uu"
      },
      "source": [
        "# Import math function"
      ]
    },
    {
      "cell_type": "code",
      "metadata": {
        "colab": {
          "base_uri": "https://localhost:8080/"
        },
        "id": "FUzeLtG2k4-B",
        "outputId": "3961de3e-4a65-40d7-bd4b-36a65743355e"
      },
      "source": [
        "import math\n",
        "x = math.sqrt(25)\n",
        "print(x)\n",
        "y = math.sqrt(29)\n",
        "print('sqrt() = ',y)\n",
        "print('floor() = ',math.floor(y))\n",
        "print('ceil() = ', math.ceil(y))\n",
        "print('pow() = ', math.pow(y,2))\n"
      ],
      "execution_count": null,
      "outputs": [
        {
          "output_type": "stream",
          "text": [
            "5.0\n",
            "sqrt() =  5.385164807134504\n",
            "floor() =  5\n",
            "ceil() =  6\n",
            "pow() =  28.999999999999996\n"
          ],
          "name": "stdout"
        }
      ]
    },
    {
      "cell_type": "code",
      "metadata": {
        "colab": {
          "base_uri": "https://localhost:8080/"
        },
        "id": "i-c7OJZpnI1Z",
        "outputId": "6b45923f-b504-42d6-87da-a6866e8d5e32"
      },
      "source": [
        "import math as m\n",
        "x = m.sqrt(32)\n",
        "print(x)"
      ],
      "execution_count": null,
      "outputs": [
        {
          "output_type": "stream",
          "text": [
            "5.656854249492381\n"
          ],
          "name": "stdout"
        }
      ]
    },
    {
      "cell_type": "code",
      "metadata": {
        "colab": {
          "base_uri": "https://localhost:8080/"
        },
        "id": "lyAxCwW3ocue",
        "outputId": "f1be364e-42fd-41c8-b83c-48450ac3efcc"
      },
      "source": [
        "#import only function we need\n",
        "from math import sqrt\n",
        "sqrt(43)"
      ],
      "execution_count": null,
      "outputs": [
        {
          "output_type": "execute_result",
          "data": {
            "text/plain": [
              "6.557438524302"
            ]
          },
          "metadata": {
            "tags": []
          },
          "execution_count": 32
        }
      ]
    },
    {
      "cell_type": "markdown",
      "metadata": {
        "id": "WVrV3pgN3Y3u"
      },
      "source": [
        "# User input"
      ]
    },
    {
      "cell_type": "code",
      "metadata": {
        "id": "nc3_ZdQh3auM"
      },
      "source": [
        "#Numbers\n",
        "x = input('Enter 1 number')\n",
        "a = int(x)\n",
        "y = input('Enter 2nd number')\n",
        "b = int(y)\n",
        "z = a+b\n",
        "print(z)\n",
        "print(type(z))"
      ],
      "execution_count": null,
      "outputs": []
    },
    {
      "cell_type": "code",
      "metadata": {
        "id": "t6RDwpqY5vml"
      },
      "source": [
        "#numbers\n",
        "x = int(input('Enter 1 number'))\n",
        "y = int(input('Enter 2nd number'))\n",
        "z = x+y\n",
        "print(z)\n",
        "print(type(z))"
      ],
      "execution_count": null,
      "outputs": []
    },
    {
      "cell_type": "code",
      "metadata": {
        "id": "PJ3BN0fI6RdG"
      },
      "source": [
        "#characters\n",
        "ch = input('Enter a char: ')[0]\n",
        "print(ch)\n",
        "result = eval(input('Enter an expresion: '))\n",
        "print(result)"
      ],
      "execution_count": null,
      "outputs": []
    },
    {
      "cell_type": "markdown",
      "metadata": {
        "id": "sBLRCqIa7gwv"
      },
      "source": [
        "*Using argv*\n"
      ]
    },
    {
      "cell_type": "code",
      "metadata": {
        "id": "8vro3ctJ7j58"
      },
      "source": [
        "#Execute in console\n",
        "import sys\n",
        "x = int(argv[1])\n",
        "y = int(argv[2])\n",
        "\n",
        "z = x+y\n",
        "print(z)"
      ],
      "execution_count": null,
      "outputs": []
    },
    {
      "cell_type": "markdown",
      "metadata": {
        "id": "8VA2zY_YdE7w"
      },
      "source": [
        "# Logic"
      ]
    },
    {
      "cell_type": "markdown",
      "metadata": {
        "id": "QDDSaTXJiDAF"
      },
      "source": [
        "*If Else*"
      ]
    },
    {
      "cell_type": "code",
      "metadata": {
        "colab": {
          "base_uri": "https://localhost:8080/"
        },
        "id": "FWv8zYQtdI_P",
        "outputId": "f402f780-7311-4287-9afa-95a7af5ae9cf"
      },
      "source": [
        "x = 8\n",
        "r = x % 2\n",
        "\n",
        "if r==0:\n",
        "  print(\"Even\")\n",
        "else:\n",
        "  print('else')"
      ],
      "execution_count": null,
      "outputs": [
        {
          "output_type": "stream",
          "text": [
            "Even\n"
          ],
          "name": "stdout"
        }
      ]
    },
    {
      "cell_type": "markdown",
      "metadata": {
        "id": "7K4rZfOfiFKr"
      },
      "source": [
        "*If Elif else*"
      ]
    },
    {
      "cell_type": "code",
      "metadata": {
        "id": "wecZrbzshJSn"
      },
      "source": [
        "x = 2\n",
        "\n",
        "if x==1:\n",
        "  print(1)\n",
        "\n",
        "elif x==2:\n",
        "  print(2)\n",
        "\n",
        "elif x==3:\n",
        "  print(3)\n",
        "\n",
        "else:\n",
        "  print('Wring input')\n"
      ],
      "execution_count": null,
      "outputs": []
    },
    {
      "cell_type": "markdown",
      "metadata": {
        "id": "ZCc0I7P9iNR1"
      },
      "source": [
        "*While*"
      ]
    },
    {
      "cell_type": "code",
      "metadata": {
        "colab": {
          "base_uri": "https://localhost:8080/"
        },
        "id": "KuyGCogTiTxh",
        "outputId": "1acde293-6920-4b9f-85df-33bb2c9d13ce"
      },
      "source": [
        "i = 1 #initialization\n",
        "\n",
        "while i<=5: #condition\n",
        "  print(i)\n",
        "  i+=1 #inkrement"
      ],
      "execution_count": null,
      "outputs": [
        {
          "output_type": "stream",
          "text": [
            "1\n",
            "2\n",
            "3\n",
            "4\n",
            "5\n"
          ],
          "name": "stdout"
        }
      ]
    },
    {
      "cell_type": "markdown",
      "metadata": {
        "id": "idvKpA_gl8-s"
      },
      "source": [
        "*for*\n"
      ]
    },
    {
      "cell_type": "code",
      "metadata": {
        "colab": {
          "base_uri": "https://localhost:8080/"
        },
        "id": "wLnMvL0al_D7",
        "outputId": "7122e8fd-a139-40df-f8b4-a46aafaaffea"
      },
      "source": [
        "x = ['slawek',65,2.5]\n",
        "y = 'SLAWEK'\n",
        "\n",
        "for n in x:\n",
        "  print(n)\n",
        "\n",
        "for n in y:\n",
        "  print(n)\n",
        "\n",
        "for n in range(2,6,1):\n",
        "  print(n)"
      ],
      "execution_count": null,
      "outputs": [
        {
          "output_type": "stream",
          "text": [
            "slawek\n",
            "65\n",
            "2.5\n",
            "S\n",
            "L\n",
            "A\n",
            "W\n",
            "E\n",
            "K\n",
            "2\n",
            "3\n",
            "4\n",
            "5\n"
          ],
          "name": "stdout"
        }
      ]
    },
    {
      "cell_type": "markdown",
      "metadata": {
        "id": "4Pf0N-1Mn1Fo"
      },
      "source": [
        "*break and continue*"
      ]
    },
    {
      "cell_type": "code",
      "metadata": {
        "id": "-ksAGtqVn3Qd"
      },
      "source": [
        "av = 5\n",
        "\n",
        "\n",
        "x = int(input('How many candys u want? '))\n",
        "\n",
        "i = 1\n",
        "while i<=x:\n",
        "  if i>av:\n",
        "    break #the way how to jump out from loop\n",
        "  else:\n",
        "    print('Candy')\n",
        "    i+=1\n",
        "\n",
        "\n"
      ],
      "execution_count": null,
      "outputs": []
    },
    {
      "cell_type": "code",
      "metadata": {
        "id": "Yf6P9N713zkB"
      },
      "source": [
        "for n in range(1,15):\n",
        "  if n%3==0 or n%5==0:\n",
        "    continue\n",
        "  print(n)"
      ],
      "execution_count": null,
      "outputs": []
    },
    {
      "cell_type": "code",
      "metadata": {
        "id": "J9gbED8a5hpA"
      },
      "source": [
        "for n in range(10):\n",
        "  if n%2==0:\n",
        "    pass #do nothing\n",
        "  else:\n",
        "    print(n)"
      ],
      "execution_count": null,
      "outputs": []
    },
    {
      "cell_type": "code",
      "metadata": {
        "colab": {
          "base_uri": "https://localhost:8080/"
        },
        "id": "OT3KwquOWg5p",
        "outputId": "6838252c-6fee-4d17-f788-14250df2560e"
      },
      "source": [
        "def fun():\n",
        "  pass #We can`t make empty funtion, to do nothing use pass\n",
        "a = 5\n",
        "print(a)"
      ],
      "execution_count": null,
      "outputs": [
        {
          "output_type": "stream",
          "text": [
            "5\n"
          ],
          "name": "stdout"
        }
      ]
    },
    {
      "cell_type": "markdown",
      "metadata": {
        "id": "GvX04tX6YU5Y"
      },
      "source": [
        "# Printing Patterns"
      ]
    },
    {
      "cell_type": "code",
      "metadata": {
        "id": "yoBY7ElAYZaZ"
      },
      "source": [
        "x = 5\n",
        "y = 6\n",
        "\n",
        "for n in range(y):\n",
        "  for n in range(x):\n",
        "    print('#',end = '')\n",
        "  print()\n",
        "\n",
        "  \n"
      ],
      "execution_count": null,
      "outputs": []
    },
    {
      "cell_type": "code",
      "metadata": {
        "id": "YJ3HafO5i0Mc"
      },
      "source": [
        "for n in range(4):\n",
        "  for m in range(n+1):\n",
        "    print('#', end = '')\n",
        "  print()"
      ],
      "execution_count": null,
      "outputs": []
    },
    {
      "cell_type": "code",
      "metadata": {
        "id": "qyv10opNkQeh"
      },
      "source": [
        "for n in range(4):\n",
        "  for m in range(4-n):\n",
        "    print('#', end='')\n",
        "  print()\n"
      ],
      "execution_count": null,
      "outputs": []
    },
    {
      "cell_type": "code",
      "metadata": {
        "id": "D7jm0JCDk5qK"
      },
      "source": [
        "for n in range(4):\n",
        "  for m in range(4-n):\n",
        "    print(m+n+1, end='')\n",
        "  print()"
      ],
      "execution_count": null,
      "outputs": []
    },
    {
      "cell_type": "markdown",
      "metadata": {
        "id": "WS0oHBIPlqC3"
      },
      "source": [
        "# For Else"
      ]
    },
    {
      "cell_type": "code",
      "metadata": {
        "colab": {
          "base_uri": "https://localhost:8080/"
        },
        "id": "TSEINie9ltC8",
        "outputId": "53f596ed-c598-42a5-d466-afb6dd50b8fd"
      },
      "source": [
        "nums = [4,7,3,7,3,10,15,30]\n",
        "\n",
        "for n in nums:\n",
        "  if n % 5 == 0:\n",
        "    print(n)\n",
        "    break\n",
        "\n",
        "else:\n",
        "  print('not found')"
      ],
      "execution_count": null,
      "outputs": [
        {
          "output_type": "stream",
          "text": [
            "10\n"
          ],
          "name": "stdout"
        }
      ]
    },
    {
      "cell_type": "markdown",
      "metadata": {
        "id": "EpdeQSm2rNLg"
      },
      "source": [
        "# Prime Number"
      ]
    },
    {
      "cell_type": "code",
      "metadata": {
        "colab": {
          "base_uri": "https://localhost:8080/"
        },
        "id": "3-rHYHwArPRm",
        "outputId": "c8761b2f-53a3-4bef-fd60-010553b2a5a9"
      },
      "source": [
        "num = 10\n",
        "\n",
        "for n in range(2,num):\n",
        "  if num % n == 0:\n",
        "    print('Not prime number')\n",
        "    break\n",
        "else:\n",
        "    print('Prime number')\n"
      ],
      "execution_count": null,
      "outputs": [
        {
          "output_type": "stream",
          "text": [
            "Not prime number\n"
          ],
          "name": "stdout"
        }
      ]
    },
    {
      "cell_type": "markdown",
      "metadata": {
        "id": "9G1h-DdTwXxG"
      },
      "source": [
        "# Array"
      ]
    },
    {
      "cell_type": "markdown",
      "metadata": {
        "id": "2I50uIaaJpKO"
      },
      "source": [
        "Array is a list but all elements must be in same type"
      ]
    },
    {
      "cell_type": "markdown",
      "metadata": {
        "id": "J5rvru6OLMMc"
      },
      "source": [
        "[Type Code](https://docs.python.org/2/library/array.html)\n"
      ]
    },
    {
      "cell_type": "code",
      "metadata": {
        "id": "66Z8EByZwZdX"
      },
      "source": [
        "from array import *\n",
        "\n",
        "vals = array('i',[5,9,5,2])\n",
        "\n",
        "newArr = array(vals.typecode,(a for a in vals))\n",
        "for n in newArr:\n",
        "  print(n)\n",
        "newArr1 = array(vals.typecode,(a*a for a in vals))\n",
        "for n in newArr1:\n",
        "  print(n)\n",
        "print(vals.buffer_info()) #(adres of array, size)\n",
        "print(vals.typecode)\n",
        "print(vals[3])"
      ],
      "execution_count": null,
      "outputs": []
    },
    {
      "cell_type": "code",
      "metadata": {
        "id": "AzMwNQevNVZ4"
      },
      "source": [
        "from array import *\n",
        "\n",
        "vals = array('u',['r','t','h'])\n",
        "for n in vals:\n",
        "  print(n)"
      ],
      "execution_count": null,
      "outputs": []
    },
    {
      "cell_type": "markdown",
      "metadata": {
        "id": "xsgvHm2mQ0p5"
      },
      "source": [
        "*Assignment Question*"
      ]
    },
    {
      "cell_type": "code",
      "metadata": {
        "id": "kkd8iv95Qzmj"
      },
      "source": [
        "from array import *\n",
        "\n",
        "vals = array('i',[5,23,6,8,4])\n",
        "\n",
        "print(\"Unsorted array:\")\n",
        "for n in vals:\n",
        "  print(n,end=' ')\n",
        "print()\n",
        "\n",
        "print('Sorted array:')\n",
        "sort = sorted(vals)\n",
        "for n in sort:\n",
        "  print(n,end=' ')\n",
        "print()\n",
        "\n",
        "print('Reverse sorting: ')\n",
        "sortRev = sorted(vals,reverse=True)\n",
        "for n in sortRev:\n",
        "  print(n, end=' ')\n",
        "print()\n",
        "\n"
      ],
      "execution_count": null,
      "outputs": []
    },
    {
      "cell_type": "code",
      "metadata": {
        "id": "2VqQOvnVTRH0"
      },
      "source": [
        "from array import *\n",
        "\n",
        "arr = array('i',[])\n",
        "\n",
        "n = int(input('Enter the length of the array: '))\n",
        "\n",
        "for i in range(n):\n",
        "  x = int(input('Enter the next value'))\n",
        "  arr.append(x)\n",
        "\n",
        "print(arr)\n",
        "\n"
      ],
      "execution_count": null,
      "outputs": []
    },
    {
      "cell_type": "markdown",
      "metadata": {
        "id": "LB6NwN_WciN_"
      },
      "source": [
        " Create an array with 5 values & delete the value at index no. 2 without using in-built function. "
      ]
    },
    {
      "cell_type": "code",
      "metadata": {
        "colab": {
          "base_uri": "https://localhost:8080/"
        },
        "id": "YsPHena8ckk8",
        "outputId": "c674bfe0-d73a-40d2-8874-9013f3a3b486"
      },
      "source": [
        "from array import *\n",
        "\n",
        "arr = array('i',[])\n",
        "for n in range(5):\n",
        "  x = int(input('Put array value:'))\n",
        "  arr.append(x)\n",
        "\n",
        "\n",
        "arr.remove(arr[2])\n",
        "print('Array with index no.2: ',arr)\n",
        "\n",
        "print('Array with no value with idex no.2: ',arr)\n",
        "\n",
        "#without built in function\n",
        "arr1 = array('i',[4,3,2,6])\n",
        "for n in arr1:\n",
        "  if arr1.index(n)==2:\n",
        "    del arr1[2]\n",
        "    break\n",
        "print('Manual method: ',arr1)"
      ],
      "execution_count": null,
      "outputs": [
        {
          "output_type": "stream",
          "text": [
            "Put array value:8\n",
            "Put array value:5\n",
            "Put array value:6\n",
            "Put array value:4\n",
            "Put array value:2\n",
            "Array with index no.2:  array('i', [8, 5, 4, 2])\n",
            "Array with no value with idex no.2:  array('i', [8, 5, 4, 2])\n",
            "Manual method:  array('i', [4, 3, 6])\n"
          ],
          "name": "stdout"
        }
      ]
    },
    {
      "cell_type": "markdown",
      "metadata": {
        "id": "dn3el9prdAxh"
      },
      "source": [
        "write a code to reverse an array without using in-built function"
      ]
    },
    {
      "cell_type": "code",
      "metadata": {
        "id": "tIdCibPadE6g"
      },
      "source": [
        "from array import *\n",
        "\n",
        "#built-in function\n",
        "arr = array('i', [5,3,6,2,7])\n",
        "print('Array in properly order: ', arr)\n",
        "arr.reverse()\n",
        "print('Array in reverse order: ',arr)\n",
        "print()\n",
        "#without built in function\n",
        "arr1 = array('i',[1,2,3,4,5])\n",
        "print('Array in properly order: ', arr1)\n",
        "\n",
        "#Błąd\n",
        "for i in range(len(arr1)): \n",
        " arr1[i] = arr1[-(i+1)]\n",
        "\n",
        "print(arr1)\n"
      ],
      "execution_count": null,
      "outputs": []
    },
    {
      "cell_type": "markdown",
      "metadata": {
        "id": "6olelsItsub4"
      },
      "source": [
        "*Why numpy* - pip3 install numpy"
      ]
    },
    {
      "cell_type": "code",
      "metadata": {
        "id": "MrkTh9a5t46M"
      },
      "source": [
        "from numpy import *\n",
        "\n",
        "arr = array([2,3,5,6],'i')#second argument optionally\n",
        "print(arr)"
      ],
      "execution_count": null,
      "outputs": []
    },
    {
      "cell_type": "markdown",
      "metadata": {
        "id": "fxoc9IxRvo3m"
      },
      "source": [
        "6 ways of creating array"
      ]
    },
    {
      "cell_type": "code",
      "metadata": {
        "id": "zWWM0sVrvkE5"
      },
      "source": [
        "from numpy import *\n",
        "\n",
        "arr = array([2,3,5,7,6])\n",
        "arr1 = linspace(0,15,16)#(start point,last point,number of samples)\n",
        "arr2 = arange(1,15,2)#(start point,last point,jump)\n",
        "arr3 = logspace(1,40,5)\n",
        "#print('%.2f' %arr3[4]) #ways of display\n",
        "arr4 = zeros(4,int)\n",
        "arr5 = ones(5,'int')\n",
        "print(arr5) \n"
      ],
      "execution_count": null,
      "outputs": []
    },
    {
      "cell_type": "markdown",
      "metadata": {
        "id": "zNxcmLP9Nq1g"
      },
      "source": [
        "#30 - Copying an Array"
      ]
    },
    {
      "cell_type": "code",
      "metadata": {
        "colab": {
          "base_uri": "https://localhost:8080/"
        },
        "id": "UJp33_QaNose",
        "outputId": "7346efe5-6681-4117-f1f7-72c7f4af343f"
      },
      "source": [
        "from numpy import *\n",
        "\n",
        "arr = array([1,2,3,4,5])\n",
        "arr1 = array([2,3,4,5,6])\n",
        "arr3 = arr+arr1 #each elements sum separately, vectorized operation\n",
        "arr4 = arr\n",
        "print(arr3)\n",
        "\n",
        "print(concatenate([arr,arr1]))\n",
        "\n",
        "sum = arr.sum()\n",
        "print(\"Sum: \", sum)\n",
        "print([id(arr),id(arr4)])\n"
      ],
      "execution_count": null,
      "outputs": [
        {
          "output_type": "stream",
          "text": [
            "[ 3  5  7  9 11]\n",
            "[1 2 3 4 5 2 3 4 5 6]\n",
            "Sum:  15\n",
            "[139631554698336, 139631554698336]\n"
          ],
          "name": "stdout"
        }
      ]
    },
    {
      "cell_type": "markdown",
      "metadata": {
        "id": "ZHPxyrSkCZV2"
      },
      "source": [
        "Copy an array\n",
        "shallow copy(using viev() - if we change the value in one array connected array will updated automatically (we do not want it)\n",
        "deep copy - using copy()\n"
      ]
    },
    {
      "cell_type": "code",
      "metadata": {
        "id": "wCP2rCnPCdGW"
      },
      "source": [
        "from numpy import *\n",
        "\n",
        "arr1 = array([4,6,8,4])\n",
        "\n",
        "arr2 = arr1\n",
        "arr3 = arr1.view()\n",
        "arr4 = arr1.copy()\n",
        "print(arr2)\n",
        "\n",
        "print(id(arr1))\n",
        "print(id(arr2)) #Aliasing - two array refer to same address\n",
        "\n",
        "arr3 = arr1.view()\n",
        "print(id(arr3))\n",
        "\n",
        "\n"
      ],
      "execution_count": null,
      "outputs": []
    },
    {
      "cell_type": "markdown",
      "metadata": {
        "id": "0OutBK6vEyl-"
      },
      "source": [
        "**Assignment**\n",
        "1. write a code to add 2 arrays using for loop\n",
        "2. Write a code to find the maximum value from an array without using in-built funtion"
      ]
    },
    {
      "cell_type": "code",
      "metadata": {
        "id": "DuKfCBE4FFXQ"
      },
      "source": [
        "#Do zrobienia\n",
        "from numpy import *\n",
        "\n",
        "arr1 = array([1,2,3,4,5])\n",
        "arr2 = array([4,5,3,2,2])\n",
        "\n",
        "for n in arr1:\n",
        "  for m in arr2:\n",
        "    if indices(arr1)==indices(arr2):\n",
        "    aarr1+arr2\n",
        "    \n",
        "  print(n,end='')\n",
        "\n",
        "print()\n",
        "\n",
        "for n in arr2:\n",
        "  print(n,end='')\n",
        "\n",
        "\n",
        "\n",
        "\n"
      ],
      "execution_count": null,
      "outputs": []
    },
    {
      "cell_type": "code",
      "metadata": {
        "id": "86w7u12PJOcp"
      },
      "source": [
        "from numpy import *\n",
        "#Wrocić tu po ogarnięciu funkcji\n",
        "arr1 = array([1,2,3,5,7,3,5])\n",
        "\n"
      ],
      "execution_count": null,
      "outputs": []
    },
    {
      "cell_type": "markdown",
      "metadata": {
        "id": "uPMnVuD-YM75"
      },
      "source": [
        "# 31 - Working with matrix"
      ]
    },
    {
      "cell_type": "code",
      "metadata": {
        "id": "ZAe3vq2vYSEz",
        "colab": {
          "base_uri": "https://localhost:8080/",
          "height": 469
        },
        "outputId": "d0acef9c-9801-414b-bd51-c2e0514c3f63"
      },
      "source": [
        "from numpy import *\n",
        "\n",
        "arr1 = array([[1,2,3,7,5,4],[3,4,5,7,5,4]])\n",
        "arr2 = arr1.flatten()\n",
        "arr3 = arr2.reshape(3,4)\n",
        "m = matrix(arr1)\n",
        "mat = matrix('1 2 3 4 6; 2 2 3 4 5;2 3 4 5 3;2 3 4 5 7;5 3 6 3 2')\n",
        "dia = diagonal(mat)\n",
        "m1 = matrix('1 2 3; 4 5 6; 7 8 9')\n",
        "m2 = matrix('9 8 7; 8 6 5; 9 4 3')\n",
        "m3 = m1*m2\n",
        "\n",
        "\n",
        "print(arr1)\n",
        "print('diemnsion = ',arr1.ndim)\n",
        "print('Number of rows and columns: ',arr1.shape)\n",
        "print('Size: ', arr1.size)\n",
        "print('Make two dimenional matrix from one dimention: ',arr2)\n",
        "print('Make matrix in format (rows,columns) from one dimension: \\n', arr3)\n",
        "print('With matrix we can do more maths operations: \\n', m)\n",
        "print()\n",
        "print(n)\n",
        "print()\n",
        "print(dia)\n",
        "print()\n",
        "print(m1)\n",
        "print()\n",
        "print('Multiplication matrix: \\n', m3)\n"
      ],
      "execution_count": null,
      "outputs": [
        {
          "output_type": "stream",
          "text": [
            "[[1 2 3 7 5 4]\n",
            " [3 4 5 7 5 4]]\n",
            "diemnsion =  2\n",
            "Number of rows and columns:  (2, 6)\n",
            "Size:  12\n",
            "Make two dimenional matrix from one dimention:  [1 2 3 7 5 4 3 4 5 7 5 4]\n",
            "Make matrix in format (rows,columns) from one dimension: \n",
            " [[1 2 3 7]\n",
            " [5 4 3 4]\n",
            " [5 7 5 4]]\n",
            "With matrix we can do more maths operations: \n",
            " [[1 2 3 7 5 4]\n",
            " [3 4 5 7 5 4]]\n",
            "\n"
          ],
          "name": "stdout"
        },
        {
          "output_type": "error",
          "ename": "NameError",
          "evalue": "ignored",
          "traceback": [
            "\u001b[0;31m---------------------------------------------------------------------------\u001b[0m",
            "\u001b[0;31mNameError\u001b[0m                                 Traceback (most recent call last)",
            "\u001b[0;32m<ipython-input-1-52f95b0d56ad>\u001b[0m in \u001b[0;36m<module>\u001b[0;34m()\u001b[0m\n\u001b[1;32m     20\u001b[0m \u001b[0mprint\u001b[0m\u001b[0;34m(\u001b[0m\u001b[0;34m'With matrix we can do more maths operations: \\n'\u001b[0m\u001b[0;34m,\u001b[0m \u001b[0mm\u001b[0m\u001b[0;34m)\u001b[0m\u001b[0;34m\u001b[0m\u001b[0;34m\u001b[0m\u001b[0m\n\u001b[1;32m     21\u001b[0m \u001b[0mprint\u001b[0m\u001b[0;34m(\u001b[0m\u001b[0;34m)\u001b[0m\u001b[0;34m\u001b[0m\u001b[0;34m\u001b[0m\u001b[0m\n\u001b[0;32m---> 22\u001b[0;31m \u001b[0mprint\u001b[0m\u001b[0;34m(\u001b[0m\u001b[0mn\u001b[0m\u001b[0;34m)\u001b[0m\u001b[0;34m\u001b[0m\u001b[0;34m\u001b[0m\u001b[0m\n\u001b[0m\u001b[1;32m     23\u001b[0m \u001b[0mprint\u001b[0m\u001b[0;34m(\u001b[0m\u001b[0;34m)\u001b[0m\u001b[0;34m\u001b[0m\u001b[0;34m\u001b[0m\u001b[0m\n\u001b[1;32m     24\u001b[0m \u001b[0mprint\u001b[0m\u001b[0;34m(\u001b[0m\u001b[0mdia\u001b[0m\u001b[0;34m)\u001b[0m\u001b[0;34m\u001b[0m\u001b[0;34m\u001b[0m\u001b[0m\n",
            "\u001b[0;31mNameError\u001b[0m: name 'n' is not defined"
          ]
        }
      ]
    },
    {
      "cell_type": "markdown",
      "metadata": {
        "id": "1KcnM2ZxddEU"
      },
      "source": [
        "*Assignment*\n",
        "Write a code to multiply 2 Matrix"
      ]
    },
    {
      "cell_type": "code",
      "metadata": {
        "id": "5vO1eZU4eKug"
      },
      "source": [
        ""
      ],
      "execution_count": null,
      "outputs": []
    },
    {
      "cell_type": "markdown",
      "metadata": {
        "id": "DDvfSk8beQPS"
      },
      "source": [
        "# 32 Functions"
      ]
    },
    {
      "cell_type": "code",
      "metadata": {
        "colab": {
          "base_uri": "https://localhost:8080/"
        },
        "id": "bGsXNZRreTo-",
        "outputId": "6de805d2-e105-4f65-fa7d-5ec7fe3693cb"
      },
      "source": [
        "def greet():\n",
        "  print('First function')\n",
        "\n",
        "def add(x,y):\n",
        "  c = x+y\n",
        "  return c\n",
        "\n",
        "def add_sub(x,y):\n",
        "  c = x+y\n",
        "  d = x-y\n",
        "  return c,d\n",
        "\n",
        "greet()\n",
        "result1 = add(5,4)\n",
        "print(result1)\n",
        "result2 = add_sub(7,5)\n",
        "print(result2)"
      ],
      "execution_count": 1,
      "outputs": [
        {
          "output_type": "stream",
          "name": "stdout",
          "text": [
            "First function\n",
            "9\n",
            "(12, 2)\n"
          ]
        }
      ]
    },
    {
      "cell_type": "markdown",
      "metadata": {
        "id": "bgrKbQj0abMy"
      },
      "source": [
        "## Function arguments\n",
        "\n",
        "Python do not use pass the referance neither pass the value\n",
        "pass the reference (the same address)\n",
        "\n",
        "1.   pass the reference (the same address)\n",
        "2.   pass the value (different address)"
      ]
    },
    {
      "cell_type": "code",
      "metadata": {
        "id": "OD0Mhef4aqWW"
      },
      "source": [
        "def update(x):\n",
        "  print(id(x))\n",
        "  x = 8\n",
        "  print(id(x))\n",
        "  print('x: ', x)\n",
        "\n",
        "a = 32\n",
        "print(id(a))\n",
        "update(a)\n",
        "print('a: ',a)"
      ],
      "execution_count": null,
      "outputs": []
    },
    {
      "cell_type": "markdown",
      "metadata": {
        "id": "eSIurUOuauyp"
      },
      "source": [
        "## Types of Arguments"
      ]
    },
    {
      "cell_type": "code",
      "metadata": {
        "id": "JmkhSMo9azqq"
      },
      "source": [
        "def add(a,b): #a,b - formal Arguments\n",
        "  c = a+b\n",
        "  print(c)\n",
        "\n",
        "\n",
        "add(5,6)"
      ],
      "execution_count": null,
      "outputs": []
    },
    {
      "cell_type": "markdown",
      "metadata": {
        "id": "MPobTy0BbKum"
      },
      "source": [
        "## **kwargs\n",
        "\n"
      ]
    },
    {
      "cell_type": "code",
      "metadata": {
        "id": "tVoE_0QLbXTm"
      },
      "source": [
        "def person(name,**data):\n",
        "\n",
        "  for key, value in data.items():\n",
        "    print(key,value)\n",
        "\n",
        "\n",
        "\n",
        "person('slawek',age=21,city='krakow',mob='422345345')"
      ],
      "execution_count": null,
      "outputs": []
    },
    {
      "cell_type": "markdown",
      "metadata": {
        "id": "SlVhVbDMbdl2"
      },
      "source": [
        "## Glocal vs local variable"
      ]
    },
    {
      "cell_type": "code",
      "metadata": {
        "id": "60A-uLcGbjwk"
      },
      "source": [
        "a = 10\n",
        "\n",
        "def something():\n",
        "  global a #use global variable a\n",
        "  a = 15\n",
        "  print('in fun',a)\n",
        "\n",
        "something()\n",
        "\n",
        "print('outside', a)"
      ],
      "execution_count": null,
      "outputs": []
    },
    {
      "cell_type": "markdown",
      "metadata": {
        "id": "iULEeQ8ubntT"
      },
      "source": [
        "## Pass list to function"
      ]
    },
    {
      "cell_type": "code",
      "metadata": {
        "id": "Rg2ZNEMhbrpI"
      },
      "source": [
        "lst = [20,25,14,19,16,24,28,47,26]\n",
        "\n",
        "def count(lst):\n",
        "  even = 0\n",
        "  odd = 0\n",
        "  for i in lst:\n",
        "    if i%2==0:\n",
        "      even+=1\n",
        "    else:\n",
        "      odd+=1\n",
        "  return even, odd\n",
        "\n",
        "\n",
        "\n",
        "even, odd = count(lst)\n",
        "print(even)\n",
        "print(odd)\n",
        "print('Even : {} and Odd : {}'.format(even,odd))"
      ],
      "execution_count": null,
      "outputs": []
    },
    {
      "cell_type": "markdown",
      "metadata": {
        "id": "S-jRtpXvb264"
      },
      "source": [
        "## Fibonacci Sequence"
      ]
    },
    {
      "cell_type": "code",
      "metadata": {
        "id": "Mfd9Nz21b8_4"
      },
      "source": [
        "def fib(n):\n",
        "\n",
        "  a = 0\n",
        "  b = 1\n",
        "\n",
        "  print(a)\n",
        "  print(b)\n",
        "\n",
        "  for i in range(2,n):\n",
        "    c = a + b\n",
        "    a = b\n",
        "    b = c\n",
        "    print(c)\n",
        "\n",
        "fib(7)"
      ],
      "execution_count": null,
      "outputs": []
    },
    {
      "cell_type": "markdown",
      "metadata": {
        "id": "NcC6Zlw8cAFz"
      },
      "source": [
        "## Factorial"
      ]
    },
    {
      "cell_type": "code",
      "metadata": {
        "id": "5JaLSbpJcVym"
      },
      "source": [
        "def fact(n):\n",
        "  f = 1\n",
        "  for i in range(1,n+1):\n",
        "    f*=i\n",
        "  return f\n",
        "\n",
        "x = 5\n",
        "\n",
        "result = fact(x)\n",
        "print(result)"
      ],
      "execution_count": null,
      "outputs": []
    },
    {
      "cell_type": "markdown",
      "metadata": {
        "id": "M081GTZCca-R"
      },
      "source": [
        "## Recusrion"
      ]
    },
    {
      "cell_type": "markdown",
      "metadata": {
        "id": "PDQySz9Q8T56"
      },
      "source": [
        "Recursion - function calling itself"
      ]
    },
    {
      "cell_type": "code",
      "metadata": {
        "id": "w1knzm1l3erK"
      },
      "source": [
        "import sys\n",
        "sys.setrecursionlimit(200)\n",
        "\n",
        "def greet():\n",
        "  print('Hello')\n",
        "  greet()\n",
        "\n",
        "greet()"
      ],
      "execution_count": null,
      "outputs": []
    },
    {
      "cell_type": "markdown",
      "metadata": {
        "id": "qJNinuFHcs94"
      },
      "source": [
        "## Factorial using Recursion"
      ]
    },
    {
      "cell_type": "code",
      "metadata": {
        "id": "fdCd6BE0cxf1"
      },
      "source": [
        "def fact(n):\n",
        "\n",
        "  if n==0:\n",
        "    return 1\n",
        "  return n * fact(n-1)\n",
        "\n",
        "result = fact(5)\n",
        "print(result)"
      ],
      "execution_count": null,
      "outputs": []
    },
    {
      "cell_type": "markdown",
      "metadata": {
        "id": "ElUc7PASBbDW"
      },
      "source": [
        "## Lambda"
      ]
    },
    {
      "cell_type": "markdown",
      "metadata": {
        "id": "i5H4obOfpA3-"
      },
      "source": [
        "Lambda can only be used to acheve one expression"
      ]
    },
    {
      "cell_type": "code",
      "metadata": {
        "id": "B4N0R9OcBc9D",
        "colab": {
          "base_uri": "https://localhost:8080/"
        },
        "outputId": "11c12321-1a91-4751-d4f5-ffade794efe2"
      },
      "source": [
        "def square(a):\n",
        "  return a*a\n",
        "\n",
        "result = square(5)\n",
        "print(result)\n"
      ],
      "execution_count": null,
      "outputs": [
        {
          "output_type": "stream",
          "text": [
            "25\n"
          ],
          "name": "stdout"
        }
      ]
    },
    {
      "cell_type": "code",
      "metadata": {
        "colab": {
          "base_uri": "https://localhost:8080/"
        },
        "id": "vdvYsRqhoiTV",
        "outputId": "7b0ec416-a2d1-4614-b93c-7abdbe000f95"
      },
      "source": [
        "f = lambda a : a*a\n",
        "\n",
        "result = f(5)\n",
        "print(result)"
      ],
      "execution_count": null,
      "outputs": [
        {
          "output_type": "stream",
          "text": [
            "25\n"
          ],
          "name": "stdout"
        }
      ]
    },
    {
      "cell_type": "code",
      "metadata": {
        "colab": {
          "base_uri": "https://localhost:8080/"
        },
        "id": "qm-mCw6io8Ie",
        "outputId": "acce6ada-1350-4d44-c5c4-9cfb9462afd4"
      },
      "source": [
        "f = lambda a,b:a+b\n",
        "\n",
        "result = f(3,4)\n",
        "print(result)"
      ],
      "execution_count": null,
      "outputs": [
        {
          "output_type": "stream",
          "text": [
            "7\n"
          ],
          "name": "stdout"
        }
      ]
    },
    {
      "cell_type": "markdown",
      "metadata": {
        "id": "RF3i1CczpegR"
      },
      "source": [
        "## Filter Map Reduce"
      ]
    },
    {
      "cell_type": "code",
      "metadata": {
        "colab": {
          "base_uri": "https://localhost:8080/"
        },
        "id": "65Ybsc0cpg7f",
        "outputId": "303c763a-5fdb-4d74-d20d-ca3c653d8441"
      },
      "source": [
        "def is_even(n):\n",
        "  return n%2==0\n",
        "\n",
        "nums = [3,2,3,4,5,6,7]\n",
        "\n",
        "evens = list(filter(is_even,nums))\n",
        "\n",
        "print(evens)"
      ],
      "execution_count": null,
      "outputs": [
        {
          "output_type": "stream",
          "text": [
            "[2, 4, 6]\n"
          ],
          "name": "stdout"
        }
      ]
    },
    {
      "cell_type": "code",
      "metadata": {
        "colab": {
          "base_uri": "https://localhost:8080/"
        },
        "id": "ykY2FxsNq4X1",
        "outputId": "efa0f2cc-daff-464a-8c19-09ca4b87ae4c"
      },
      "source": [
        "from functools import reduce\n",
        "\n",
        "nums = [3,2,3,4,5,6,7]\n",
        "\n",
        "evens = list(filter(lambda n: n%2==0,nums))\n",
        "\n",
        "doubles = list(map(lambda n: n+2,evens))\n",
        "\n",
        "sum = reduce(lambda a,b: a+b,doubles)\n",
        "\n",
        "print(evens)\n",
        "print(doubles)\n",
        "print(sum)"
      ],
      "execution_count": null,
      "outputs": [
        {
          "output_type": "stream",
          "text": [
            "[2, 4, 6]\n",
            "[4, 6, 8]\n",
            "18\n"
          ],
          "name": "stdout"
        }
      ]
    },
    {
      "cell_type": "markdown",
      "metadata": {
        "id": "Vrp0ri9ks-PT"
      },
      "source": [
        "##- Decorators"
      ]
    },
    {
      "cell_type": "code",
      "metadata": {
        "colab": {
          "base_uri": "https://localhost:8080/"
        },
        "id": "M8aXAzLxtAau",
        "outputId": "f73cde7d-c2d1-4196-e6fc-4eaece9d28e4"
      },
      "source": [
        "def div(a,b):\n",
        "  return a/b\n",
        "\n",
        "def smart_div(func):\n",
        "\n",
        "  def inner(a,b):\n",
        "    if a<b:\n",
        "      a,b = b,a\n",
        "    return func(a,b)\n",
        "  return inner\n",
        "\n",
        "div = smart_div(div)\n",
        "div(2,4)"
      ],
      "execution_count": null,
      "outputs": [
        {
          "output_type": "execute_result",
          "data": {
            "text/plain": [
              "2.0"
            ]
          },
          "metadata": {
            "tags": []
          },
          "execution_count": 15
        }
      ]
    },
    {
      "cell_type": "markdown",
      "metadata": {
        "id": "hpedYi_nv2NM"
      },
      "source": [
        "## Modules"
      ]
    },
    {
      "cell_type": "markdown",
      "metadata": {
        "id": "pUMRLkHQBhch"
      },
      "source": [
        "1st step:  Create python file"
      ]
    },
    {
      "cell_type": "code",
      "metadata": {
        "id": "9zSYTALFv4lU",
        "colab": {
          "base_uri": "https://localhost:8080/"
        },
        "outputId": "c770a172-e101-4435-9980-cf83f4663b49"
      },
      "source": [
        "%%writefile calc.py\n",
        "\n",
        "def add(a,b):\n",
        "  return a+b"
      ],
      "execution_count": null,
      "outputs": [
        {
          "output_type": "stream",
          "text": [
            "Writing calc.py\n"
          ],
          "name": "stdout"
        }
      ]
    },
    {
      "cell_type": "markdown",
      "metadata": {
        "id": "n1Wi9ZJPBzbM"
      },
      "source": [
        " 2nd step: Import the Module and Use Its Defined Variables and Functions"
      ]
    },
    {
      "cell_type": "code",
      "metadata": {
        "colab": {
          "base_uri": "https://localhost:8080/"
        },
        "id": "zGSEQ1IoCIFU",
        "outputId": "1648a20f-9ee9-456b-c5ed-fae5a804b4a5"
      },
      "source": [
        "import calc\n",
        "\n",
        "a = 9\n",
        "b = 7\n",
        "\n",
        "calc.add(a,b)\n"
      ],
      "execution_count": null,
      "outputs": [
        {
          "output_type": "execute_result",
          "data": {
            "text/plain": [
              "16"
            ]
          },
          "metadata": {
            "tags": []
          },
          "execution_count": 3
        }
      ]
    },
    {
      "cell_type": "markdown",
      "metadata": {
        "id": "bqcoqpYMCno0"
      },
      "source": [
        "## Special variable __name__"
      ]
    },
    {
      "cell_type": "code",
      "metadata": {
        "colab": {
          "base_uri": "https://localhost:8080/"
        },
        "id": "Kz6rlRLjDILd",
        "outputId": "ff898b52-428f-460f-97b3-45ec3b5ecfff"
      },
      "source": [
        "%%writefile welcome.py\n",
        "\n",
        "def main():\n",
        "  print('Hello')\n",
        "  print('Welcome user')\n",
        "\n",
        "\n",
        "if __name__ == '__main__':\n",
        " main()"
      ],
      "execution_count": null,
      "outputs": [
        {
          "output_type": "stream",
          "text": [
            "Overwriting welcome.py\n"
          ],
          "name": "stdout"
        }
      ]
    },
    {
      "cell_type": "code",
      "metadata": {
        "colab": {
          "base_uri": "https://localhost:8080/"
        },
        "id": "MZ0G7QfqE_mh",
        "outputId": "7f8e17f5-1b1c-4db7-be69-335143cd0838"
      },
      "source": [
        "import welcome\n",
        "\n",
        "print('its time to calculate')"
      ],
      "execution_count": null,
      "outputs": [
        {
          "output_type": "stream",
          "text": [
            "its time to calculate\n"
          ],
          "name": "stdout"
        }
      ]
    },
    {
      "cell_type": "markdown",
      "metadata": {
        "id": "g4gt2BnhIaIW"
      },
      "source": [
        "# OOP"
      ]
    },
    {
      "cell_type": "markdown",
      "metadata": {
        "id": "-BVIvXs2PHTM"
      },
      "source": [
        "class - place to design objects (instances)"
      ]
    },
    {
      "cell_type": "code",
      "metadata": {
        "colab": {
          "base_uri": "https://localhost:8080/"
        },
        "id": "BuQUNKU-Id7I",
        "outputId": "9ad0f895-7194-43dc-e927-142c1d2a1ca6"
      },
      "source": [
        "class Computer:\n",
        "\n",
        "  def config(self):\n",
        "    print('i5,16gb,1tb')\n",
        "\n",
        "\n",
        "com1 = Computer() #contructor\n",
        "com2 = Computer()\n",
        "Computer.config(com1)\n",
        "Computer.config(com2)\n",
        "\n",
        "com1.config()\n",
        "com2.config()\n",
        "\n",
        "a = 5\n"
      ],
      "execution_count": 3,
      "outputs": [
        {
          "output_type": "stream",
          "name": "stdout",
          "text": [
            "i5,16gb,1tb\n",
            "i5,16gb,1tb\n",
            "i5,16gb,1tb\n",
            "i5,16gb,1tb\n"
          ]
        }
      ]
    },
    {
      "cell_type": "markdown",
      "metadata": {
        "id": "Sq71BEl1ZL3l"
      },
      "source": [
        "## Init method"
      ]
    },
    {
      "cell_type": "code",
      "metadata": {
        "colab": {
          "base_uri": "https://localhost:8080/"
        },
        "id": "7IKBTouAZOkv",
        "outputId": "44476476-8228-4ec2-a160-7b400fdca379"
      },
      "source": [
        "class Computer:\n",
        "\n",
        "  def __init__(self,cpu,ram):\n",
        "    self.cpu = cpu\n",
        "    self.ram = ram\n",
        "\n",
        "\n",
        "  def config(self):\n",
        "    print('Config is',self.cpu,self.ram)\n",
        "\n",
        "com1 = Computer(' i5',16) #object creation\n",
        "com2 = Computer(' ryzen3',8)\n",
        "\n",
        "com1.config()\n",
        "com2.config()"
      ],
      "execution_count": 4,
      "outputs": [
        {
          "output_type": "stream",
          "name": "stdout",
          "text": [
            "Config is  i5 16\n",
            "Config is  ryzen3 8\n"
          ]
        }
      ]
    },
    {
      "cell_type": "markdown",
      "metadata": {
        "id": "nJYONx871D3v"
      },
      "source": [
        "## Constructor, self and comparing objects"
      ]
    },
    {
      "cell_type": "code",
      "metadata": {
        "colab": {
          "base_uri": "https://localhost:8080/"
        },
        "id": "JHu7chaa1K2i",
        "outputId": "f2fc0040-c6db-49ff-8fd7-d01484a8679b"
      },
      "source": [
        "class Computer:\n",
        "  \n",
        "  def __init__(self):\n",
        "    self.name = 'Slawek'\n",
        "    self.age = 21\n",
        "\n",
        "  def update(self):\n",
        "    self.age = 22\n",
        "\n",
        "  def compare(self, other):\n",
        "    if self.age == other.age:\n",
        "      return True\n",
        "    else:\n",
        "      return False\n",
        "\n",
        "\n",
        "c1 = Computer()\n",
        "c2 = Computer()\n",
        "print(c1.age)\n",
        "print(c2.name)\n",
        "\n",
        "if c1.compare(c2):\n",
        "  print('same age')\n"
      ],
      "execution_count": null,
      "outputs": [
        {
          "output_type": "stream",
          "text": [
            "21\n",
            "Slawek\n",
            "same age\n"
          ],
          "name": "stdout"
        }
      ]
    },
    {
      "cell_type": "markdown",
      "metadata": {
        "id": "lu2u1cKH575D"
      },
      "source": [
        "## Types of variables"
      ]
    },
    {
      "cell_type": "markdown",
      "metadata": {
        "id": "niP55VXxApjm"
      },
      "source": [
        "2 different type of variables:\n",
        "\n",
        "\n",
        "1.   instance variable\n",
        "2.   Class variable (static)\n",
        "\n"
      ]
    },
    {
      "cell_type": "code",
      "metadata": {
        "id": "hr8ZJglD5-3l",
        "colab": {
          "base_uri": "https://localhost:8080/"
        },
        "outputId": "1d22c82d-aaf6-4430-98a5-ef1771917aba"
      },
      "source": [
        "class Car:\n",
        "\n",
        "  wheels = 4\n",
        "\n",
        "  def __init__(self):\n",
        "    self.mil = 10\n",
        "    self.com = 'BMW'\n",
        "\n",
        "c1 = Car()\n",
        "c2 = Car()\n",
        "\n",
        "Car.wheels = 5 #change value of class variable\n",
        "\n",
        "\n",
        "print(c1.wheels)\n",
        "print(c2.wheels)"
      ],
      "execution_count": null,
      "outputs": [
        {
          "output_type": "stream",
          "text": [
            "5\n",
            "5\n"
          ],
          "name": "stdout"
        }
      ]
    },
    {
      "cell_type": "markdown",
      "metadata": {
        "id": "ChRz4slGsxhX"
      },
      "source": [
        "## Types of Methods"
      ]
    },
    {
      "cell_type": "markdown",
      "metadata": {
        "id": "Be7w281GtCGU"
      },
      "source": [
        " 1. Instance mathods\n",
        " 2. Class methods\n",
        " 3. Static methods\n",
        "\n",
        " *Extend knowledge about accesors and mutators*\n",
        " Accessors only fetch (wydobywają) values when mutators modify it.\n",
        "\n",
        " methods(self) - working with instance methods\n",
        "\n",
        " methods(cls) - working with class methods"
      ]
    },
    {
      "cell_type": "code",
      "metadata": {
        "colab": {
          "base_uri": "https://localhost:8080/"
        },
        "id": "3WtPyfd7s01H",
        "outputId": "953d6f48-ff93-4b09-ecf3-5d6d1779518a"
      },
      "source": [
        "class Student:\n",
        "\n",
        "  school = 'AGH'\n",
        "\n",
        "  def __init__(self,m1,m2,m3):\n",
        "    self.m1 = m1\n",
        "    self.m2 = m2\n",
        "    self.m3 = m3\n",
        "\n",
        "  def avg(self): #instance methods (works with objects)\n",
        "    return (self.m1 + self.m2+self.m3)/3\n",
        "\n",
        "  @classmethod\n",
        "  def getSchool(cls):\n",
        "    return cls.school\n",
        "\n",
        "  @staticmethod\n",
        "  def info():\n",
        "    print(\"This is Student class\")\n",
        "\n",
        "s1 = Student(32,54,65)\n",
        "s2 = Student(21,32,54)\n",
        "\n",
        "print(s1.avg())\n",
        "print(Student.getSchool())\n",
        "Student.info()"
      ],
      "execution_count": null,
      "outputs": [
        {
          "output_type": "stream",
          "text": [
            "50.333333333333336\n",
            "AGH\n",
            "This is Student class\n"
          ],
          "name": "stdout"
        }
      ]
    },
    {
      "cell_type": "markdown",
      "metadata": {
        "id": "A6Tdp4XPw6zT"
      },
      "source": [
        "## Inner class"
      ]
    },
    {
      "cell_type": "code",
      "metadata": {
        "colab": {
          "base_uri": "https://localhost:8080/",
          "height": 35
        },
        "id": "cpY3-3pbxtdB",
        "outputId": "a602c69e-d0b9-4cee-e307-3ed44767f020"
      },
      "source": [
        "class Student:\n",
        "\n",
        "  def __init__(self,name,rollno):\n",
        "    self.name = name\n",
        "    self.rollno = rollno\n",
        "    self.lap = self.Laptop()\n",
        "\n",
        "  class Laptop:\n",
        "    def __init__(self):\n",
        "      self.brand = 'Hp'\n",
        "      self.cpu = 'i5'\n",
        "      self.ram = 8\n",
        "\n",
        "\n",
        "s1 = Student('Slawek',2)\n",
        "s2 = Student('Joe',3)\n",
        "\n",
        "s1.lap.brand\n",
        "\n",
        "lap1 = Student.Laptop()\n"
      ],
      "execution_count": null,
      "outputs": [
        {
          "output_type": "execute_result",
          "data": {
            "application/vnd.google.colaboratory.intrinsic+json": {
              "type": "string"
            },
            "text/plain": [
              "'Hp'"
            ]
          },
          "metadata": {
            "tags": []
          },
          "execution_count": 13
        }
      ]
    },
    {
      "cell_type": "markdown",
      "metadata": {
        "id": "H7oixi9Q1cMB"
      },
      "source": [
        "## Inheritance"
      ]
    },
    {
      "cell_type": "markdown",
      "metadata": {
        "id": "IQua_iXx363K"
      },
      "source": [
        "![Zrzut ekranu 2020-12-05 180738.png](data:image/png;base64,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)"
      ]
    },
    {
      "cell_type": "code",
      "metadata": {
        "colab": {
          "base_uri": "https://localhost:8080/"
        },
        "id": "U2Ymx8ml1fpk",
        "outputId": "1c56f96f-b223-4ec4-e254-edb7574b3f91"
      },
      "source": [
        "class A:\n",
        "  def feature1(self):\n",
        "    print('feature 1')\n",
        "\n",
        "  def feature2(self):\n",
        "    print('feature 2')\n",
        "\n",
        "class B(A):\n",
        "  def feature3(self):\n",
        "    print('feature 3')\n",
        "\n",
        "  def feature4(self):\n",
        "    print('feature 4')\n",
        "\n",
        "a1 = A()\n",
        "a1.feature1()\n",
        "\n",
        "b1 = B()\n",
        "b1.feature1()"
      ],
      "execution_count": null,
      "outputs": [
        {
          "output_type": "stream",
          "text": [
            "feature 1\n",
            "feature 1\n"
          ],
          "name": "stdout"
        }
      ]
    },
    {
      "cell_type": "markdown",
      "metadata": {
        "id": "X0ic2KrM4E4k"
      },
      "source": [
        "## Constructor in Inheritance"
      ]
    },
    {
      "cell_type": "markdown",
      "metadata": {
        "id": "1OiisY-H6QJL"
      },
      "source": [
        "[MRO](https://www.geeksforgeeks.org/method-resolution-order-in-python-inheritance/)"
      ]
    },
    {
      "cell_type": "code",
      "metadata": {
        "colab": {
          "base_uri": "https://localhost:8080/"
        },
        "id": "XStD5BX-4JtC",
        "outputId": "18ef4b5a-403f-4584-acdb-777a9432cb49"
      },
      "source": [
        "class A:\n",
        "\n",
        "  def __init__(self): #contructor\n",
        "    print('in a init')\n",
        "\n",
        "  def feature1(self):\n",
        "    print('feature 1')\n",
        "\n",
        "  def feature2(self):\n",
        "    print('feature 2')\n",
        "\n",
        "class B(A):\n",
        "\n",
        "  def __init__(self): #contructor\n",
        "    #super().__init__()\n",
        "    print('in b init')\n",
        "\n",
        "  def feature3(self):\n",
        "    print('feature 3')\n",
        "\n",
        "  def feature4(self):\n",
        "    print('feature 4')\n",
        "\n",
        "a1 = B()\n"
      ],
      "execution_count": null,
      "outputs": [
        {
          "output_type": "stream",
          "text": [
            "in a init\n",
            "in b init\n"
          ],
          "name": "stdout"
        }
      ]
    },
    {
      "cell_type": "markdown",
      "metadata": {
        "id": "0KB3of-Z65U9"
      },
      "source": [
        "## Introduction to Polymorphism/Duck Typing"
      ]
    },
    {
      "cell_type": "code",
      "metadata": {
        "colab": {
          "base_uri": "https://localhost:8080/"
        },
        "id": "GlnLL_p06-Zs",
        "outputId": "99576e95-28ad-42fd-9578-e6e2fa7d6f6a"
      },
      "source": [
        "class Colab:\n",
        "\n",
        "  def execute(self):\n",
        "    print('Compiling')\n",
        "    print('Running')\n",
        "\n",
        "class MyEditor:\n",
        "  \n",
        "  def execute(self):\n",
        "    print('Spell check')\n",
        "    print('Convension check')\n",
        "    print('Compiling')\n",
        "    print('Running')\n",
        "class Laptop:\n",
        "\n",
        "  def code(self,ide):\n",
        "    ide.execute()\n",
        "\n",
        "ide = MyEditor()\n",
        "\n",
        "lap1 = Laptop()\n",
        "lap1.code(ide)"
      ],
      "execution_count": null,
      "outputs": [
        {
          "output_type": "stream",
          "text": [
            "Spell check\n",
            "Convension check\n",
            "Compiling\n",
            "Running\n"
          ],
          "name": "stdout"
        }
      ]
    },
    {
      "cell_type": "markdown",
      "metadata": {
        "id": "Yc73Q1hBjvZy"
      },
      "source": [
        "## Polymorphism - Operator Overloading"
      ]
    },
    {
      "cell_type": "code",
      "metadata": {
        "colab": {
          "base_uri": "https://localhost:8080/"
        },
        "id": "rD8yKB1Kjyup",
        "outputId": "1f09d033-6c11-47f7-fd4d-f833fdc3d46a"
      },
      "source": [
        "class Student:\n",
        "\n",
        "  def __init__(self,m1,m2):\n",
        "    self.m1 = m1\n",
        "    self.m2 = m2\n",
        "\n",
        "  def __add__(self,other):\n",
        "    m1 = self.m1 + other.m1\n",
        "    m2 = self.m2 + other.m2\n",
        "    s3 = Student(m1,m2)\n",
        "\n",
        "    return s3\n",
        "\n",
        "\n",
        "s1 = Student(43,54)\n",
        "s2 = Student(32,45)\n",
        "s3 = s1 + s2\n",
        "print(s3.m1)\n",
        "\n"
      ],
      "execution_count": null,
      "outputs": [
        {
          "output_type": "stream",
          "text": [
            "75\n"
          ],
          "name": "stdout"
        }
      ]
    }
  ]
}