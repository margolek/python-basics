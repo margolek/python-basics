{
  "nbformat": 4,
  "nbformat_minor": 0,
  "metadata": {
    "colab": {
      "name": "cwiczenia.ipynb",
      "provenance": [],
      "collapsed_sections": [],
      "authorship_tag": "ABX9TyNrY1S5mY2t1+MqIlb5dZM2",
      "include_colab_link": true
    },
    "kernelspec": {
      "display_name": "Python 3",
      "name": "python3"
    }
  },
  "cells": [
    {
      "cell_type": "markdown",
      "metadata": {
        "id": "view-in-github",
        "colab_type": "text"
      },
      "source": [
        "<a href=\"https://colab.research.google.com/github/margolek/ColabExamples/blob/main/cwiczenia.ipynb\" target=\"_parent\"><img src=\"https://colab.research.google.com/assets/colab-badge.svg\" alt=\"Open In Colab\"/></a>"
      ]
    },
    {
      "cell_type": "markdown",
      "metadata": {
        "id": "fWz88yI7zc7d"
      },
      "source": [
        "1. Write a function that stutters a word as if someone is struggling to read it. The first two letters are repeated twice with an ellipsis ... and space after each, and then the word is pronounced with a question mark ?."
      ]
    },
    {
      "cell_type": "code",
      "metadata": {
        "colab": {
          "base_uri": "https://localhost:8080/"
        },
        "id": "w7Nj6vIDzZlv",
        "outputId": "865544d3-6367-421e-9ad1-b6f00b298a2f"
      },
      "source": [
        "def stutter(word):\n",
        "    print('\"'+word[:2]+str('...')+' ',end='') #+str(...) - without space\n",
        "    print(word[:2]+str('...')+' ',end='')\n",
        "    print(word+'?'+'\"')\n",
        "\n",
        "\n",
        "\n",
        "stutter('magic')\n",
        "stutter('increasing')"
      ],
      "execution_count": null,
      "outputs": [
        {
          "output_type": "stream",
          "text": [
            "\"ma... ma... magic?\"\n",
            "\"in... in... increasing?\"\n"
          ],
          "name": "stdout"
        }
      ]
    },
    {
      "cell_type": "markdown",
      "metadata": {
        "id": "9Ry9YNQPL2Lg"
      },
      "source": [
        "[.format](https://www.geeksforgeeks.org/python-format-function/)\n"
      ]
    },
    {
      "cell_type": "code",
      "metadata": {
        "colab": {
          "base_uri": "https://localhost:8080/",
          "height": 35
        },
        "id": "J7cohCuLKgRH",
        "outputId": "d688e847-e5c3-4904-c57c-1681d562988c"
      },
      "source": [
        "#Better solution\n",
        "\n",
        "def stutter(word):\n",
        "  return '{0}... {0}... {1}?'.format(word[:2],word)\n",
        "\n",
        "stutter('increasing')"
      ],
      "execution_count": null,
      "outputs": [
        {
          "output_type": "execute_result",
          "data": {
            "application/vnd.google.colaboratory.intrinsic+json": {
              "type": "string"
            },
            "text/plain": [
              "'in... in... increasing?'"
            ]
          },
          "metadata": {
            "tags": []
          },
          "execution_count": 25
        }
      ]
    },
    {
      "cell_type": "markdown",
      "metadata": {
        "id": "0eGbpcHlNeHk"
      },
      "source": [
        "2. Create a function that finds the maximum range of a triangle's third edge, where the side lengths are all integers."
      ]
    },
    {
      "cell_type": "code",
      "metadata": {
        "id": "_6oqje2BNmvp"
      },
      "source": [
        "import math as m\n",
        "\n",
        "def next_edge(a,b):\n",
        "  c = a+b-1\n",
        "  return c\n",
        "\n",
        "next_edge(4,5)"
      ],
      "execution_count": null,
      "outputs": []
    },
    {
      "cell_type": "code",
      "metadata": {
        "colab": {
          "base_uri": "https://localhost:8080/"
        },
        "id": "wzxkI1HGQtMg",
        "outputId": "e28e6eab-74ae-4ec8-d9b4-175940944833"
      },
      "source": [
        "#Better solution\n",
        "def next_edge1(*args):\n",
        "\treturn sum(args) - 1\n",
        "\n",
        "next_edge1(4,5)\n"
      ],
      "execution_count": null,
      "outputs": [
        {
          "output_type": "execute_result",
          "data": {
            "text/plain": [
              "8"
            ]
          },
          "metadata": {
            "tags": []
          },
          "execution_count": 28
        }
      ]
    },
    {
      "cell_type": "markdown",
      "metadata": {
        "id": "eMreADvPRKq9"
      },
      "source": [
        "3.Create a function that takes a string and returns it as an integer."
      ]
    },
    {
      "cell_type": "code",
      "metadata": {
        "id": "fhBhoGDJRN4b"
      },
      "source": [
        "def string_int(txt):\n",
        "  return int(txt)"
      ],
      "execution_count": null,
      "outputs": []
    },
    {
      "cell_type": "markdown",
      "metadata": {
        "id": "HC6ekhzaSJRD"
      },
      "source": [
        "4. Create a function that takes a number as an argument, increments the number by +1 and returns the result."
      ]
    },
    {
      "cell_type": "code",
      "metadata": {
        "id": "iqgah1toSKFt"
      },
      "source": [
        "def addition(num):\n",
        "  return num+1"
      ],
      "execution_count": null,
      "outputs": []
    },
    {
      "cell_type": "markdown",
      "metadata": {
        "id": "uTziOULxSfMr"
      },
      "source": [
        "5. Create a function that takes two numbers as arguments and return their sum"
      ]
    },
    {
      "cell_type": "code",
      "metadata": {
        "id": "BgqWPknfSf5M"
      },
      "source": [
        "def addition(a,b):\n",
        "  return a+b"
      ],
      "execution_count": null,
      "outputs": []
    },
    {
      "cell_type": "markdown",
      "metadata": {
        "id": "EaBBXsVySzjg"
      },
      "source": [
        "6. Create a function that takes the age and return the age in days."
      ]
    },
    {
      "cell_type": "code",
      "metadata": {
        "id": "B3PA2m7CS0TH"
      },
      "source": [
        "def calc_age(age):\n",
        "  return age*365\n",
        " "
      ],
      "execution_count": null,
      "outputs": []
    },
    {
      "cell_type": "markdown",
      "metadata": {
        "id": "PFAD9f-GL0jG"
      },
      "source": [
        "7."
      ]
    },
    {
      "cell_type": "markdown",
      "metadata": {
        "id": "oI70a9jQLsVG"
      },
      "source": [
        "![Zrzut ekranu 2020-11-27 154809.png](data:image/png;base64,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)"
      ]
    },
    {
      "cell_type": "code",
      "metadata": {
        "colab": {
          "base_uri": "https://localhost:8080/"
        },
        "id": "wCrQiYriLu7D",
        "outputId": "178cffad-aa07-4033-e126-e70462759d57"
      },
      "source": [
        "\n",
        "\n",
        "def array_diff(a, b):\n",
        "  for n in b:\n",
        "    if n in a:\n",
        "      a.remove(n)\n",
        "      b.append(n)\n",
        "        \n",
        "      \n",
        "  \n",
        "  return a\n",
        "\n",
        "array_diff([1,2,2,3,2],[2,3])\n"
      ],
      "execution_count": null,
      "outputs": [
        {
          "output_type": "execute_result",
          "data": {
            "text/plain": [
              "[1]"
            ]
          },
          "metadata": {
            "tags": []
          },
          "execution_count": 20
        }
      ]
    },
    {
      "cell_type": "markdown",
      "metadata": {
        "id": "zNvQ7KhWkM1x"
      },
      "source": [
        "Inne rozwiązania:"
      ]
    },
    {
      "cell_type": "code",
      "metadata": {
        "id": "p21Yby8RkOOc"
      },
      "source": [
        "def array_diff(a, b):\n",
        "    return [x for x in a if x not in b]"
      ],
      "execution_count": null,
      "outputs": []
    },
    {
      "cell_type": "code",
      "metadata": {
        "id": "V6mZcIHNkPFi"
      },
      "source": [
        "def array_diff(a, b):\n",
        "    return [x for x in a if x not in set(b)]"
      ],
      "execution_count": null,
      "outputs": []
    },
    {
      "cell_type": "markdown",
      "metadata": {
        "id": "q4Rb3VzLk15s"
      },
      "source": [
        "8.![1.png](data:image/png;base64,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)"
      ]
    },
    {
      "cell_type": "code",
      "metadata": {
        "colab": {
          "base_uri": "https://localhost:8080/"
        },
        "id": "rvIyIT4Tk4Jp",
        "outputId": "e9139c76-2984-4d89-c8e6-325561c46d7d"
      },
      "source": [
        "def digital_root(n):\n",
        "  list1 = [] \n",
        "  for i in str(n):\n",
        "    list1.append(int(i))\n",
        "  if sum(list1) < 10:\n",
        "    return sum(list1)\n",
        "  else:\n",
        "    list2 = []\n",
        "    for i in str(sum(list1)):\n",
        "      list2.append(int(i))\n",
        "    if sum(list2) < 10:\n",
        "      return sum(list2)\n",
        "    else:\n",
        "      list3 = []\n",
        "      for i in str(sum(list2)):\n",
        "        list3.append(int(i))\n",
        "    if sum(list3) < 10:\n",
        "      return sum(list3)\n",
        "  \n",
        "\n",
        "  \n",
        "  \n",
        "digital_root(6575656543225678344398573489576575678678978987)"
      ],
      "execution_count": null,
      "outputs": [
        {
          "output_type": "execute_result",
          "data": {
            "text/plain": [
              "4"
            ]
          },
          "metadata": {
            "tags": []
          },
          "execution_count": 82
        }
      ]
    },
    {
      "cell_type": "markdown",
      "metadata": {
        "id": "8wBCxCKykyOb"
      },
      "source": [
        "Inne rozwiązania:\n"
      ]
    },
    {
      "cell_type": "markdown",
      "metadata": {
        "id": "0oOPyW0GwEfi"
      },
      "source": [
        "[map()](https://www.geeksforgeeks.org/python-map-function/)\n"
      ]
    },
    {
      "cell_type": "markdown",
      "metadata": {
        "id": "lhPv1H-Pwvcq"
      },
      "source": [
        "The map() function executes a specified function for each item in an iterable. The item is sent to the function as a parameter."
      ]
    },
    {
      "cell_type": "code",
      "metadata": {
        "id": "SVtnS0Dvk0OP"
      },
      "source": [
        "def digital_root(n):\n",
        "    return n if n < 10 else digital_root(sum(map(int,str(n))))"
      ],
      "execution_count": null,
      "outputs": []
    },
    {
      "cell_type": "markdown",
      "metadata": {
        "id": "zdDJBzPdmDhB"
      },
      "source": [
        ""
      ]
    },
    {
      "cell_type": "code",
      "metadata": {
        "id": "5IBQiSC0k1IE"
      },
      "source": [
        "def digital_root(n):\n",
        "    return n%9 or n and 9 "
      ],
      "execution_count": null,
      "outputs": []
    },
    {
      "cell_type": "markdown",
      "metadata": {
        "id": "xIVtyZB4oNhk"
      },
      "source": [
        "9. ![2.png](data:image/png;base64,iVBORw0KGgoAAAANSUhEUgAAAuoAAAKBCAYAAAABVI4/AAAAAXNSR0IArs4c6QAAAARnQU1BAACxjwv8YQUAAAAJcEhZcwAADsMAAA7DAcdvqGQAAODaSURBVHhe7P0NfBTXnSf8/ljHsIPd2LHaydBeB2nwIh7PI439kbT2Fb72SusXnAHJ8RoYQMlzgXgvLx8Q42fjjB8EuwviOnH2epBZXp7rWHwmI2B4uYklPAmOs9LaG7RmJXYS6SYfxNojMR63J3bLY9OYDDB+uOecOtVdVV3dXd1d3SqJ3/fjNt3V1fVy6tSpf536V2naPffWXIPFpUuX9DsiIiIiIpoo/0T/S0REREREAcJAnYiIiIgogBioExEREREFEAN1IiIiIqIAYqBORERERBRADNSJiIiIiAKIj2ckIqKiuPHGGzFr1izMmDED06ZN00OJsrt27RouX76MCxcu4OrVq3oo+Smf/ZPbpfQYqBMRke9kEHD77bfj008/VccVeYAn8koGjjNnzsQtt9yCjz76iEGhz/LdP7ldSo+pL0RE5DvZUyeDgM8++4xBOuVM1hlZd2QdknWJ/JXv/sntUnoM1ImIyHfycjqv0FKhZB2SdYn8Vej+ye1SOgzUiYjId/ISOXvSqVCyDvH+Bv8Vun9yu5QOA3UiIiIiogDyMVB/Dkfe7sfptw9hix5il+37Qi3HniO7sVJ/Mhjz/Nme5frzJNZ2SJTdT1HQqizfjZ+J8jjSluZzKYl5H3GujFpHH7eXs8z8KMPJTpVBsfZBC7dtmXabT+A2cVvObFx/k779Of2Gc3g6YhpviPGPPKc/TwKqDZmo7bcVRwf7sHeF/kiTjF/bz4wtMr2MNm/lnp8m3vvCl/areO3EliMlaOvzotdBbZs05SfK1hmbBHL7pcRR/rfjPgbqz2PZ/ScwhnI0uSzgliOLxTdj6Ll/BXbqYb5qW4za2/R7CrwtT9SgTL83rZwdVv+Of3BY/UuTl9u2dNvmEy2fOuf6G7f2Z3nEWN+PozioBpB/WrC3rxnoacD6Q3pQggwABzFwfKv+7IepelIwkeu1A0tfPIv5zxxDYX1FMvaox33mq+MM4mLo2GuWYcWKO/xQrHZCBJANc/R7z+R+NYij2/THIlm5ZxVqQzIelNvmUWxIaX5FsPtQuX5PPqe+iB3mtTFgzmL7mZCuMPEzJ4K7s9CEO7jhUdWoLmvXA2jSmizbMp/l9PybwxvxsDwQLXteDyC/tOxfg7rxbizdrgfYiACwthZ1T+3QnymwDq1D52AYzb6eVE0y12E7UR6+GTg/zHjQI/9z1NtXoOe82BAPmZdxxJnR6hqE4mdwIHHaZL3sYbycgX3q5VTjN6mXqPW0Fomzr1ANNrleSim3z8/a468ufRzCFn35wvn9liOW34lXcv5uaTV6WRyXsDJdrjG+S04/exqK/TKfszxyn54bPQ/XKyNieGL9nNvRuo7J7ZUsQ7FdXjDKuUmcuIVqNhrDzemlXEKSnPOwbttM889Cpy+klo/bdhW81EmzLqXbRm6X2fQ62+en1ytR/vbp2euX8d2RNmtZWMpBr6fxEvOerYcnZJq2wbX+upafpeys21K/d93mprnGOOZyZKy3tnVylF2abZB2eil1zixPx75v3Rdsv9Hl7tr+OLejlL2800q73sl6aN//nfuDtY64fS9kKltJr7v5/ZEH9PCSakF9JTDwQwbi/oghmnJVonS61vZitLyxtL36tnrubNedx/3U71Nka78c+429TfDQTiRe9n3WtpyWtkQNbxVxl8xw0N+nbQNTxBF7R7/Ni7Odsc7bWC95LJAdusb3bseWjagNichtkZ6GrWwEv7efo7xT2r1s7WKRFeVm0p3LTmBMHLRWiZUxLnFcxGDnRn1ZR25EsRFwBi/Js0j5em1MbZD8Vv4wNjxSj5fOXJRd9nqa9kspoZoGoFPPS14WExXEPi9RmVvL0Gcujz6zlRu7aY55ecb4LWSgoSrN8+gR8wzNq08eaJfXo1JULoQqUZ+Y/HLUz7vZ9WqCPKhumjfiKIdMlepm1LZWYcgyvgx8zJ0g9+mlY14ZqbLvQKKxkVdGxt6U21Jvx49PGPNS84NoFOw7nVy+hthuPY7YLs/K3oPdGIzLzaWHP2LWDSeXutIxgsrVskEyvqs8Z067Xpwgiu3oNfBJOaE0rNzToFK0+lKvxXkkG8bkNpL1MrGN2k+I9b4ZlQ8kN8jKBypFYyrKKaUeiX3mVVkPZQOyGEhcxhVlBxEQOhqu8kUbEX7THEdf5pWNiwggk5eADwDzrJcTZRkuRvn55DZ86Vyl2m+tDm7oUylt1ZaGfkuVMZ3yKstytFW5l53qMcq0zUW9fgg4YC6DKLO09VatE1L2SftBKHUb5LofyPaoejg5j9Q2w5S9/Unyti1dyQO9bVvuxsi8VbZ1kvVsFQ7o73UaYmJ/8LC/qrINY7DDOo+NyfWWyyAO/jC3oXgNhWUw4F3bcZeUlBX70JtL+sWKBZiPs+h3BpdqOmL65ss5n23H1DC1DOnG8Uyn1wzKtA35Xvyr5y/TBlr296npe0shkOkGYv23WZffkQ6Sdt2MVIXkbyyfc1k32/Tt87aVl3hZ10l+17u/RX8S1HT072V569+ocRKfndt6B4bGQpj/oGU6RSX2i6rhRB3uOS+Pq8n9QB33b3Mcc1qzHJcztV96vxm3pOL0QASpafd7o50oS+xnRtsJ1U5bUnhEm5Roo+T+LjsK9DR3LhPD5DFcpRsb4+R2ddOs327bKxOXY7aKQ8z4zkhTksfeZHvpSEsSx2aj/bKkL9muNhRh+2WIq7wdc4qrKIF6IoitWYVVKkg9kDxwyVxOW+AuiA2jAhprsOIj2/xF0NAnKkkobA1YxPJ0OCqLGZS+ZhkuAw5LAHvw5yOIW4JyFXSdP2MPxnTQNfLz1CO3uoRuDVjah0XltAdydo7lVIFfMljKfXoZqN+Wo8FSu9X6iZ2rR+7wajuKRsC6A6nlsf9GNi4P5xv0utUVuQ3UOhoBknXaO4fFtrGdJGWWOn76kyrv7Nvo4IYDlm10GP3nrPXcmN/YGREIOutRfAT9atWMhi3ZyBrTcJ5EyQDY3hCLBlPm+Inyt/52w5uy+TOVIyyirHgsOUzWodTt9TyG5ElNIih/DtVzxHqeSe4Lkgre87qcad/GxonBzQjP1QOsVCNu3Sf7MWLZBwzObZBhemnYytO1zciHt23pam6ZCIgvIvau/qzqv+OEwLav6ZNts15l3V+N+mJrK3V9CdUsVssn7zGwXxkV+9CrRj6wV+0/HEC8vNoWCLY8OB8YfMUl19ydGn/kFLr054RD69AoU17Eq0NFNi7Km1E9ZIxT96Jclnx6cmUQ04zw4C4xnSUwNmcYjU8CnWKa4epjqMcrqOsZRUW112A5hDrZn5RYfms6iAi+n65DrEcvd+0uDJQ164C5C+sb5LBujIpP1cfXAC/r8Tyn/lSg+Wlz3mLa8Qo0msG3CK6bywbQoZdLllm4yWPgtn2J+o3aFuFm9FYPGdOoTb2voH1oVOxfFfpTsdn3A6MOhxFRu4E87qcec/pkMPiEtY2xytx+qf3G1g7rec5pcA8eVc66NWbQ7baznbBN04i5cFvEhxhK1MVnqjGkt3m3OImqe9JjPS5JfFeE7ZchrvJ2zCmuIgXqZoBys9jk9oZd3YiVCEKSDn4QcwRNE0wdGMcwZNm5lHfHRaXQvYtqg5mBsA66hjcawZg+qNuDLjfWSy7yhttcHEb0Y/GPbecsZHpWzisGz6GpRgSx5/rVDmDcUCd7Ls15yZc4k86ley0LYx4xRNOWnWC9JCXTD3Khe7gTO7AOZvLvTXdj30a2kzt1Eifq2AajHhkNuz5Z0OVssqY0bBLbITsjCB8btvZEOJkn1BvVdDNd0VInNeaBQvacyzq9QZ7M6QZSBe/Z5ucX2WtTnDpXCrlvS8Gsq63ydx6vDqi2yqhX2fdXo76YdSHxSuxTyxG5TTTdjnqZs0OncFYEgtWJXtmtaKoFzr6VEnYXR3wAPWZe+6GoaF1yZQTpEEFz41rrMocQG1pnnDyIIovavvNmtE//Xuh66yziZRERogvyCkJoFEOJfPwu9ItIIRxx9kBXIBzzfsKTFMfAy+a8uxAdV2+UtuoKcbi2nBSp7RdC+C792aOQKJPeyXDPgDrum/tZ8qVSNfJi7DfJNA/9UmkpaRyOYlwsg7WDTXWCxMdFe1saoz3mCaho02PeT8UnPL7zZfu5xVUTe8wpWqCeWFkHdRPBJGAc2LKx9JCaQZeo3SoYU0GNe9BlMg7Y1ktcxuWefPk9PSOorEGTPClxS2tIXLqyv/LuQc+J3nGsl+rVpb5c2Hs08+8RzoHl5M64AiPnZyyHOkNPuQJjnHhtqoklLr2pNItszCcJZGHeGJlI6xLzcr2kp6+wyBNUWU5GnZY97fqAoutHyomt39SJmWgoEykc+rLwpJDntlSMK0jGb6APRI7czmw87K/2J2WYL9mbZATyhevC+r5RVDTsM4LQbdWoiLuksQSS7Gk0gvTUm1gtgXQ8VlC7mxAKy5hfq0BzIhVhEK0iUkjtgY6X4ITHCORTTxKyGBtKBH5pmScmEy6ZLmJ72dIvcpNI+bO90qXIPY9llvbYCDTFMqVNEQ2OYMR3Pm+/ABxzihiou0uXnpDae5rbpWq/qSBVByY2jkvQxpliGeoTQZeggjHx2z3p014SPdRiB84/sNVn6+qxTn5Mz0Ff8i+v2q3TKJJBbCnOkNU8Ej22DuYlto50jZ03Zv51w5FDxiUzlReeTj510rqNJOMENhSu11dgjPmZJ3d7HFdgzJz5nB9rqnplxLFvtscNJFOKdAPkfklvDLJjpWz2bpX2YtZpuT/LE9U9pTjJkSdnOp1nMj4hIe9t6aBOrmTevFv7ZGVpq7Lvr8b2TX851/i+8PQfYfsQRkPzUb9C7MbVFbae5GCLY+DFbqDJkZddLLaAfxTdOhUh8ZqQHuoWRMrEkTpahC02Hp34emC9Yu4L3d7nlPYh2rnV9pz2lDzugPIe3xWJL9vPeswOxjGn5IF64hKuuiFQE2cs8hJwIjdYBxnWg8aWIx4uN4iAWR1Gli/PYadIwwxSF1l6reRNIfJS8Pm+ZHCoexprxfInL/vrHtIamdOZLu0l9cBnPGs+E0uahpC4UVcFl/lMLzsj5aHGMh/NbTvKSv2G95v2EulBYnu5SlNX1N3tlsv6hudwJNfUF8XIvw7NKc+couS5TjouWapx7GWXLFNLD7Q+uZP1yHoFJuVkRdTBVWKc7JL3iSS2h1l/ExzbS/Xmi5rkmr6irx6JOq3SXqz1PyTWxWPaS9ZtnlHqJUljH9AfJlqW9if/bSnIbWe5UVpdjRH7vO0KhjWH1dlWZd1fzTxYx6N15f6mblBz+17sc5ku4adl3jy4D9Xl1pQOb2RaCCoXTFDvq3z0YzditZt9D9YTVxnE/2VOeiIPX6XoWNOFSkfljtc2J+8pUGk4yaeCjImDTrJn31jufHZHlWITk1n2mcj62p/bk5Jy5XbcF+QNivnePKhyqPXDNRIc+7ObxBNPEq8cr6ApZu62DzGRF17iuxwYHU1i2S1Fl1Fe2y9TXBWMY07pA3XZ4D+in3ZgVkBxQJGXXG03QuknLZiVVN7drO4UTsPsGVU5mK0bjXSNAsk7p9WTRMzlNJ94YDuzMgI9GShbD5pGjzwy5HSKcujMbR3lPHqGqxLjbxKLk+xRzmd6HqgTESEliJXbUUz/Y8t2fFs+haUP0bnZ9qrkQV+tR6txs1oqt7oSxuCb/eKrjTggAtFkYybv2s4v1ce8Ic54mk06XuvkRYyHVyXGaZK99M5ef7NMbT3QOg3HdhOR0C6fTiMaEjPnbjVwQPWmZid7XjP+drkI5EQjlPhe12/rTU9W7nXavf6n8rrNMzOfKGXWB/mUE+/pI8Xjqf0pYFuuFCek45b9wNj3Hb1sYjtU6+9VDqytF8jD/ipvmhLLU2YNEOTTDobFgU5/L8vaj31O3lSK2jpUeEmJcJKBq+6Rt7E8ZUSmhsgbR9XnvJ/sko4M1nfhbOVmMf1cnoiRSRwDI2G0quXfrJ4Rn8yBl38YSN7EmUx9kS/jZlLz6RzNIpSXqTnGd76dRGxfgu4xS9rNM/Km1uTNoMajFXU5D8obWY2bWiXzyTe2beF8mo2yVZyweUnb0elX5glxkcjj/ktnwrb7OZpwAkPixDQv6mrlCYxb7/9orcTIm1GUux0qdRqtPX1D7meiffHyhCiTGTTL9ka0Sc6neRWH2zHbGd95Yb1/aiM22ToYMst9+2WKq4JxzJl2z7011/R75dKlS/od0XVC9hqqxy8VeHlRTUfmzBeWjkOUG9nTqHMoA5QSdMcdd+D999/Xn/wlg8DWcO8U+aNG8pGKMsh1+yurU5+XbVnMuhQ06vGCIrB07svphufLjzK9nrbLRJqAHnWiIBFBjnosHf9qLtFk0bX2FcsjCqeC3J+kMiWs2IfVtTF0T4kTLn8YqZGORze2HVJPLinNU7UoaBio03XNzEdzv+GXiIJJPj9c3tjpV+oJld5WHFWpNMlHAZIgU9BeiyVT5ORLP90sXVoiTW1MfSEiIt9FIhF88MEHuHbNdoghysm0adMwe/ZsRKNRPYT8UOj+ye1SOuxRJyIi312+fBkzZ87Un4jyI+uQrEvkr0L3T26X0mGgTkREvrtw4QJuueUW3HTTTar3jSgXss7IuiPrkKxL5K98909ul9Jj6gsRERXFjTfeiFmzZmHGjBkM1iknMiVD9tjKYPDq1at6KPkpn/2T26X0GKgTEREREQUQA/VJhmfAE4e9g1RMU3k/ZbtFXrGdpUyux3aBgfokIhuw22+/HZ9++qnaTrLCeiEbO3njh8wp++ijj3jQy0O+ZU/k1VTdT9lukVdsZymb67Fd4M2kk4jsZZAN2GeffZZTAybHlb+Rv5XToNzlW/ZEXk3V/ZTtFnnFdpayuR7bBQbqk4i8FFjIFQ/5WzkNyl2hZU/k1VTbT9lukVdsZ8mr66ldYKA+ichLPoX0MsjfymlQ7goteyKvptp+ynaLvGI7S15dT+0CA3UiIiIiogCakEB9y5FD2KLfT4SVe36K02/ntgypy7wce97oz3k6gdN2SKxDP362Z7ke4JeJL598tjPR1KD3vyPP6c9TTQHti27zXF9v7MZKPVoh0h4vMmwP1V75NP9SMNrXfhxp0wOk5btxxPdjicOKfegdPAbrbGnqaNnfh4HjW/Un/5j11f9Yp/hKH6iLHblhjn4/WbgucznCIfFPfBxjxoBJaeXssPp3/IPD6l//TI3yyaZYjQoRZVJ4+zL2Wj3uu9/xemQjDurv8zYZj3F5KA/fLP5/EbF3jc/SlidqUKbfF8dWHH1mPs6+uATtegj5QZTr4CCObtMfJ1DX2gZ0oxm9+1v0ED88h6YaWV+B0Lz6SXMybGLqS96exzK/GnYf5BswHtzwqDpALfO91QtW+Vy/WrC3L10DnOm7YjLmOyAODMarD3tX6K88UHU98Vv5culdK6jXrcAy23YMA337xJguMn1HOWD7MtF2LpMnN49ig999PBm0HW9GePAVrD+kB0w4R1uW674t2wNLW5bSrqh2TH6XWxuZs23VqBjrxtLt+rMnWdrCNG1wavudum7tT3UjVrvGv3VuqxKn9hcx+NoZxEM1aJpkl2OKEKiblyTNV/IS4JYj4nNrDUKiyJr097bLZlaOy5MplyuyfZ+yHD9Fyii2abh8L2RaZvWd5VJl4tKlZbrGcj2HI/pzcphF1nUpouW78TMxT+t2MC8Rma+020j/1jqueukySZaP3hYul3WNeTnqSGJa9m2SKF/bfN23m41jOY318b5M2cRjo/pdgMhGUp24dSE6HkfsHeuwidWyfw3qxrtRV1urXt1jIdQ9k1tQPdpj/NZ4JXvX5EFAHTgORRGLx1Rva2JYNgWWWdtxfcB5J4b4eFRMxTKsIEb7YW8X3OuvW9217VMu9d3TPpfSpknp2/pScLa/vrejmaanvhPra21bjjxnLFOWY1y67XHwgxjwcTR54uF5fezHl+TL2B6ZtqFRX5K/MZfVGO7StlqPF2p6ehw9vGkOEKrZaEzPMs/UY4hbnc5mK6rLR9G7Vu5ZweBsyzpG5qPVaxsr25amMAZe1O3YiwMINyXbwbbjIoh9Guis7UZxjzAi4G4Qy/HDHfpzFlnayWxtsOwxT7bdoswGgbonnWW2Az2uw/Mh2qmHyoHzfdjQ3o+ROFBeNblSAn0O1GXDvRGV53YnLiX2nBcNlm6M1Bn4a3KzjaFHf+/akyt37kVhDHYY49x3/26MzNuY3KnV90hM476OM4BoHJKNgbEctTiDlxLjjKBytaVRlw1p1bCevlzOm1Hbmnqg8bzMJnG2tsmcrl6u028vBszLrGJaoZpVyQYw27pmYZ6dttaGxCo1J89S8+21E8uzqQaW5TkBLHI5AMuGWRyQxhOXj0+oHTJ+Rmz7lF6uw9jQKc9kK1FvWy3jclT8zAnsFJ/kAazpNsc2a3UcLGT5rgYO6HHSbbcksZ0t47905iLKF8lpmsvkPLu2L5NXqlHVZe/vJbs0ZMPo0hOhlkM0mC13RXEWoj6IeoDYWUTvOoaBZ8Lo/eGoqBdmL9Bm1IlqU9FUymVvQX0lkgcFsR6NGMBAPIxIwQFtC8qjZwGxPr37xWqPRFEuyqM13Iued8z1cvSAma+Cy0wcUMRv5j8ziKNyOiLmkuM3xnrRL2dr9pw1VYg6XIdWc76eev2fR4+ot7ZLtsvrUSlTP2z71HLUz3PU3TmLUT2s9ye5j8r9x5In7Xmfe2g8Mc7DqgtVt7Efn9DTFq/XRNHnFKyn3xY5k+3RonJLOotsRy3tbK6yHmMk0ba0lqHPHGfZ89mPF5m2R/sKNQ3F8/rIgHcxymS7q8cbFIEIzsvtsiJZD1y2oQzGN80bSW57sdxG2yivtB4Q07kZlQ/YZyhTW0LxM+hxHgMPb8TDet7qGCCnJ48DYp16zouSesh67JUnAg2i9MbQl0t3vOr1HXJNebG2v4lX0a9cybYshNGhZIDb9dZZxMsi3ucbP4t+8+rAoVM4a2kH258SgWzDOnXCnytZHke36f1L7k/qeKHfO61YgPmi5Ussh2KkwiTLM3msydZOZm+D7bqiorF0KTNVluXVeV4VtdBt5diw3LfEcf9NsX/Oaci/bZgAPgfqohAeMRtyw85hUSgpAVomxtlP/MwByyU1o3BDNYuNg4Bs0KyN0GHHWVLbYtSGLmKw0xIwyobEFkCKhtRsFIWdr4qgDWInKXjjWaarl0s2monGun1YjGE2gB7WNQvz7LRDtpBjyTP7fHdwI2c9hmhieeQlZktZm+aWISTWZCjRaroEE1aqLERQ/YTlTFZdjtKNtTgwNcxJ3WZ9MhC3/kaWr2U7Zt9u9vEPbuhLlr+z3kjWZfIoVLsZ1UO63HtGxedmb42L47Jn4uUlUDm0Dr1jIcx/0Nq8GT1O3U/tQNf2HVgvG/qXgcbaOjRXD4nlW4L2Q12iXnRhfYNc3l0iQLb3TjcWvbeqAuGQqF/6oND2pDhE/HAdouMhhO8yhnlhDZST5dWF9u3rsFSsR6cI/+vEdlDbRZaHWG8ppQfM3G8KLrMdaF+7TvyuFkPVzWJ4I/Cy/E7OW3y9fYkxvqgfiA+gQ//WejUgk4M/H7Gd6K58oBKh82fswZQ6IF3EyM8tddfa9uh9FLdFjH00z31OUW2svQ1F+wmxPOVo8HgEzLQtcqbaI2u+tDwWZU7LKF+U7ElWL+uNntmOMYoouw6XtjGTTNvDyuv6LI+gTIyX3ObG8QNzqhzHj9RtqNIercNsx6bD6D8n2nPbceg5VM8RU3rTUReySI0BXE4oPWirrrAFxQmiHW0us+xT5j7m6RiYPFlMdlLIYV5OoGWPMhCOWNrgu8IIhcLiGOKBDMwhTtp1+2XsD72+pfWEG5pFGyTaq7JqHH1Q98y7BL5tT9Yh1mcvK5liBNtVy4bEcmVrJ7O1wU4tkTDiI6dSt5XjxCVf6uRS1OxErGKr55NDcXLUZW+E2fgt8lRlLYybhBKXz9JOR/bomN9vFAcNPVhIDTYnymFEP9ZvXXld19IxAlnzsm2G3rF3x0WAXI7qxF5vNL62S7c2zgOIcZKC88NGY60OTLJ33FIO4iUvpfprDDFxwA2FZRmby2SeXZsnTrkdQGRwkcjtk2kP+m1WZvDmfHkMVNqHxElB5YJET0TL/kZbj5PqZXoa6B0cQPdQtTgY+ZGG4SN5gEXuByb7pVN58Gm2pLYYPUGrxXQHBrtF0CzKwNKzVi52uEw9YAWVme61qh7qFr/rBZ62nkQUSJ/omif4cl8bG95oBFOqLuvgPT6Cfq/tXgH7nNHGmu2E+bK3w9lk2xY5UScJ5ro4rgikkXIzqfWkQ0l/jCk6r+tzOIpxR9CxpUrUB8832VrTZhaLLZpkHgvMNt7sBU92znhkrot58qdP8nLqTc8gJdDbPoRRr8HytmbMH9ml2pFY7WajHVE9zEbKRjZGLvVmFeirV4NYFv1ddsbJf0esUf12NV7J7yQ1jdD4kG5bK4BompMWeUWzfBRDttz0FkTKxK+q07ddmdvJzG2wjTgGtNbGipjOZJxc2o/pz2PovIy7vHWGBkERUl/EDm9N5VCXAXPneke+2cOhTgSsl1315b5JKuO6lpy+SUu8VNqSbMCteaAmeYVCXSo1G3mxPWSqUcrBzkKdyeoeN937N/iqdfyx5KVm6yvTNAtlPbt265EMsu0iIEQdmlSQar8MK1OimtGtrqwgPB+Rd8RJwYtnMf9pny4Hp1wNyC3HXC7v3gao3v/CyFzGuO7Vkj1hRk9Q41qx2pURjD0lDoQj87Fa95aNibM02wFI9oDpt4WVmfk0ilosfSeC+SKOlQdh+fQCT/nxWekeTnnFStVTI2BSPe3q5Ff3Up7rz6m3s6B9Lm5JmbG8rFdUM8m0LXIne5yN+b90BjrAzSUNx2HCjzFe10e014kUS6MtbprjcgXEhUx9kcF5Mm3GSF9MMgIaI20lv15wg1F3zU4adSJhdtD4QKZOWDsssCIC41lm2ckgPxaVQeIOLBXBukzZGJD78cter0jL31k6WV4+K/YLb0F+MqAVAbr4bSfW5NGOppc8CdZ55C5aHpwPiGDafu5lP4FQL0uHQ+Z2MnsbnCA7NprEMSDjVcXcrrQ6GSeXqZ2hRmeEtaMx2PwN1M2Uk45C7gQ3ejzTJ/ubPbGiAU1zMFE35fiSxlJs2dZ1YiXyLV1Tl57DEVtuvXhlPTgk02P2qFxHS+9fSg99sRhXMeIxsynVyyTOro/IZZI3nJQqTi8k9UXpQv+IDnZUL9AAenTPiOp1VkGw7B3Rjd2hdWjMMyUqRcrVAG8pHOLwIeq82Df3y54s8wAhlzH9wSQb2TNrHGyNA4y6uiEP1rpXTZaFmdLTtfYVDJRZ7uWQBwpdJoWVmTxg68vDMuDUPcMyzzS3Jymkp9q1UBnqVdqLDnRUT7vYb/bkcZJZwD5nLEsuKY2pMm2LQqiUDhG85t+eZD/GlFLm9RHLutp6r5B8eenkMe/F2Z3xxEqlFsrtvMc4tufbiWH2zjccOWSkW9k6aAok2qLucct9Hzk8vlHu88n90wy6k2keOZP7vr6RPBt5BTQ8uMvSNjWge6wC1b6c2HuxFU21wNm33JdWtYe6fZdBu5kalLmdzN4GKzJIl3ntWY8b+R8X5L6hrvLL/Tixb5gv48Tbee9EUPkbqKuG/2aE5+rPKpiTm8lJB9HLl7sUkpmOIAIna6MkezhUDqFOJ7Hk9a3cs8p+WdK81Ga9eVT+3q1n2LNMy5yvbOuao3wvG1s55m1cRnW5nC7LInFp1vLKUsZGrm0Nap25jio3Vuw4jhtX5c1uqU8MyIU9Z3bLEXl5137ZVS2TGFoul0ndcFIiBaa+SOYNN3tlz4hbnp+14UzDlmNZdPLkAmI9kbzcua0ZdeluZsp20uJ66VaQBw6Xg4DMAzUudZvl7XagKLDM5HbNFHB6vSzvpK9I1YoAK1lPjd7K8hrHia8Xhexzbm2sDBrf8JZ2InnbFh7Jmy8tbY9KAxKllXOahuLhGJNVgceLHNcnJd8+69UEawqgwWgbHcx7i2rENx47MRKpWGLdk3S6wZzy3OupJlP9XNMxVApd8l6HggLtgog2q8ktj969LVNXAmz3M8l7jAoJTHOkbs71nnoYClfod6Ys7WSaNthzkC47nyz3M6Wlrn65tFmq4zjdMV3HXgV2NpSKv4G6aPgPnJFP1TAbiyoMOS+nWXPvWjdilVurLm/k6TiDMmvjI+/AHxaNifh65zJ9t7z+bhUOqKd5JMnLhuKMCclxVDrOm+r5C7nzssz5yrKuXnWt7cWo9WkSed7xLuc5Jk4czGVJexl1rrzp0nHpW/b6iO2SsXz0TVnyQOE86Mge/JfOhG15r004gSFxwpe3+Bn0iRpiWx9nj5MOWOS4KU8zCDrRGPaOVYiDU/qekfREQ9snb35N5liW4ok1qic1XoFms67KR5R5vtSsD3rmK8c/fiL3E1tOac55+wWWmUxXsq57Tpe6jWDHue8YJ5qi+uac9lLIPmekZvR8bGlj35ZP/OpDdK639rHwbZG0ci4wbmnvjSdXZe5ZTg1uxUsHx9mPMRn4cLzwvD46DcqeviSPueVoytjZI7affOqVpa2XT6ORT2ix02krQvZOjGTHk1rmVnsOsHHjv5hOjjejJsj7f9yeAiL3KeuVGfHyJ90sO5WrnZivfMb7rown+DbySoBou5NtgUwZSZ5kJKfdjApxmlb3jHzv131GMvUwzc258jvH05haK8+io+A0RUlM++k6sTbW9Zav1HZQpuWE0jzlx8r8o41ls637me4kznRM12mv9s6GYJp2z7011/R75dKlS/odBc0dd9yB999/X3/Kjx/TMHrOjMdw2i+bphsedNmX259yo4klD0BrgJctPW6qd6cOsR7/UlT8MJXqm/u65LYtuP+5U4/XFCdWzhSddMMnlOz5lJ1QGVJzsm1nGbw2xpLpIpIcJp8skqwz8mTeCJpt6RaUJPc1+Yx2H1LNikNuw0bEXsx8deR6aReK89QXmuLcHt0lzmzV5eFJdDOmyeenEFBAuV1KVY8A0++pdLgtfKEefeh8JrQIiOXNciVN48tqeX5P1HJI/YuVbukiOzBku4xPdkavtvORjEESvL9AO7HYoz6J+HH26OcZqHxqwKaam/UnySWtJPDk48kWozzLjWPs0Zsa5BML1B8Hs4gHsOdtKtW3dOuSy7bg/peB6qm2ZpcX+kAH/xnHCpm+k3m5PG1nZ46zvClf/iExq3yfx08TTrULMtXGQ2//9dIuMFCfRCKRCD744ANcu2bbZJ5NmzYNs2fPRjQa1UPIq0LLnsirqbafst0ir9jOklfXU7vA1JdJ5PLly5g5c6b+lDv5WzkNyl2hZU/k1VTbT9lukVdsZ8mr66ldYKA+iVy4cAG33HILbrrpJnU26ZUcV/5G/lZOg3KXb9kTeTVV91O2W+QV21nK5npsF5j6MsnceOONmDVrFmbMmOG5IZOXEeWZp6zUV69e1UMpV/mUPZFXU3k/ZbtFXrGdpUyux3aBgToRERERUQAxUCciIiIqEK8GlMb11qvOQJ2IiIioADJIv/322/Hpp5+qOEoGk1Qc8iRI3kwq89Q/+uijKR+s82ZSIiIiogLInnQZpH/22WcM0otMlq8sZ1nestynOgbqRERERAWQ6S7MSCgtWd6y3Kc6BupEREREBZDpGOxJLy1Z3tfDvQAM1Ikmtemo++Y+nBwcxEBfJ1ofLNPDCzd93kK0vngMJ98S0x7sR/ee9VjwJf3lJBVpakf3abE+p1/HCysq9VAiIqJgKkmgvuVIP04feU5/KtzKPT/F6bf7caRND/BRMacdGG2HxDoewhb1YTn2vCG2T+LzBFm+G0f2LNcfJrEvLUDr9/tUILj3m3UijPZTBAu3HMQpEZR3f28pKov5B/xmVmPp0+vR8mAFysR84p/ExesCLlzU309hW4449wW9j/jehhW4z6n9uB8/87zfeF0PMd6R3VipP+XPbFvk66dwXUyxDs621peysVLllGb+Xon26We240IOdUJvJ9fXG36U8xTgxzbyzKyXjjpWirpIJVOKdrxUJmWPenn4ZvH/i4i9a3z2UzGnHUzlCIfEP/FxjBkDJsSWJ2rgX1/wBAqFcUeZKNAb9Gc/zQwj8uWwz8G/u+lzq1H7+xHx7gpGX9+BNQ8/hpYtXRie6imYIiBrmKPfB9zK2WH17/gHh9W/vmlbjNrb9PsCrNyzCrWhMfTcX4/77n8UG1IWUxw4HyrX76e+sddkOThej2zEQf09lYrbMe/6qouFa8HevkEc3aY/Fmwrjg4mp9eyvw8Dx7caH/IxidpxLyZloL5zmWzk3Br+whVz2sH0PJbxgOGPW6ux8JE6lN8qP0xHuLIB6zatx+qvVkMeF+T3zRu2Ytf+fegUrxe+1YIFd8ovxNhVzXj2e/uwa0sLGh5uUe/3fl983r4ezVXy12Wo+2ojqu9UUxLnA2Jaazdj3Yp/iX92oxokzECoag1eeElP/5mlqEubqhJCVdN67HhRjCvms/d7WxPLWVbbjJaF1YjIc1bpd6rRtGkzVn+tznYyNb28Eav/5AXs3d8pXh1oW7vQ1ssfeVCsx3fkeojvX9yKdWY5mBzlsWvbaiyclzwNidy3FK07O4zf73kBz36jERV6+hWPrRfr2YEd31yIhmWb06/zzAo0fNOcRwc23zclTgeVgxseVcHesnY9IGBUp8f5YezUn4mC4fo65qmgV6VG7hPhtV3iu8TrGCYkmWBbNSrGurF0u/5MNkV5jrpMdWkyz2biZzD4cQ1qcQL3LXteD3SMg4sY7JDBsbw0sVGMewYvOXYieQlqU00MPfevwE55mWxRWP9GjyAvTbbWJAMBMV/rNNznpz9apUxbL1NiwrKHSCyD/pSgfgf0dIyjwVyO88l1zjp/9XvLGb3lt6nLYPTOJA/Qz+HI24uB13Yj9pA5nmU5bdMW8z4TQ22NWFb9vVq225Llpcp63ghe6gRWJcrUuczGPFP7INzLx9h+ZuRnWX7ndpMc2y7BOW6ijPSy2MrMYF+3TNvS+K7y3G70hTfqbSXW+deirO4ud5S3ZMyz7MxuPKwKJYQFm0Tg+A1HMCqM9+/Fvzt0EYv+eB0WzrV/e+W9U3jle9vR/YWv43v/oQUqJne4Ej2FY69/ivplX00Eqgnv/Rd0/beb8PhSexBtGh/swo7tu3AqqgdIt9Zh9ZZnsaahwtE7H8dIz8s4/nf3Ye2/WZAyvfgvOvHtTXsxIJqIUO1qbN3yTTTcaZ+CMb+jmP7UVnz7j8QyWb/+PI7hnl3Y8afdeH/uUmx9TpTHPMcKjw/hWMf/iYGK/we+vdLxe2H8F0ex6/m9GG/4HnaszbLONzRi3Z98G6vdgvPPx9HXsQnPHhrRA5z7qMHY7rrefHwCPVicHCelnnpsK4REe/Ya0GTdN7O0C/FEfRP0/jBurZtu+5OklrUf9RnXI7WdcV0mJXXc5D7i1jY4ysLZ3kl6//VaNrm36X0ItyaXy1aWUk5lnawTzjYnhZ5uahtilak8pSxtvFWa9TDLyzZds75Y2s60bbWQODa8WYZNeh7G9Mtt29xWdmp55PFmGNUZx3Ec0zNtjwRnOyzpsnTEEYl6JcoM1uOCYz5KjnVRuuOOO/D+++/rT0Ege6mbER7chcZoMwYaYuhoWIcu/a0kA/WmaEMeAbLsUd+McF+tD8G1nNYa4OUGrD+kh4jlWo1X0LjWurTunOVeyna8VHzvUTcKSa6Y7JkWLxHsVToKTY0jdxJznI4RVLbK/LTD2NB5BvFQJeptuWrPoUk0HPEzJ9wLSzc2EDureUnxpXOVWKUT3tLPT32d0ZYjeoc3fyt32LQ5TuVoai1Dnzmubviyzl83FLIyqe/FS1YkI1/O0uiYv39tDOWLUnNTyxdtRPhNcxq6YqVM+wAwz9EouQnVYNNq4ICeZ8/5m1HbauZ8JRtHY5q7MRgXg2Xj5lKhE427npax/Hr9D2/Ew/r3siFW39t2Gs1yoDTmaZSRkW/2PJaJaWJOlT0nTfxGXv4ae9MShMgDa2I5xLZ05B+GajaiIWaul2iMV68Q6y7K9iF7LunKPQ1ia4+hL9Fax3H2dC96T4+Kd9IVjL87hOFfDGDgr6+hZukaI0iPj+JUz1F0HTmJgegVTL9zAZY+9Tj+lxnqRwYxzsCPj4rgfAjjnwPTI3WovSOGU/9lCFF9Hn0lOqKmfWp4BJ9a/tbDlfeGcPL4UXQPRsUSAGXVjVhYb71pUpxQrFyNFhWkxzHa341jh47i5PC4GD+Eyj/8I9R/oR9/dugURvW84mPGegz++q8RU0PKUPvwv8ICGaSLZe073oWu470YODeKvz53FpeqWrBG9r6Lr8eHe8X0u9DdN4L4DSFUPbwUS/5lI5Z+o8UI0q+MY/h1WR7d6BuOIvqbKC7OeQRrnjJ+Hz/Xi+4j+veiLMrueQKrVz6G31XLYXBf5/uw4GstWKKC9CsYPW2sZ59Yz3TU1TRZj1TDbNQRW2A1ZzGqh3Xduf8ExuQ+kmgLvNUvO9FeVA0nxrfvY0IieDHnuRsj8zamz0lP2UfEMorBar+y7lNp10O0v4+ItvPMRfkjvb+6Bb/Z2iSjx1LuN8npONqF9hXGvMXbRNtkC3gzl03ubbr8fRWGzPHF8sp9PZGTrMpaBpPm9M4A1u+LqsA23ipDnZH1W7Vli8xyFPNd7RKkp2urTbK+mNtGl9NpdRKR/E2oZpVjW4jt+Xay/GUds5W/k+e6/zx65LTm1Sfb5+X1qJRBli2OWI76eWliiALrYkYr9qF3sA97xbmBVdvxwcJSOzzZgaW1tZ6C3cIZqTADel3l+h3dpofJ9VTlkGadVyzAfJxFvw7SrVQ56d7+3v3O6wHuSt+OF5+/gboZGL1maUBEINYnG2yTGkeckXZaDhxqHFH5nxCFdbgfI3H93tRW5QiK7GR+c0gcEA5YvpeXhdUZdrb5ZbQcEZmr+XE0+Vu5U9t2Yit5pu1oPLPOX1QMmRsnGktrZZKVTX2W+aIhx+/FMqiGzto4CfKAbKuQrtMWB+M3ZSXORlRyy8F956viBAphRGTDtzwiQrWLGPm5Wd56ms5AWVOX6K2BQvuwmPrNqHzA2eimp7axs4zkMs1pMA4IaprlaLA05CsfqFT1oidRjmKdrNuu/YQ4QbD/RpaVs9dm57BYNw+N/vjpLnT2DCGmAtw4/vqNfVj7zXXY8fNp+F9/3+jVHX93BNGLIpy8HEP0nfeNwPKuatyV6PSNY+DIC9i87QW8sP8ofj4mx5iO8C0X0SuC2REdZ8ZGuvHdTevEeH+GXxlnBuKnIzj60rew9TsvYN+hXrEfiWHTQ7gjEk72sH6pGrW189XnK+/2ovN7O/DCiy9gR8efY+BDMfCGCKrvuhFnB3+JmJy1WMKoWK9WsR7PvnhSB+8zMGu67uq+QcziShT9nc9i/YolWP/iEL5cW4cKOYNLozg7EsXlfxSL9uEoxuSyhyL4Xx54CA9Wy/x3IPrWK9ix5QV0iOV4dlUTmr+xF3992x8Yv48PoXv/d9H+vV3itRfHhtUK4Y7qGvyeSi8S0q2zKNP6eyv0ev4End8x1nPXjwYQFQF/Xmz1zwgQcFvE2Ae91i8b+/i2fUzvu/EzByyBsrGfhWoWux805paJ9R3DkGMZne1ExvXwIoc2KX8ZyiavNt3RNqttI0KwKj2+Ctasxy15HLJ87wMZeNtvJtUH/4LaeKvsdWbnMhmQisBTBCaJewgs5eytrbb8RpeTrU65/sZe/gc3HLCXv01udf/gz8VJvKV9Vu3++TNi+pZlUMG79ZiVi0z7aRaH1qF3LIT5D1qDzK2oLh9F91M79Of0rIGq9eVfbjhQ0WSZdl4nD0bvet14N+pqk73i4YZm4OVdGCirxtEHgc7aboyWV6ek1rQ9WYdYn72nXwrVbkb1UK2Ypnj1jIrPzf6k5fjejhefv4F6yoHChRpHNKit9kYreanCGfSZwWa6XEeXYNoq6/wyMZdlsfG7xFlXDrLO37ixJR5zD57VDWMiGOl3tC8HP4g5gkc3xrTHhi2Vzg+Hoxh3NMRbqsQ2ynhDquyFN9ffeVk8G72Nze1gvuQlW2MEwRmU6Ksw5/pVvTBuvJO9Opbfvy3OnJMTSE/tqJYgQO/M6U4cncJldyD8O8b7snsWYsmKFrR8owXND+rUkxkzMP1G8+5TER2LwFa5HMeVy8bb6TP+Kf6p8TYDMbIOQq9cvoB/UO/FtK1/EOLWO4ybXYXY34xiVAf+V8bE+9/II66oVr8bwezklW8XUQycHsDIJ+LtzAosWPEs9r7ah6P7t2LJgq8g8uVZxnrJ754y1rVl2UJUqZORGZh5y+0oU+URx/tivraLxfKG2Yjx+yvjoxj5G72AItAfHY2pE5vpt85G2c1fMIanW+fQlzFbr2f8/eR6FktB9cuVse/KXsfk9MTLeYne6t1xUaLlqE4czYwTyrRtY54Ka5N8UFCbbjqM6MfiH9sJijjWJJ5SU8i2c2e9Ymq8jMDVv/L0Umeex7IO2cGxGJtqkNqxpOTSVutyzJlb+ZtyrPu6c884Hhl1fmx4I/rPieNB2PiN0WmTWsal0D4kgszKBYn88Jb9jagYG0KmMMnU/pQOVB0vv3K5u9Y2WKYrA+nmHE8CjCB9/sgu1DlOPELjQzporxCHjNRAXFmxD43ipGXIbX2sOevvxETbVnz+t+P+8DVQN1bSC3HGYmuw9Ms8i7H2juoz4cFXCwk2s8wvE9XTIsc/gTEdKKZefssm//kbT6HJk+r5LgajsTcueRqVWaU7uaWsCCv3yEdcWVNljMuMuUqkxtheyUvzRs9KDZpkoOJ2FSZxGd7+Ss17dDqsGn3z5FGdlOR0k9xlFWDKIHy07yi6DnXZXp0vH8Wpv8u3m3diRF9/AW3bdqG7fwTRT8TaTQ+horYZ6/7N13DnDD3Sh0M4ecS+rl0H9uLVv4rit3qUUrhcqqLNu36llxrcyZdbcCUc3oiHdcpE4gAj0ym8tHM5KKhN8k0BbbobmWohyytxyVun85WA3+WZtc6oEx3pZoTnqjcJfrXVfvBe9432WXXSqHjB6CxUxwPVZusroLrTpuS2d2MAdWhSAXAL6itDGB3K3pteejvQIyp9OOItxUSqaDKCdLf0muQ6xhF7R791aHlwvjhb7PZ00lIyRWjHC+VroK56ALJdEkrp9XGT7B3do9JaMp0JZzozFzzNz4tk3mVOl3ezzn8MMXFAMM/8nVLTLgzGSVEM0Ux1R/V8A2Wzcz2xyGa5ym205ounDR4S9xe43QjklbGNs5a7uvwtDnxVu1OuwhTa23dwQ5/YUuLk8cgh47J7DieOsffGRDAr303HjBui6N2/Cx0vJl/7jp/C3+me86L75H28/6ERgYQr5mP+bPUWobsqURkxDt/xv4viA3Fekk20vwvtm1aiuWkV2ntG1MlI6I4y3Pjpx0bvx+/MQHzoqG1dO/Z04f/7iyhiavoh/N7dVag001ikS6JOR3XPedl8VN9lpMjgSxWovMt4NOWVTz7A+EXzskMaVy+IcYzTo/AdEUT0PEI3i21gvPWV/73JRruQW+rFczhiy+sVrzQnz4UoqE3ygy9tuvVKrHnVNpmrXUr+laeXOiPriEwr2a1Sa+z553601V5luhKee9039r8y1Ku0F93uq552UU/2FJL24ocu9I/EUVEtc7VlPvYAejz2iJci9cWqPBxCLOo9p320ZxfOVm7OM2VmK5pqgbNvlSKH3hv/23F/+Jv6YqYIrE7eeCfP0G2XJM1gKnFDi0HeHGS9scTsHa0VvzVuBkxP5YyJcc2bRyU5PdXz7XF+6djHew7VYnlyOjPPOv9kek1yPsYlWPXZpUxl74+8Kz/tzbUJ+oTHemPP8t34WabL5zlIm3Npk3oisuWI++XUxGXK5al7ids2Vuvi+IMh6qA3R9Qb51UYt3JU5ZzpBjSr5zEkT9LmlGc8cbz82zguqh5cEYQ+uBr7jxxEe/1vcWZwVAWfkQfXoP2lF9C25QXsPfK6+uNFJ/evx7+4Rf4miyuXceGKDj7vWojW/cfQuX0FKhKPZ/TgwyH0n9I3qZY3Yt2/68CO7R3o2PZN1Kn7Lkcx0D+AdzKeOETQ8EwnTr7Vh6N72vHs2mYsmB/RQfR5DJ76rzir8tEr0fzM97Br+1bseLET3fLGoreOYeu89zE4pG/8rP86tu4U09jWga4f94t578dXp43hnDyxkb/f1I4XtrVj13/chqXqkThxjA6KA7A68cngsyj+asi4sXf6vCeweWcHdu05iBeebkRZ1mfcm7nQyzOfGFoVXL+c3NoFQfb8pkvBk/ORy+BICcnrj+qIoEftjW5lUFCblMroSBDz8VpOebXpYnkt+etGfrbZRqR29hjf6w9eqB55b8eUFL6VZ/Y6o9pefT+XkSduna/3tjp3jlRJ+ZCGtFfK86j7+ip8rSizZKqn0dNeXpOtsy8p57roUddbZxEvr8Ze2YM8cso9DcRFsVNfbDKloaTVhfUNMg+9OfdgXT2SsTeR0+6/ILTj/vA3UJc72CP6Llp9kFiFA+rM3UreKPnSmbAtD6gJJzAkAuEE8yYVsftlzHmXRMP9sDMV47Yz6Pu58bWn+bmS31svJYtG63zqzYbZZJ2/TK9xXrKWjxB6V9YMWaa7MYhkmcpcPXlZ0MtyyJuDjLvU9W/lk1xkjqL+Pi/68qL90nPyJiU7sfzyST46bUi+5B3X6okQCcmGWX6/qdXlZjm5jcU8xi3b+HRrJUbejKLcugOpBltIaZhlOYr5fmwpR1HOlef6EJ3rbQ80biLKfOI4fnYAv3xXhYcou7sOVXMrUXv/XPzm5Cs4eloGpyFE7mlE89caUTe3TN2I+dfn/hp/9w/G7zN6f0gEuEbAP/3OatTdXYGq2hpU3m7ma3sRx8CPXsErfymDdbmMC7DwqwtQFRFh9pVx0di+gs4fJx9Z6GpmGOGbZe57CBX3yZz7pWiQT3C5JJ9ocxL/ufvPceDPTqpgenpZJRZ8tRkLH6yG7LCP/+0IRt4dxNEfvIKfqCew6Gk0LUDll6Yj/t5Z/Pc3DmDvwV6MimKcHqlGQ9NCLLhblJVY86gI9Pf94KfqSlFmH+N0z1H0/trYFpGqBVhwXyUiM+Lq6TFpmQ213F9aN9pPDDMqvH6lkO2C2FfLrCfE8skkwyLQ0aPYzJXpXo7LtnJfd57gZmFePVLtlSgDlUpmU1iblGR2JMh9eiM22Q6OmeXepov2argqMa6Rn51Mm1M3WWY5bmVipn3md/XSr/IU0taZufjLN0QZ2VIUxXzVU9bEfNXJnP6csa3O10WMh1clptskr0qme5ymlGvd1x0pznhBdfiJf7N3ruVfFz1RN5VWiCC7lD3Ixh8RUr3wTRWiqa1Dq3yfeJ665Xv5emY+zr64JI80FBms16IbIlgX0/HW29+CvQ0VxUsBClI77oOiPEedpjbZcyUPis7LxOmGTxmyR0ceLNKm+WhfqkPzEhFcVoZw4den0P0X3RhWPcDyjwwtQeM981EpjuvRd4Zw6uRR9J0TofeddVjy2AIRSF7A2OludA+KUHRmRAS5T6D2KyKAHRXT+dEAxuWwxUux8L4KzPjwl/jJD7swNOtxNIvPoctR9L9+FAPv6WUQwW/5TBHcDr6KY/3WB6kb5B8UahYBdOWd0xEbO4vht/R8JS+/r1+KJaKBrrwzhIvvDaC35xhOqiezGKaXL8DSP1yA6soKTP9kFCN/1Yejch3092r9Fj+BhnsrEf78fYz8ahAnXxUBum6Ckr+/A/jNKIYGe9H9+pA68Mo/yuRpneUfoXpKBvpiGn8rlvHkAHDPv0L1Fy9gRKyvdXknN9nrY/wdAHtwl244UYmodtPxjPQpKHjPUQ8w+bjGp4FOx3Pd83E9lDsDdcqdW8Orhhm9QOkfHzaZMeChYJNphok/CmcbZu89JiopBupkYzwpxp8/lsRAnSg9HZgnZbmUOckx4KHJwKin1qeIyBS1LFeAiIqJgToVEQN1IiIiIsooEonggw8+wLVrtpCKimjatGmYPXs2otHU1MypxOebSYmIiIiuL5cvX8bMmTP1JyoFWd6y3Kc6BupEREREBbhw4QJuueUW3HTTTaqnl4pHlq8sZ1nestynOqa+EBERERXoxhtvxKxZszBjxgwG60Uk04tkT7oM0q9evaqHTl0M1ImIiIiIAoiBOhFRFuwpIyLKHZ+EUzgG6kREGcgg/fbbb8enn36q2kc+1YGIiEqFN5MSEWUge9JlkP7ZZ58xSCciopJioE5ElIFMd+GVRiIimggM1ImIMpA56exJJyKiicBAnYiIiIgogEoSqG850o/TR57Tnwq3cs9Pcfrtfhxp0wMCaMuRQ9ii308ZbYdSytzYFpnXNTDbSyy/XA71cq2Py7HnyG6s1J8Mz+GIGP9ne5brz/5Q+4ReFs/lsnw3fmYd3/m5KIz1P/2Gs1z8lVd5BMpWHB3sw94V+uMk1rK/DwPHt+pPxTR1yiy4SlfGpas31y/um9enSdmjXh6+Wfz/ImLvGp8DRwRQDXP0+ylDBLEPlev3uQnG9hIB56JyxM/sxn331+O+Zc/r4RZti1F7m35fTOKEoWnORQx2iOUQy7KsXQ8PouURlMl/P47ioBpQBJOpPFy1YG9fM9DTgPWH9KBJrGttA7rRjN79LXpIMUytMguuHVj64lnMf+YYinr+u+0YWivPouOpHXoAFQP3zevTpAzUdy6TB/RHseGwHkCBFojtpQLOixj5+cRXmpWzw0B8BP2Tof4e3oiH053Y+GRSlYeLlv1rUDfejaXb9QCTCF4GBgeTLz97wgqatjwQW37r0nPW/lQ3YrVritajlrbMhLbj+ayTBwWUmerJtP520CXwdUzfDKYS6+N4Hd2mvi6+Q+vQORhGc9F6YrfiaFMYAy+vQ5ceIqWWmZ89tNnrcDbO5UtsD2c9sU57xT702r7Tr759YolKY2L2TdnDbl/n4p4skFVRnqMuL2M3mT3K8TMY/LgGtThhO9jbxhEB1GCHDOSWY88bG8W4Z/DSIxttPXgyfWJTTQw996/ATpnCsCisf6NHkGkArTUI6Y9yvtZpuM9Pf3Swj5s09pru7XPO63xy3dx+m/idWu5kr7Ts3X3YbSEyjqfLKDFzy/QVmaqwGHhtN2IPmeONqXIbU2Uoe7eTw3bqT1LaMnIsj6LXObFdXgOaEuM4ytexvdRv5o3gpU5gVaIcU7dJ1u1g5dwmlvUzltFcb0O2Mk0uj1GeZWdOYGTe4uQ4lm1ucE4jtXwzz0e8zbAOiv5+3FEPE5+lTNPIsN/ArTw+lus4Znkv19esX/UYqrJsH2d5pCyHZtsvCyuPRD16swybdN0ztmt5HvuAsV7lKdsVuOOOOzL80Q4ZMKwBXnb2PskDWyNiL+rh8gD/TB0wuAuNa63hTD4Km7YMUFrDvajTvZ8ykGwuH0V37RJYdyvneP5JU2Z6PWI9teiJ+D1vf7dHStmo6YXR6yhDd45lKYkizlMGttVDWbeVn/XJax1OSy5zQwwdDfaTC1dZxi3efpJeyffNFBNRh69fvveoG8GVPAAal7HvE8FYpSPYUuPcJg7Y5jgdI6hs/Sn2LD+MDZ1nEA9Vot6WEvwcmsTBNS6CJXvgo1mCDTU98XrpXCVW6bzi9PNTX9s4x33pzEUx1FgfZ3BkzqsHixM5z6r3+LWxxG/k94nfiWBCBpnG73aLwG9V6jJkHE8HNvJERk9bzqt8UWoOdfmiVUCnMU7P+XI0vd1vBDV6moNxMcySp52xjNpXiGEnxBqJtTKXyxbMiGlVDRvDxavn/M2obc2Sox+qwabVwIE0v8m6Haxctr+xzsbyH9zwqFgfUa/EqOby20+QRL17RM9DBpJqGvaThlBNQ6I81bTmLLaUuSWw1fO/T564pOTuW+aTqB/2oDTdOniSbRrtJ8R2vxmVDyQnuPKBShUIh+bVJ3PQl9ejMiQC5lftAauVrHPVw3pdneWhlyO5jxh1R6Ud2U7AfSgPWY8eGk/UE+t2zWkfMFN8bovklou/YgHm4yz6nQerbdWoGOtNHMTanhRjDY4iFK4wBhSioGm3oL4SGPihPsCLALMRAxiIhxFx9NB1vXUW8fJq/1Mm0pXZoXVorK117WUvmM/boysa0+8MbU/KoL/bU5DYsr/RtiylsQNDYyHMf9D/XtC26gqMDmUPGFWZlUV86Hn2XofdiWC0QSxzn4cgXXonpo4d7raiqdayLCVS8n0zxShi6QuFfOZvoC4OrjI3e+w1Sy/g4Y3oO6/fS2ocEQR0Wg7YahwRqD0hDpqH+zEiggn13tRWJULBMfTZgqukLU/UICQCrAOW72Vwpg7a2eZnsxyR20RAca4/Me7BDX1izuWo1nuEmtf5E7ZgceerMlBpyBxQzS0TAZE1T1sGKfZgUMk0nsyhlgGUdV1EEC0DHVugJcTPHEhMe+ewDJOsvzuM/nMiOJpTZQSSOZWRGxFkWQJ3VR4QjWam8pC/sQRt9t9k3w5Wbtt/5zIZiNmD0kJYy9Os06GwvoKgtou9DIyguBwNHqNsP9Yh+zSM7Z6sK8tRP+9mjJ0RZW85OVbBe5ZUFBl0J/YBZ3moOjyGocQ+8jx6XOpoJt7Lw16PrHLaB8Q6qBSfNNNKp+XB+cDIqZQDfkskjHhs1PigAgkRmL0lDvg+BCqFTbsC4VAMUWvA+sN1iI6HEL7LGJZw6BTOeg5+vEtXZsXk6/YQv++VqR6J4KwFEXGWF4t6WSNHkFlC7UM+nSjabEV1+SiGPJxcqW3gy3bPoQ67kr+PI/aO/pjRVhyVV3nSBfWOE8CSmeB9s+34ZtSNT8B6X6f8DdRTDtAu1Diy9zT5lAf5SqY4iMD0TXFQNQ+gsrdS3sR4fti9N10HdWlvdss6P6vDiH7s6F1UJwlm4KznNWexbVqnW0VQIb/ORPdmGsuRoZc0w3jpcnkPfhATC+28CmHx7niGHgEhpzIqhWzbwSo1qDe4TKNI1HYRSyd7bJPl50zpyMSPdfA2jYM/H0kG5arnXOyvG4yT4/BcOb4RvKdOJweqvllPqoxper8htQjbNNs+UDQt2Pu0DCSKEZgVOO1tx+RtadfZwTb/MpPpBio/92mgs9Z5yT+OcIM1hzdNzvS2ZtR56rGcYkRda62NobfgtC+HAurw/Ket28txz4FMd1HDqzGU9iqP7pn3cDVhapDpLkZ5VQ/VljTV53rna6BuBCxemJe5HS+zR7J9WPWeqt5ID5fhs8syPwvVa4cabDIDLpWGYu/5VpfwU6bn0jtuY1zml+O+dAY6KHZLD0k/nvH0lGLxXkal4GU7GMoR9hwQF1HckjZkedlTbNLxYx08TkNfsZK90qrnXJ0AG73L5VXPJfa3gm66lb3TOiUrcdIi07U816WAbFM/iMBs/sgrxQmGC5q2DDKA7qwHW6+9lJNEAWUmn7hRJ4K2upeB1TJgsd2cGUKsT3wnvxevjkGg7unUGwxVmojXlIti8CX1JEfqCoSoa17zxz3zWofdnX05ub26xyrsN9tuX6K/G0K13NZuN4uqNJEB9BQjVcuTUu+bO7BUl9dQtQzY/bw5mDLxNVBXPbvZUh5SetvcJC+V71GXwDNdhjd62dLmlnqaX9LKPavsucbilUxz8aeXNpkznXm5nOOpy/cuPefGCVIM0XxjqxzLqBQybwer5zEk0y5Stom++lHMxwpqWa9oZOXHOnidhq7D4Xoj7WXYCJ5VT/ucKuzxkPaSnXwUprxpNbntckspmfhtWiiZjxsKL1CBRKIX8a4wQuPRgoO0wqYtc0tFG71fBqxmTrVM3UiXCuA1RSDYfN0eMpf+xQFH2oy9nFQOsX6fIFNuPKaJFI0P9S8nMkj3fJOtV7nWYTfJ1BlJpgW5k8FpN0ZDYXGEtFP3JZQ4hctu4vbN9qfkyc0UO4kPMH9TX8y0jdXJP44in8xgS6HQ+azli+y9yfLmQesfOjEu0degVua8v5n5IK/ym8W45s2jkpyeurnN4/xsnKkt4mWO6zYvdeNbyh+E0Scsy5cbwx3jGDfxuaQJZRrPpXzlkzzkUyzi6W609SKHMiqbrVYKKy2rXzQZtoOV+/aXqSd5XIkJlRkNsrndvHDbLqKM9rzh/UZQP9bB6zTUCd8csW/JtBez/qme9nLUyrpUSNqLJGcvy8ORSpXLH03ydZt6Ip/6IpYxxz/MJgMyVC5I7W3bPoTR8jpbIOF2mdxIp8ixZ6qgaXehfwSoq7UErOnSMWSPoSUX2Cqv5dbSlplHpS+zVDJISwb5ukyfTPbIylxf50mAyv/NcMOpfHKJ62MfFZ12kO4RizIgFt9nemSe7M1P5OnbZJl2RvIm1QpUuz1q0lOQns+8vdbhdNM2lrnRUlbpy0bWiUZUxGPiKGxl5OYn5u+UZXtkq2eZ64Iw0fumOulMPVEoZN6Unr+BukrbOIExcYA1UxZW4YB+qkOSfDLKS2fCtpzeJpzAkDhYJqjAQb7JkvMuyUvtHWeAmo3J6d12Bn0/N772ND9F31yXeFqF8eqxBrFyXvefwLhlXqdbKzHyZhTlZkxhzTNv3aiCjZVzgXFLKsemGtFmd1huutUyjyfL1y0lxGuKRXrZy0hf5VDrvRGbbEGp3zxsByu37a+ePJQtHcnOvGFVlYHYbk1pW0knI12p52PLdhFlVHmuD9G5yUAzIz/Wwes0VGqZYLvvQ99cCR+eNT9X3k/gSAWSV4YcgXdGPm1Tz/J96suhKGKh+ahPOTDtwNKeUYRqN4sDlzzoypuv3J8b7uzdyy6XaafqWvsKBuIVaFa/FS+XZ2BLKtgcG8oQZOW63Fq6MtPBjVymVnmDR3mzsXyuQVwpy0wE9bZndg+iGd22HF1VpmV6ecUr5Y//iHVbLQLLs2+lCeyKTgaW8YzzTxeoZjMWi6Oi2rmNRJk9LU5mYKln6uUefOY6b691OB3jWeRmXTC2p/mYTiNITr7UtnQ8mrHteDMqMu4bxVXyfTORs69fz8zH2bSPZsxz3pRWUZ6jPmmp50xDBAOOADrdcCoObodJzHhUZeU5598ISDc8+DI/R93oRcr3mcZtx/sQ+WEQn0UseyPTPye50OWemmUWXBnLW54gPRlFYx7bwpC5rmRU8LyvR9w3rzc+96hPctabWBNkvm2mp86Q77gdJjH9CMiaxbYrH+qeg0JvUg0oszc1t780aVyWrx4K5kFN9hiGB91uuvRnuadimQWW6s2Pud50qVIV5FNsCgqU5dWKmOvNs5n4M+/rD/fN6w971FPov1CoP0n2v2JJpcHtMJmtTPlrsDJtZXJeCcnWo26QB6qp8Zf6VI+ay+V+/02dMgsuWcbNQE+R/pCURSE9seQN983rEwN1IqIMIpEIPvjgA1y7ZmsqiYiIio6pL0REGVy+fBkzZ87Un4iIiEqHgToRUQYXLlzALbfcgptuugnTpk3TQ4mIiIqPqS9ERFnceOONmDVrFmbMmMFgnYjIo+z391A2DNSJiIiIiALI10BdPh2BiPInb1iUOdEy3eLq1at6KBEREV2P2KNOFCAyrULeuChzoj/66CMG60RERNcx3kxKFCCyR/2zzz7Dp59+qnKiiYiI6PrFQJ0ogOSVLXnjIhEREV2/GKgTBZDsWefTRYiIiK5vDNSJiIiIiAKIgbovtuLoYB/2rtAfi2nFPvQOHkOb/kj5KOH2mmAr9/wUp98+hC3684RbvhtH9izXH7S2Q2IZfwrn4IKp6fbrl4/TF9M9EtAdsJTb25hXf35l4VKGRVn2tPWtHz/zvcKlV1BZmYpZ70q5X4p5/czcL9/YjZV68KSm1qkIZZVJtnmWcptONhOxvQrAQN0XO7D0xbOY/0yxA2gRYD4zH2dfXIJ2PYTyUartRU5bnqhBmX5fVPKAtKgcY6/V47775etRbDisvyvIcux5qFy/v76Vh28W/7+I2LvGZ+9KV4Zu9W3l7LD6d/wDXyqEJ/mXlam4ZVay/VKux+oahM6fMPbLRzbioP6G/FW6bUrF5n+grnp8BzFgvvr2oUV/5cm2Y8nfitfRbXq4lHXasqfU8v3xrXp4CRxah87BMJqLOM+2480ID76C9Yf0ACdddrYyK1DbcUt55jztFuzts/zeub0ybWspsb2L0Ptdgu1FE2dLlQhqRDCwjGe0RbNzmZ8nQKVzcMOjKkgsZd2YrGXlv3KEQ8DY8PP6MxFl4/Nz1GVgthnhvlos3S4/y8C5GRVj3ah7aocaIyMZmKke4wYjGFWfw+itlT3I2aZtfD9/ZBca13YlPifHLwW5TI2ImcvvKzntagypsnBjfI+xCoiR/FlnGUg3xNDRsA6qRPf3obUWGPC4fjLIb0Zy28vPjTG9fTJua/3bsgEx7yiailqmxZp24eQfEEv++eXl2PPGRtR+fAL3LUse5LYc6UfTnDH03L8CO/Uwozc5jMGOR9H/wE+xqSaGnteApkVmj9xF9Z0taNA90Kb4md142BxBfQf0dIyjobUG4jirgmBzOYxlUG8Fl2lL8lKj+VtT/Axekj1q5vK+NoLKRclxZG+4LZjKtIwJz+HI24tFOJBGYrmN8qw8txt94Y16+c1ld0zDtpyOKVvKwSTTHDbNG8FLncCqxDrby0WVGRy/NctZb8vEdN4swyY9X2Ody23LZy0H9Ru5va3bSsipLM3lSLO9E9R4Rj0zfpqm3PRHJUMZJpa9kLpqylTf9HfjiTIxlhuv7UbsIbGPqR8Z+9SYWibZG54cltjPzH0yMRPn9xbOsjLL+P5hVFvKLGU7SRnKTMlYHua61WOoyrKfmr/3Y7+0SpmepUyyrYcp4/p4aG+c87HNw7nNnOuTpbxMjvUcO3MGZTWVGHEui6mQbWTyOk8/tqlzGm7byTQVt1fA+NujvmIB5mMAPTpIbNnfCAwOIF4WsfekZhI/i34zaDp0CmfjYURkb6qnacdx9i0ZUkpd6B+JIxzJqT+/QDswNBbC/AeLMM9t1eKkZChtyovR296NIf3ZD23VFRjtM4J0GdQ2VZ7FgFi/8F1qgCejQ8kTtPahUYTC4kTClG5bC+1P1aJOnyAUTxG3l+8OY8ObY8CcKksO73OoVg1TOaotOTxGb3KfpQEqR1PVsHGpWbx6zt+M2lZLLrDZeHcY3993/26MzNvoyOEV02gtQ5+ehtkIqkb4NnEQMId3iANAq0vu3+GNeFhMdzBuNORqXFsQJ5bpIeCAns5LZy6ifJFlOp6WUXoey8T3PefFW3lw0tOT48t5O4VqNqIhppdH9XjKA4MInGRDr3/70rlKrJLzaV8hPp8QoYdxsFDfpzt4hWqwaXVyfVLK3Cs5HXPbdZwBxPKe1gcmNey1MTHKKkd5i21lmXd+Zem+vdPLUG5WWcvQj7oqZK1vqcoXrQI6zfmK5Xi73zhR0vMZjIthR57TY+sAQp44q+/FS55g5JRjL+dRhSH9+5TtZMpUZh7Lo3xRP6qH9TiiHsXnLDbGKXS/tNLBEMzpiJdRjnp8y3ok5uWsV3IaImhLrKdan2T9ztreqPKw/l4sAxbr3H69zWD5vdh/ZNl4Li/JZT2Hwo7A2EotkzwpS05P7sfO+w18m2eh21TPS57ImvOSZXg6UfctpuL2CiB/A/W7wgiNR22BXc/aKGKhsGiSPJDBGurQqtMRWvavQd14r9HbmXXaMjAH6sy84xX7sLo2hl7Vu146KcGoT1TQbAl6bbYdU73Pnb6uawsiZXHE3tGf5ImRCNr7Y95PfmRZVDSZaStbcbQpjIEf6nXItK1LqFjbqyjah8VBzhKUt1WhXASjgyIoLa8yG1EjeLdfWh5Dj+WAuPNV0ZBBnBSpdkw0hg+Viwb9gCWwN04KQjWLLUGH7Alx9BaKBrBhjhjeaTkIiINEnwyunnBp1DOyT+fghj6x1DcjPFd+8rqMeRCBpb031rg0H4/JcMIgUyXs43ghytxycLSXeS4s2+5wP0bkyYZY5kSPkqoTN6PyAeuE7fM2y9IYp4DtnZGP5VZwXc2Pdbo7h+V6WOvkYfSfu5g8UW5bjNqQfVnRfkIF8w2OICI9exnb67wX3stDBmyJOqP2UXEOGPZyVM60X9rJnOiQaI8OWLb5zmUyYHTWzwzmlokAyprLL9bnEd3rmbW9McrDtn8IMu1IfVbbzPF7cfIgA9XQvHrbTa2Zyst1PVU9TUOdoFj2Jb0fJ9tsg6/zzCjzNlXzcpahnNechmSAbZqK2yuAinYzqezhlYFdbqFjF9Y31KIj1qhyllfjFdeUmXTT7lrbgLoXY2iUec1PA51p00SmEh0Av1zE3md50iNPjHJNp9m+BHW1vQg/I/PMZdqONcXE27Ymq+cxZAnKZc95/Fw/Nsig4raI0XDJ4F00u0OeK74RYMmeZePpKPplvRSZjmqkRaPbavmdeCUvc/qlgGXM2fPokQcCPS9nz83EOozox/ptTsYgzq/1gatYZVmKcithPXh3POOB3Lgh1eh1Ty6L/RJ98ZVyv8hmOSK3iYBJtEeJoEox6qwzsEpLneyYbYqj5z5re2OUh/Vk0Upts/gI+pPxmnLwg5hYwErUe6qy6dYzGxGUvmEuc671JN955sOYF+YstpXx6VYR7Boj2E3Z7RUsxQnURWDXiO488qRlzrAO2mpr0Yk1IohzPJkjw7Tb5I2PKkCvRd3LwGoxLT9vrPQsl1SfAsme7ow3mPqg7cn5OJvHiYDMaTcCdLE9aodQLbZH736zZDxs61Ip4fYqlOrpU716suf8IkZ+Llox2auqGy4j7WU4h55Qg/XSY/LlpUd1LHlJ1/pyXtL2Qf7LmBvzZkPzErU8uBTtsXgTpBhlWapyK1U9yCpuTa1KvnK/ilCYYJSHEXQVTvbIGuvwkqhGRpBnTSfKv70xnrxTqDzWU6Z3yOA8kSZlpKV451fZepdImbG93PK5p+D2CiB/A/V3YipnfK8M7MwUhxURhOMxsbmyM4JO82ZQo4e8e6wC1TLYzjZtGcCrmw91QHloHRp7RlFRPQFP9Uik6BRbC+orQwjVbla90vLVLOK0iiZrQJyvLkTHQwg/KE+Mkikp5aLWx6Je1m4rmmpj6E5c1ZCPRBwAKheooDjjti61km0vH6ievjAie2Tai9nbIHva5eXl3S5pL9kYva3Oy7CeqGWx58cXRwHLWIjDyVzPoszbvApSdNaeqxKUZdHKbYLqgYvcevWKJTjlYV7tS+051z20H0dz7tFUJ34y39hsY7K2N0Z5pEvpUZ0cLtvMuDoSQ9TT+VXmeaRKpnfk33mR6zwLkeMVEIupsb2Cyd9AXecd11kCu7Yn64CRU/ZASATV8rF7zmCyKxoTQWezpVd1K6rLdZ50tmkfkvnqdWiyBHoyrzseG9WfDEYvb/rH/ale+bQ9u0YvcKbHPrrN05R52pmpfO+Ukw4jfUT2SJuvblG3R3tqEwGwIftyu1HzrLWeGImgvXwUQ46rGe7rNSp2kAo0WrZxy4PzE/cZZNzWnmVZrzT1zCrT9sooy7QLq2cZqPzGm1FbY6S9mAc/2aiFampEs5hL2otk5LTKS5223k/ZC+R285CVzgUsX2S/gU7eQJSpJ9VsNFcu9xrlFLCMOZOXqK03VtVDnAunnPyUzZYjLBfrYHzO1Vjsov0gpG/K8oc9T3rLEflUkTH0qe6wYpWlt3Kzyr0M81v23OubB+Yl/9XWP9jjKIMisJeZv9uy0HJSeb+hGtsNxFuOyDSPixh81WOQKvcDyx9BWvlAJUJmm5a1vXErDyPlRH1222airORTfeJnTni8AuE2j+dwJF1qiBhfpatZTspX7lmVY+pLrvNMymebum1H53ZJmHLbK5h8Tn0RgePLA4iXN4sgRAYixiP2PN/kuH2J6lVt1r8dGGwGesy85mzT3oGlsge9yfyt8WhAe8BabEawmXzyjAuPVxdSyCsK5dV5BfmmnANStT1CqFM55uL1TB1iPV7z/o3tBUtvf2vlWXSYeegZt7XYH1UgawyvELuUsQx+P0/dw/YKHH1TG3Tai0ndVCjkkfaibnbqOIOyRZZcQvmUgmHRqOpR0pE3/rx0JmzL1ZWPHRwSjWGqZKMpx9vUmsMNgAUsY06WiwObOLAm8ir10wKSNztZc7E3YpMtUPNO9j4ZTzTR85FPaVG9UT6In0EfViXKKeXxncUoy6zlZlVAGea07AXUt6zEtB+pR8/HNdhkLodYl8pzfYjOzS/QzSxNmfmyLX0qJ3klRSyLmfYkX0bd8/4IvJVzgXEky3STqEbWG26ztjeyPPSTQYzvjZSTnnflNpHbbDcGLdM/LU6OZepQTulKYh7Gk1LMecgn9xhPs3Gzc5n4Tj69Sc9zFQ6o3+ckx3kWtE3VFbETGLdsx9OtlRh5M4pyR9WeitsriHx+jvr1TT1nPNyb5qZI+Vz3ZkQb8r/BVQavieeQ50L2/j4ZRSNv1rTJvL0mnv056kRERHS9KdpTX647IhiWj4Psdgv6VJrEGuDlwp5C0/5UN2K1a5BLr7JKwZA32DJIt8u0vYiIiIgCgD3qvpC50jJ1owR/BVUG/Za/4En5KOH2KgB71ImIiK5vDNSJAmjatGmYPXs2otGoHkJERETXG6a+EAXQzJkzcfnyZf2JiIiIrkcM1IkCRPak33TTTbjllltw4cIFPZSIiIiuR76mvsicWiLK37Vr11RPugzSr169qocSERHR9Yg56kREREREAcTUFyIiIiKiAGKgTkREREQUQAzUiYiIiIgCiIE6EREREVEAMVAnIiIiIgogBupERERERAE0hQL15djzRj9OH3lOfy42Mb8ju7FSfzI8hyNv9+Nne5brz4VbueenOP32IWzRn/PSdkhMI5fl8rgey3fjSMZxjOmcfsNZTgEgyuRIm35PREREFEDsUc9X22LU3qbfB9zK2WH17/gHh9W/ftnyRA3K9HtXyyPG9x9HcVANCApxkvVQuX5PREREFEwM1K8DBzc8ivvur8eydj2gVA5vxMNivvcte14PICIiIiKvfP7LpDL9ZCMqz+3GAazCppqbjcHxM3jpkY26V1WmQywGXrMHjluO9KMJJ3RQZ46zG7GHNqI2JMcYQ8/9KzC256fJ6ephO9V7Y961H5/AS7GGNONIejw1Tcn+vUw12TRvBC+9WYZNi4xe1/iZ3Xh4g9kb7fy9dBGDHY9iw2FjucvOnMDIvMXJcc6b62XKvAxWanlqYuh5DWjSy5Ocn/4oqPKboz84v1++Gz9rrcG4pcyN6ZpllGSsa3nm9dDTsxWBbRubktvEvl3rMVRlWd6U8jHlUw+kDOUr04AS5ahZ5+/43rbt1XdAT8c4Gsz1T7vsRERERIUpSo96qGajCNMPqF7c++4/gbFQDTblkTtevmgV0CmnUY+e8+VoervfCKLVdHdjMC6GOac7Z7Fl3nqcRI60JXBU34uXDICdOeByeR8a1/OptwTp0mFseKQeL525aASnahx70ByqaUgs930dZxAXy5TM9/a4DDZiHaqGE+P3nL8Zta3J8VWQfpu5LHKeI6hs/SnSpY8ngn9z/NfGxFAZ3NvXNe16qJ5yWbZGIKu+TwnS0ytf1I/qYZfpppFbPchSvu0rxDBRJ8XbMXHCoL63BelhVQ7Gb3eLE5WNjmUT82otQ585bQbpREREVCTFSX05f8IS8D2PHhnU3hbJ+YbC+JkDiQB457AOJjvNgPAw+s+J6c6psge4tnmLoPpN8btQJeplrCXzykNj6LEGV+0nVKDXYAvGxDg5BJ5O1uWWQW3febEIYd1L63kZrOzj73xVBLcIIyJHX74bDXOs5SKoeYpg/gn3k6Py8M2inIaTPdBq/jej8gH7/DOuRwFkcJ+4muJhujnVg7zKVxIB/kPl9nXW9SdUs9hSx+QJjfvVDyIiIiI/TZ4c9XfHRXCaB/W7mxGea95UafTIyqegGC9rikTx+b4Mc8sQEutX22qdnjUNJtVYzHGCs7welWL+ft9sWhRZ6kH+5VuOsBhHXg2ylmNKmgwRERFRiVx/N5Mm0lXsL3t6S5H5vgxjyTQW6ytNWoa8udRMIVHBaGsNYO3lnuwKKN9EOoztxR50IiIiKr0JC9TLZmdKQ/CR6nG+iNi7IkD9IJZMg5kgvi+D6mEuR3UuzwRvO2TPaRevkp6oFFH+5TuGWBworyrVc/iJiIiIMpuAQN0IiELz6hM56/LmxkypGjmZ02C5ifI5HJGpC+f7jLxjnYtdu9r6B3jkzYfpb7zMKFQmQmRh+XLv+fd+L4PO8S5fZL8ZVd5gmu4P+sj5xuUNs9YUD/HK+geOXJi55StFGQRCDuVrnCyKbaeG6/sZ5iy2l5u8wTTTjdDyCTh5lh0RERFRJhMQqMunpugnwegAUT6lRT1FxQfxM33AajP4XIxy2+PzjCe29HxsDVLl4yT7EJ2bW6B1cEOfOOXQ6SOtG9HkuUfbv2Uw7Vwmn0ITtuVly0ddDokTFTflVSK4Np/Wol+y/EM1q3I4WUgGtnJ+m1qtN1xOJC/la9zgbOSjb8QmM6iXT4TpOIOyRclyVI9jHBYnPup3LtQVm+QJCxEREZFffH6OOgWeegZ6JUYcz2FPO5yIiIiIJsT1dzPp9e5wP0Zkaojt0Y3LsWd1DULxEfQzSCciIiIKBPaoX5dkzrbjkYX8C5tEREREgcJAnYiIiIgogJj6QkREREQUQAzUiYiIiIgCiIE6EREREVEAMVAnIiIiIgogBupERERERAHEQJ2IiIiIKIAYqBMRERERBRADdSIiIiKiAGKgTkREREQUQAzUiYiIiIgCiIE6EREREVEAMVAnIiIiIgogBupERERERAHEQJ2IiIiIKIAYqBMRERERBRADdSIiIiKiAGKgTkREREQUQAzUiYiIiIgCiIE6EREREVEAMVAnIiIiIgogBupERERERAHEQJ2IiIiIKIAYqBMRERERBRADdSIiIiKiAGKgTkREREQUQAzUiYiIiIgCiIE6EREREVEAMVAnIiIiIgqgaffcW3NNv1cuXbqk3+UmVLUQzQ/OR9kNeoAvriA6+CqO9Uf151KKoHlbB55tqsB0PQSfR3Fy51ps7ZmI5SEiIiKi64lvgXrlihfQ0droe6A+cqQN677Xi7geUjoM1ImIiIho4jD1hYiIiIgogBioExEREREFkG+B+pWLcUR/M47x8TSvT+K4ose1uiKGu44vXx++j1i89EkvREREREQTzbcc9azmNuOF/7gVDXfqz9KlUXTvbEX760HM+WaOOhERERFNHKa+EBEREREFEAN1IiIiIqIACnygXla7FM9+rxNHf9yHgcFB+6vvdRzdsxUt9RE9trvp5Y1YvW2f6zRO/awHXS9txeoHM08jm7LaFrR9vwcnX389+frxMeza0IjCpkxERERE16PgBuqRBVi98yAOvvQsljRUo+JLIf2FRagMFfc1o/U7HXjhmwtQpgcnTUfVU1ux//98Aeua6lynMf3WCCrrm7HuewfRtb0FdbfqL3JQdl8Lvv0n69F8TwRlZWX6FcLld/pw7FgvmNFORERERLkKZKA+vWop2r7TjnWPVaIscSdnBjMr0LByPdZ9tUIPMEQa1uOPn25GVWoEn+qGECq/uh7f2tScUw+4XNbNz6xBQ7l9QccHj2LX9/bi1Id6ABERERFRDgIYqJdhwcJmNN6d2vt9JT6O8bFRjEbHEf9cDzSFKtH4ZDMWfEl/nlmNxq89nhKkX/lkFCO/GMKwfL3rmE58FIODA557wKfPa8az31qHhXPtyxofNoL0vvf0ACIiIiKiHAUwUB/HqZPdGHzP8tT18RH0fb8NLX/4GBY+tQRLmx7Dmm1dGBjX32uheXVYUG30h0+/uxb1lfYoPf7ro9jx/1yJlm+uxmr5WvYYlmx4Acf6RxB9T8zjyF50/dhjmH5nI9Y9sx7NjhOK+LludHxvF06+6/bUeCIiIiIibwKZ+nJF9kj/6ffR/dYATv24E1s3rsKz+09i1PKI99HXj6LnrRH7H1GaGUH5XXeo556Hy8KY9TvGYMMVRIcHccoRQMsUlRc2rUTz11aKeZzy1pv+pQVY963NWFprPxG4MnYS+57/Lrp/zSCdiIiIiAoT2JtJo291ov2Zddi8bS9OnnMLfKMYGXkfMVsKzAwRoJchLN5dviJ+Y/tuOirqm9HSUOAzWG6oQMu3vq2eNGPNSr/y3im88r0/xbFhBulEREREVLjABupeXL4Ux2VnrvoNM9Q/4++PYvQTe9A8/c4FWP2dg+j+QQfaNjSjzsxn9+qGMKpXbsM6Eezbbh39cABdL30XnacduThERERERHmaNIF65L6lWPcn7di1vxNdR4znlXc+8zgq0j0V5tzP0ftfzyKuPybcEELk7gVoXrUVe1/tQ/eBF9C6rM7l0Y5upiNSXmYP0seH0NWxA/v6+BBGIiIiIvJPoAP1xB8qer0f3XuexeqnFmJBbTUq5+rnld+aLkqXxtHXuQudr4+mBuum6SJor2pEy7f24eCBrVhS6/Ks9mx+J4RwKI/fERERERFlENBAvQx132hH5/f1Hyry9DB1F58MoWvLWnz7xW4MvDtuv/HUoayqGZu/9W0sqco8L5n6bjOzAgtXb8a6em998kREREREXgQwUJ+OqhXfRtvahah0+SuhVz4ZR/Scfg76r6Ppe8sTxjFwaAfW60cxdr0+gJH34q5B+/S5jWj+wwx/8v/zKHpf3IFjw465fqkOS9auwcK5eZ5QEBERERE5BC9Qn/c4li55ABFrzPt5HKP98jGKTVjw8GNoXmE8B73t4ABilkc2ZhM9fRQdW9ah5WsNWLJpF7oHo46AfToq7q5GRaabTK8MYN+eV3Aqav9l6O4nsPrppaiaqQcQERERERUgcIF6RXUdqm1R+hWM/uUubN4k/zCRfzdsRvu70L5dBOvORz/OmIGQ8eCYtOKDXej4/k8wYutYF0F+w9ex7puNHm9MJSIiIiJKL2CB+nSEby3DjBv0R+nzOKJjoy5/iCiCyrsimJUpqL61GgtXrEbzfWmSWf7xMi5fvqw/GOQjH+P2Qa5Ge/Zi3/EBjFsfD3lDGeq+tgbrvlapBxARERER5SdggfoVXBCBsu0PFYngt6Kq2pZSInPJ132vA1tX1aHMGtRb3dmIZ/+0AzueWY+2lw6g6zvr0WDLIY9gwZNL0VhpfWLLFcRGz2L0Q/0xo3GcOrAPr/xs1J4+E6rE46vWoCWfJ8gQEREREWmBS32JnjuLv/5Ef9AiDZvR8RcH0fl9/Qz1P38BqxsqkD4ULkPDkhYsrNJjiGC/8uHVeOHPX8fJH4npHDiI7tePY9c3F9hz4T85i1P/dcil9z6NS0M4tn8fuh03l06PNGL1hnVouFMPICIiIiLKUeAC9fhgH14/5eilFkKRSlTdYzxDPWS70VT/azVzFmaJca44v5seQtmdYjpVlYg4H/n4+TgGftyFY7n+4aL3et1vLq16AuvW8uZSIiIiIspP4AJ1YBTdB/bh6GnnE1kcroxj5PW96PjLkdTxLolpfKcV33rxKAbey/4AR8RH0Xfgu2jf3+u9N91C3Vy6/9XUm0sfXoM1K+oy9PwTEREREbm74XdnR/69fq9cvXpVv/PZ74Rx51dmAZ99go//7jf4ULz+ZnQEg//9Lfza0RuNC6M4/V/eFIHvDQjNnImbvvB/4be//a3xGn8Pv3r7JA786b/D8139OPvBJXzh5hD+8eI4Pv7bUZwdPoW3fimD/Cv48Fen8Jcn3sCv//5zcUoyAzOnT8OVf9DTEa9P/vYdDPYdRsf2rejsHUXcseqz5lSg7IYr+PRDvbxjv8Iv/tvbGHr/t3qMpE/+5wB+9dE0fHHmP+JibFyN/+GHMVz+J/+I8Xf+Cu9d0CMSEREREXkw7Z57a67p98qlSzk8mJyIiIiIiIoigKkvRERERETEQJ2IiIiIKIAYqBMRERERBRADdSIiIiKiAGKgTkREREQUQAzUiYiIiIgCiIE6EREREVEAMVAnIiIiIgogBupERERERAHEQJ2IiIiIKIAYqBMRERERBRADdSIiIiKiAGKgTkREREQUQAzUiYiIiIgCiIE6EREREVEAMVAnIiIiIgogBupERERERAHEQJ2IiIiIKIAYqBMRERERBRADdSIiIiKiAGKgTkREREQUQAzUiYiIiIgCiIE6EREREVEAMVAnIiIiIgogBupERERERAHEQJ2IiIiIKIAYqBMRERERBRADdSIiIiKiAGKgTkREREQUQAzUiYiIiIgCiIE6EREREVEAMVAnIiIiIgogBupERERERAHEQJ2IiIiIKIAYqBMRERERBRADdSIiIiKiAGKgTkREREQUQAzUiYiIiIgCaNo999Zc0++VS5cu6XdEhhtvvBGzZs3CjBkzMG3aND30+nTt2jVcvnwZFy5cwNWrV/VQmgpYzylfbBeuD2wjrl/vv/++fld6DNQpI9kw3X777fj0009V3ZAHpOuZbJxnzpyJW265BR999BEPylME6zkVgu3C1Mc2giYKU18oI9l7IBumzz77jA2TIMtAloUsE1k2NDWwnlMh2C5MfWwjaKIwUKeM5CU+XmVJJctElg1NDazn5Ae2C1MX2wiaKAzUKSN5SZe9B6lkmTBHcepgPSc/sF2YuthG0ERhoE5EREREFEA+BurLseeNfpx++xC26CFWW45k++6n2LNcD3D1HI68LcZ7YzdW6iFqnkesn0tg+W78TC5HyrKUQNshHGnT75XMZU5Bl2b7pdvOR57Tn69XE7C/+2Yrjg72Ye8K/ZEmGR+2nzh2HHEc5Fbu+ak/7bfLtH2V0iYFjNv6i2XOHlcQBZ+PgfphbHhzTPxbjuqUHfo5VM+R/7p9txyR28Q/5/uw4bAxxNXyCMrkvx9HcVANENoWo1b+tmREoLC6BqHzJ3Df/fW475GNyWUpOjHvh8r1e1M5wiHxT3wcsuSvDy3Y2zeIo9v0x5wYvx0Y1K/jW/VwbcU+9JrfiVd+88iF2/Zz286klHx/94usd81ATwPWH9KDEmQA6FIXC1LIPhJkE3myswNLXzyL+c8cQ77x6pYnaoxjWBEUc9qToU0q7vr7YNuxEh1TUrXs7xPznjqdBGp9fG0v3eh2Wb9697fo4RPD39SX9mEVcJRXOXr+2qpESDKGsfMu3y2vR6UIVsaGn9cD0ji8EQ/L4HhZlvGKygissi5ryTyPZSU/YZjMurC+oRZ1tbXoGIzrYRaH1qFRfFdXuwsDLl/7j9vvetCyfw3qxruxdLseYCMCQFnnntqhP1NgifahczCM5qIHCTTZZA0ety9Rxx33NqC4utY2iHm7dRIUqpgdAhPb2dB2vBnhwV1qm8lX49ou/c3E8DlHfQwxGeDcFrFdnt5SJc7Gzw9j2bAI4+dU2S7zrXygEiHxu6F2/VleCpQpJeqylZFi8jN17Uqc1Scu/+v3i8R0QzXYpMazXuLS35spKlkuLRqXH5Pju17iU8uzWITqIlxfpMdVy2Kk5Dh/o9J5EqkKyXGMNB/r762cy63XSc17I2rFSYJ93np6zhQcS9mplzNdSMxDlqltvUudxlOQOGLv6LeBYWxjo66a9PZ0lK31crdt+2XYziZb/Um7zdJs45T9INN+kpxGcp7JfSzTPqO+k8uWsg/r9DXbMAtrWpl8JdZdL2ee+3v65SmFFtRXAgM/ZCDujxiivgcc3nWt7cVoeWNuvZO6XjfNkdV3o1EHnfuurc1OTddIu795mbakpi/2C+s+ZmlbbO2Kdf4Z2iT1G0f7lJiP/ph230uMZ28T7MfRzPu14mX959rbFeex2l72pWwbKF/x2Kh+Vzyx6MQG51Y+B+qH0X/uothjKlGfqOtG2ovqhVY97tb0l+Won3ezCuJ36iGKPBg/NI6XZG+jeD2ckhNzGBseqcdLZ8S84mf0eI/q1Bm5c4uG5WOdniJfrwFNbju5IBuSTfNGEvO67zWxhItSG0q0rxDfn1BXDOJndhvj5ti7Lxu66mE9n44ziM9ZbGkU9HLDXB85zggqV4tGxzLvsdf0d+nmLRsdEdAkxrt/NwYhgxv7+stGbRUO6HHEtGWZOxvdNGTvgbwU1HZ8EAN9+0Qooi8TqffJcczLRuqV6G1wu9SvU1Jy6qmyXpqyXo7W00p8V6qz8ufRI+pjaF598iChrxbZ9wejzsfPnLDXeSnbdhb1JVF/PGyzlG0s9r2mxEHMqG+V53RdFq+e89bvDXIaDTFzHGMf87TPyGWrGja+F3Ud6iC6GDDXS/wmVLMq+Rt5wG2twXii3orlwWIdCPiwv2dtU1Kp+u2skyo9KofLyCsWYD7Oot8ZXDrSrFLmIy+Vi2FqGdKN45m5T8jllvuN2F/0/OW+Ye6r3vYTOS0xnW3W5Xekg2RYt+T6GGWY+GxpO7KyTd8+b1t5iZd1neR3tkvYajr699ZpyuW1fLaXyw4MjYUw/8EcLoWrq8GiHY5bjh22q2hivzP3FfHqOX8zaluT9Tfj/pZ12lZiPq1l6DOno9sWGXA33eY47rTq6edy7Ekn7b4nluftKgzp4XL/trYjW444jodyv3a2d1nXX5TlQ8CBNPMwjpdhDHboeYhpjczb6DlYN/edVnUm05yod2Z9dh4HbXVJ1jE5nkqLse4P1vbFnoKRy35i3xes05Tc9mPnOOmY7clm1InVrmgyf2/fv9LPX7dBOh3IeJn7sbdpS9bp55SaYpuveCXap2RZN5fb5+2tbSwenwN14ODPRxAXO0flA7qi67QXo8f8eQzJ9JeHdDCQNu1lDD35pgPIPNaQ+L21MWk/IXbkcjS47HwHNzxq37HVyYRl+X0kG5Jl+sqBbGD6RFmEwrKPXlDLfRGDnZZlkY1QTuUgghaZS3j+RHI+KsgxgjTb/QFinGSDaQSZzishGVWuQfVQLbrH56PpeARDMl1EhCT1emc0LrcZl43qarsxKhoxo7LLS/1i3LLmxM7Vdnwz5o/syuHyfwh1z1SLeRrT77Bdjk6mt6hXz6jY4RyBRJGoum8JytXVovNnRN2z1CdV5y9i5OfZA8UUtu3qYZs5tvEycYBPnjQYwa81YN0pr3jZTioE2zQM3vYZyz54uB8j8kqbdfkdv5E5pvLej+T6ieV5VZ7MNiQPqm487++5tyntPxxAvLzaVndaHpwPDL7i+TKyGn/klKiVDok0qzRpWJLYZ+Q+purxi3JZcuzJVeSBTxz0xrvFdMzL32E0Pgl0immGq4+hHq8Y+0m11xMBsf81iN8nlt+6/4n5PV2HWI9ebr2vmwe69qf0MLHK4Sf7kuvXsC61jFxVoPlpc95yOhVoNA/S4gDcXDaADr1csszCTR6DD3N7iHIAqnE0MY/UdIX2oVHRblfoT36w119V78U2iujq698xShxfOlbYOwjECXLDnNTjTp88WXjCW8dNdun2PfvyHNzQp9YrPFd+0veuWe9JkycNuZ4kyHlY1s05D3m8jJ85YLk/zrjXLlSz2LVjz8k8zql9eEzuY7ru6fqcPA4adT7VfKyuHhL1Lob5Tx5DROwPHYNiqD4RdKZgdI/XYbXHoNTY1+RLHH/1MDv7ftwtTkDrnvTSBpjHWGOdRhP7uiVFxLkvivWre9p6kiH2Y7ne6nvrfuxh2kKodnOy7RD7bKi22eMxXgTjTWEMvGhOV8wnEYvoNETx6haHQuu8JyJlycr3QN08KJs9i2bai7kzWoMBZ9qLH1bODov/yzP15KUs89JdetbLb0Z6S6kZyx1DNI/4LSldDr2RkpRyf0ABQjiLHlV5QwjHTiHzJhw1UqISxM748gBQuwZ79xs7dGeOOWCjPUsS8+x66yziZRFLI2DxTkwc9EpE1X3zALpc9ZyPDW9UV5nMEzJV5+Mj6C9oO+fp3XF1Em0cpDTrZV+ZWuJZLvvMYUQ/1m9d6YPynMXJZZGvVhG8GyOkld/+7tGhUzgrDiDVid6UrWiqBc6+lVtdzVt8QO9jwqGoaB1yZQTpqSfBIcSGdGAsNlw0j/zL0b5kYG3b/+QVhNAohhIHti70iwNCOOLcO0PiUN2bxwEwjoGXzXl3ITqu3iht1RWIW0+K1PYT7dNd+rNX5WHEEvMIiiIdo+aWiS0he/Ct+4+RSjKxjIA50SZ4vNqbG+N4mUiZMV85tYMFEvM/q9PiQmUx9Nv2h62oLo/b2hu/TxKt+/GY/SBdkJR9cfsQRkNhS70V+3EiHdC+H3siTooSbUcux/ht1aiIW69wGu2Tvyfe/vM/UBc7WDL9xZL2Ykr0Bjznnvbih8TlcfvL2TMoycuKsuErMy+b6ct8k5L5ZJwSsO6ErrlctstLxmUsG3VjFsTZKtDtuTctA0sjYLvk9kxd1mDPP0bdVyepqufcOAlVPe3q3gwjeI+f63fpXSo1mTIiD0qWy76yx92DYu0ziUvXtpeZ4pJBDvt7bsQJZd8oKhp0T1BKIx9sFU1GkJ56I5QlkI7H/GnvbAfhCjQn9n0jLcDtQDg6VOy8fSMASD1JyMLLNk7XMVAExT9GjaHHse+oV8691z5TaTdyWcT66oC9GPnjyTRR68tx5aFYrHVtPOpyHJRXjy3HsyaxH5Ww7hVC9nonlnuwWbQKYURyviJYfF3RWODLtAiBug5MZDC+ukE03s4ecyP9JTSvQaW9xGP+NjkHPxCF7rx8n9ZzaKqR+cK7Cz6ol80urAFRy2253JkXfTUjtefc6Dnwu6zTkrl3DbHkZS+3y35inNW1MbEDh9GcS35qOjrgkDmBjbHkpUKVMmCMURJG/StDvUp70SeharuUo3pPAWkvflC9ZxcRe1e8N1OtOjwEwjb+7TNJRo+7Lb/fo9z29zyoniAjpUv2Ell7oIJutGcXzlaKg6UlR7xobAH/KLoT+75+TchTbVoQKSvSTWGuQVUxFGN/s1BX2dwem+xRLumSeTOejtWj4obc24j0/L/S7L+4JU1Dv/zo2CqBuCVlx3gV48kzhWuJhEu4P+enKIF6Iv0l5N5jbqS/3KyChoKDFhEUqZ6c5cuNHVjlp96MWnkTpvysyN5Dx81uirGjJvLEhS1Hcr2sqKdhaUBkD0jOlw7dllumJThu7jNOCMS6ugYmycuFyTvb5brLdRpDXzEaejd3hW292OrxdLZubZnHOh9nX1yC9WsbVN5da47BRKKXU02rLpEHXK4eTG4yvrPNutjUFaNy1IqDa/JKktHTXl5T4zntJfN29sj6hCV5s6a8pGv+vYKUNJjncMTTJV8/9plUKi83VINV1p1ULrPzCQ4F7e/5MG8e3IfqcmtKhzcyLQSVC3RdLTWZ72nkYPodrKfb/4wUHWu6UOmotABrrqpKw0k+IWpMVNxkz37+bYO6rJ/nUycSKXCi/nrjfX/LfdqCvleqfJH95mt5g6nz6SjONmksZl45Nz4n2hif2JfBuDqf6Wpk7uvvdrwU5HE3n1Qb33tlZcpojjcuTwC3K1ZqX/Oh3cv5alg2quOlDk2J9kk+lSuU9/5cKsUJ1HVgIqXmSwsqmBEKzNU1bgzR+amtG9GkdjbjJrmej2v0Y9zkSz7dog/Ruc4dWIzbaTx9xcxPk0/VkGfu3sn5nTCewKGnIZ+0oZ5QkRM5HfMJLXq5ZVrCm/36e/1UEZVPtxGbbIGJhbxcqJ4KoKch83XVnfMlupQnbe/GAETwrS97rcYr6uYMg7yzWl6ST96Q1/6UcbOp9zvaR9HdF9bTN26UMy/vyxsAkbjktgZ4Od2NNELiLn33G84Sd33n1ONvXDGSB1jrlSTjKlPmA43B43b2QixHtVmXZL73+RPJy9niAH1AzCdZT+TTF7xcUvdjn3Ehb5wW8x+35ou2VmLkzSjK9W5b+P6eH6NO1aFibCjLvRguZOCqe+RtLKlhtidG+N77bdyc1Q1j+v48vSCOgRH3/U/dkKVu4tT7jn4Z8xXBsdsTHfxa5+1LRDtjSbt5Rt7UmuzFMx6taO7zjrbB3B4ytUAcyI11c2sXUvOGvRH11JJzvanV282K3va3fKdt2LlMPg0lbLvPowknMCSCY4N7myRvcjWeUKN/txo4IJ9mZvyoQHLe1uOYODlxubHdUMD6y+OlWOayxHzEaxHQMyxOFPQoXqi6lag34qWPGck0THud97Yfyn23GzFbConXJ5yY+5p8ybQTM4XG65NdvDBSA60pLuayyZtoVQecHq5eOR1H00+7MKJ9Ug+YMJfL2X4F07R77q25pt8rly5d0u+IgDvuuAPvv/++/kRWwS0b2aOsH1k40Xmmk0Qxt6VMx2oN906RP2okAwAZ5AbzMnaxedmWbDOnJm5XmihF6lEnIiKpa+0rtkcUTn55PEllKtD31XRPiRMuIposGKhToNie2JLyKs3z0In8ZVzChtdnelMAbcVRlUqTfCwsEVEpMPWFMopEIvjggw9w7Zqtmlz3pk2bhtmzZyMajeohNJmxnpMf2C5MXWwjaKKwR50yunz5MmbOnKk/kUmWiSwbmhpYz8kPbBemLrYRNFEYqFNGFy5cwC233IKbbrpJ9RZd72QZyLKQZSLLhqYG1nMqBNuFqY9tBE0Upr5QVjfeeCNmzZqFGTNmXPcNlLzsKXtWZKN99epVPZSmAtZzyhfbhesD24jr10Q+8YeBOhERERFRAPkaqMvnjE5W7BEhIiIioiBhj7omL2PJG0VkDtpHH33EYJ2IiIiIJhRvJtVkj/pnn32GTz/9VOWgERERERFNJAbqDvKKgrxRhIiIiIhoIjFQd5A967ybm4iIiIgmGgN1IiIiIqIAYqDut7ZDOP12v/E68pweaLUce47sxkr9yfAcjojxf7Znuf48Oa3c81O13kfa9IDA8qO8xXZ8Q27nQ9iih2RjlE/28bcc8T7NYDPKqOB6rfYp9zLxWqY5EfNz1uGizMdp+W787O2fwr9mwKjnp99wtjdERDRZXMeB+lYcHezD3hX6oy/EgXFROeJnduO+++tx37Ln9XCLtsWovU2/n2LKwzeL/19E7F3j89RWjnBI/BMfx5gxwB8iWGuYo9/TBBAnFw+V6/eT3PIIyuS/H0dxUA0gIqLJhj3qflIHxosY+flhPeD6snOZODm5/1FsuC5W/3kskydjj2xkEETBdHgjHk7XYUBERJPCdfwcddmj3ojYiw1Yf0gP0uQfbnL9c7HyEvwiS29b/Axe0oGavDS+qUb2KCfJnvWHE1GrTAPYiFrZC5twEYMdMrCVl6gXo+zMCYzMW5wc5/wJ+0FWXhpvrUFiEs7vE4x5VZ7bjb7wRjSpHlo9r7nWdTDnrz8KzvUYe60ey9rFG3PdbfM012kMPfevwE41Tjg5TfUZ6OkYR4O53Or3Y/aysExTzX/eSKJcFbXelRgpYLp2/pT3liP9aLotWQfM6ab2xxrlM6bKNoae14Aml22gpufoTU+Uv0WijN4swyY9nURd81BHnPOxzcP5e73sO/WnjPN21vHzZzB4W42qh+n3A/v0Fdt+JsrnTAy1NWJ7O8cTjPoqytRaFwRjnfS8YN1GhsTvrNO0zVfT5ZcYP822M9nLNvV7G0dZj505g7IaSz2X0m5PXdfSbV9VL/tRL9f/Y5d663X7u0yfiIhKpwg96jIAHsRA4uVIL1mxD73W749v1V9ozu+tv3d+17cPLforY77H0LbtmOW34rP+VmrZ35f4rnd/RA/1SB/E5UFNpbXcvxuDqMEmnbd6cMOjuK/jDOLivTlOMjiRDmPDI/V46cxFI8BX07AfxEM1DUCnnr6c1pzFyfxefQAdT8y/Hj1YnCYP3hCq2YjqYWPcl84Ata39RoBr/v78zahdncxfTQRh+vv7XhtD+SKdM9u+Qn2GWCYzf3flnlUi4HIJtGzK0bQaOKCmeQJj4ven3zZOItQ89Hrmntde+HT9LW8z+Nfzl/VDVgYZ6NjKRyx31XBymnIbtBp1SF2RkGWsglfje2eQnhASde+h8cS2sgbpmZbZCNKS05dlh0U691r/Hol1kMsnlteZN+02bzMAl0GxHn7fcJklIJf0ODJwNMeRga819ztlPzsAzHMEzymsdcHYx4x6K/a5TrFdxfI22erBc2gSJ6NxcaJmq7eyjsu6JN4m5m8LUtNvOykRIOvv7+sYQWVrmpxzl7IeCltPkISM2/N5LFP7Y1Wy7CTxG5k6Nfam+5UeL9s/lzaGiIiKy/dAve14s4gEa1FXa76sPdYt2Pt0HWKJ73dhoKwZR7fpr2Ww/Yz1e+vvnb+tRfd4HVptgX4FmquH9Pdi2vEKNO7XobwI4FtrY+jWv+3EfDG2VyLAkHmrIuhKBk4y8JYH9XJU5xxkuoufOZAM3A9vRN95EROFjSBlyxPiIG6bvwjsXpXBZUP6m88s4x/8+Yg+iUgGjTuHxYE+VIl6/Xt1smHteWwfFut3Myof0COIQKZHLFO5PLCLg/oqEexYp+fuIgY7zWk+jyHxe3micsBc0cP9GBELVl6VazBQ+HR9Le+UtCdRP950CaRkEG4J/tQ0EUYk3TZMS0zH0UucdZnNIM62zWQKj/FZ/d5ahsLOZfKEw1IHlNR5q3svQtZtIrSfME5WTGoc+/ob45SjwVhA9/1MlmNG9uU5uKEvWW/d6kFbldhrx9BnWU9vMmw7VbaO9Vd1SgTzT6TWQdeyVtNLyro91f5plp1h5QOVaro9lt8keNn+udR5IiIqOp8D9RZEykS4XO3oJTetWID5oVEMbdef0YV+cRQNR8xguhoV8QH0JL63SPmtOE4NjQJlEUuvehwDP9yh33chOq7fCm3VFYgPdsM8BnWt7YX4tUfGjYNjw85LwGOI5RVk5mo5IvIGVNVrrJ8oI1+t4sBqjJDd4SgsxZGB7Bk255GaxmEEbuVo0r2B1oO6F2Oxi/qdv/ydbh7lrcrXHtBuqRKl5/fNpml5WOa5ZeJ9upt9jd/Hz/XbA3ARKEc/Ficw8+ozPjlk5eyw+PEI+jPEvmocUaOarMv3tjUNJt1+litjvzROuswTJjPYNE4GUnrTC6XKVvawW9fNnmKSlK6srbzUwefRc+aiZdvoKwXpputh+xfUxhARke98DtS7sL6hFh2xxmT6iTO1RfZ6m9+JV6s4SofC3vu2bd6JIR4KpwST6cSiXfpdjsynJ0ywxNNkbK8MObA5kqkvMjhPpm8YaQB2+mkngtn7PFXlVt7PY1nHGaBmYyLIUSkGzp7nIsu/jiS3az6MJ/54ELekhlheRupOkfYz65Wh5fWoDBXrhm+xvV3WLTXH23tZZ9ue6kqZmdqT95WCpGK3MURElJuiPPWla21DIj1FBu29ZvqJMppIP0m8njJ7wXN0VxiheMwlmHQyevoTPfe5SptGYRxw47Fi95l669UsjJm3a73xL9WWI4tRLoMtZ063n0JlomQnUj7lvRx7Vtvze+256cXmYZnfHUdcBKzhufqzjZE+lPp73dOa5RF/6opGlu128IOYGCeZapVCX/Upm11onXLul7rnuWYxjqj0jj7/A09Vtl7T4Kw9/ul4rIM6Zau8ardOGxpOX+cybv9StDFERJSrogTqToke80NRxFCB6kROusP2IYyG6tDk9v2hUzhrzTkXZDoLxqPI3k9upNiEKhck0mRkLr33fnzz8rn15kR5Y5xMDcmjB8sMaJYv93xQVLmioRqssgbG8uYv3/6YSWrwoIJy/V5pO4QmMw9XBAgHVPCzytf8VRXM2QKe53BkAi6/51ve5YssaQPqZblR0jMz79l7/ZCyLrMZ1Jk3D0rye72Mbr/fckSmpoht/mrmdBQjL7wcTbYbV61pLYLKR7ffwCwWQOxH5g2XZkBtqVNy+ZxPYklhz9M26q19vzTu0ShHuczR9pBaY5wsiPJPTjYzt7IV5M2bqTc0u7UnqfXcax1U95rMqcm+nfLY/rb5yRt9RZ3O/cZvIiLKl+856nv7kmktKrWl8iw6Ej3mO7D0xQGEm+zjJG8mFd/3jKLC9r355JYurH95AKjdnPiuuWzAMu3Muta+ggHUoVX/tnpI3myqv/RCP/UkGYiZT7jIrdc0EdDIabRudDyNIgNxkH34/hMYt6RWnJaPLHwzinKvwURGIniQT8iw5KjKJ8bIm0cllRajnsZhuey+4YAReKV7skU+RDkbT+3Q6/h2FYZcU3CKLNfyVikVztQH42Zja/CalRnMylxnUT9sQVM2HpZZPlnGeJKL+b28CiCWU34vf++WvuMp9cFI/UlXfwyijj0ihn0sn5ak56+e1NOH6FxjAeUNzcbTVPT38mkucrrq2zTiZ9CHVYn5Gsvs2C91kCrHdb3RMsE8WZBlsBGbbCcVmcmyfelM2JaD34QTGBJBeAov9dxrHVSpPUKWewSkrNs/w/yMewz8uOJBREReXcfPUU8v7XPUidJQj70TQZnrM61dhlOpyZ574/GdmVK7iIiIgqQkqS9EU52RfuB4jJ1KFfKWakFFph8NWciNlkRERKXGHnUX7FGnvOg/1pN0MfNfpqQSSf9XPImIiIKMgbrDtGnTMHv2bESjUT2EiIiIiKj0mPriMHPmTFy+fFl/IiIiIiKaGAzUNdmTftNNN+GWW27BhQsX9FAiIiIioonha+qLzO2erK5du6Z60mWQfvXqVT2UiIiIiGhiMEediIiIiCiAmPpCRERERBRADNSJiIiIiAKIgToRERERUQAxUCciIiIiCiAG6kREREREAcRAnYiIiIgogBioExEREREFEAN1IiIiIqIAYqBORERERBRADNSJiIiIiAKIgToRERERUQAxUCciIiIiCiAG6kREREREAcRAnYiIiIgogBioExEREREFEAN1IiIiIqIAYqBORERERBRADNSJiIiIiAKIgToRERERUQAxUCciIiIiCiAG6kREREREAcRAnYiIiIgogBioExEREREF0LR77q25pt8rly5d0u9o6itDZe18hGfqj8KVvx/FL4ejuKI/ExEREdHEKEKgHkLVV5fggbtmYboeko94dAAnj59CVH8m/4XuW4/v7lyNulv1ACH+i058e9NeDPB8jYiIiGhC+R+oz6zG6u98D+vqy/SA/Fz59VE8+29fwKkP9QDyHQN1IiIiouBijjoRERERUQAxUCciIiIiCqCSBerxsSEM/8LrawADvx7DBd7RSERERETXqRLlqMcx/IM2tL50SryjoGCOOhEREVFwMfWFiIiIiCiAGKgTEREREQVQoFNfKr76LLY+/a8QsfxBnsufnMXJ/d/Fvr40T1j/Uh1Wf2szmqvDmKEH4XIMA3/xXew4NJT8Qz53LkDLN5ai8d75qLyzDNNv0MOlz+OIvjuEUz/swr7jA6nLfOdCPPvv1qPxTmMOl6MD6Or4Lk7NWoLVKx4X06xAyJzelXGMDv5nHOzch+5fGFOK1Ldg9crH8cDdlSgLqUGG+DhGhv8zug++gmOnx/VA03TUrWrHt5b8AWbJaX9+AWdP7sMLL/UCD4rpPSWmd4+YnqWscEnM+9cDOHloLzrfSi2v3FNfpqPyq99ES9MCVFdWImJddlGy4++N4uzpbrGuRzGQ4bGacv1b/uhxLLi7ApFbrU/bv4J49H2cHe5Dz599HyfPpd6kML18AZoX1iFyQwxDJ4+i713eyEBERERT0w2/Ozvy7/V75erVq/pdnm78Mu59+FHU3WmNGK/gw1/24uTp93L6i5effHQFZTWNeLCyDDNnzlSv0G1fwV3/7Ab8ZvAU3rmgR0yIYOHGb2PdH/4+wnp8+fp8rBd/9mc/xLtq/AgaNmzFC3+yHgvv/Qq+fOtM3OC8rvBPZiBU9hX8/gMP4f5/9jn+518N4cN/0N9Jt/8+mp9YhLt/Vy/Tl7+CSKQOzSsXifX+ImZYp3fDTHzxzt/Hg/f/c3xhdAQzHvs/8O83L8f9vxfGzMSZhDZjJsJi3AUP/gt85ep7GLT9hdCZqHjwX2NRfQVulet10xfxldvFuv3zZvzbtf8a95aL6d2oRzXdKOYduQt1//f78c9viOJ//I/38Fv9lTTjn9XhkX91L+74p3qAcOXv/go/+8kAos5qUN6I1u3P4//4RiMqI2GEnMuOGzDzljC+cvcCPNJwL0If/xqn3/1Ef6fNrBDb53mx/v8a94vlDf1T69mRdANmhL6IO+66F42PNuKf/04Uvxp8L3GiVPm1rXixXZyE1Vej+t778cjCRlFOIzg1/Bt8rschIiIimiqCnfryyQCO/eDPccrRGRy6+3Es/aNGEXLbRR5rQctj1bB19I6LaRx4BX3vife31mH1dzqwdVUjKiy9yOmFUPnVNfhjEZxm/vNN01FRW41Ipj/F+qUFWPJMO54V06qwLaCLUCUW/m/r0PJglj8aFVmAlqY6lGX7E7AiQG74xmZsXlad11+LnX53M9q2b0WLOEnw8vvp4qSl5VtiXb9aoYdIIdSt2Ix1T9VlLidTSC7zt7F5RbXxOdKI5iZxkmDdbmKcxieb0ViuPxMRERFNIYHPUY8PHsUrx3sRtXXFh1ClgnJLqF6+EC0rH0elNQj+fBynftSJrreMNJKKBxdi4YMV9kBeuhLHeHQUo++NI56S8iHmtbAZzbXZomvTFcTHo4hGxbQclw9C5ZW2NB5ciiM6NorouEtCUFk1Fi5+HFXW8bOIfzJuTO8Tl+sWIlhvXLIUj8/LMVQXJzct31yD5rsd66/Tg8xHao5+6JjnrZVo/t9asHCu/jyvEU1/mBqkx98bSUxjJGovhyvRIQz84qzx4dYIIl9O3QbT0wwnIiIimuxKFKiLYPcbHegdHMRAxlc/ur7V6Aikr2D4eBeOvTVqT5u5VQSyf7QUDSpWj2Dhyq9joSOYjJ46goN/kcwxH33rJE4OWnK/r4xjuGcvNi9rwMKmJVj6tcewcO0OdP/aETh/qRq1tfOz9iZfiQ7g2PZVWPhYE5qbHkPLls60udrjg1149hsNaH5qCZofW4nNBwYw7sjfiPx+Hf7g7uyBdXzsFLq2rcTChx8zpvfwYqx/6SRGHasx/c46NCzIvh5WlY+J6S1wXLv4cACdW1aiedlqrP6m8Vr61Cq80DNiy+efXv4Amh6pU9uz8t4FqLZF6Vcw+uMXsG7lysQ0WpqasHp7F/p+LU503j2Fo52v4Niv9Vb/RAxzOQG5Ik5OxmOOFSUiIiKaAgLfo65cGsLRg8fQO2YP1EJVzfj6HzWiqmkNVj9WaQvwr7zXi2M/6MKANU36E3nT55+i8/VTGHirG/u2rBKBYSdOybQY7cqvu3HsL0+l9OD/3rxKVGTq3R4X0/5OmwpWzZ9G+47gWF/yc8KHIgj9/ivoG9OfEcWpY134ybAj4Lw1gvLIHfqDu/i5bnRs+xY6fmydzzgGfrBXrKdj3jeUYX5tLSq99tLfWofGBnnjpv4sXRpF98u7sO9njnykSyM4JtbppPUkR81PBOhfCmFWOJy8wVb6PIaRwZ9jxHYFIy5OnHaJExhxorOsVazTqB4uRHvRfewnGLFuz/goenu60fuu/kxEREQ0hUyOQF24MnwUXX/Ri1FbYBdC1eJ1+PY3H7cH0VdEAPcXr6DrFykhMq68e1IE6K1Y/8wOdKZ5cszoyF/jfWdv9BfDCGfoir7ySVSlztiNI/r++4g7esrH/+aXGH7HMYMPRzEyGnME1rMQLgtl6AEfx9nek/iJ2etsI4L/t07ZA1uhLDIfvzdbf8hi+l1VqHIk1MfPnULfqRH9ySH6Swz8ImrrVQ/dWYGKyDURmF/WQ7QbIqj76lIsnOu9f3/kRzuw7o/b0HGgC10H9qL9W2ux9QcuT+UhIiIimgImTaAujfz4FRz8mSMFJlSBSmdKxckudJ5IE0x6cOXSRVx0xJUzbhDz8B5TJsQ/ieOCI1C/HL+ICymxdRzxeBy22d4gZnlDyuNVPIu/99f463HHjG4No/yOLDepahVz5+MOx023oXnN2Prnr+Pk626vQ9i62HEPwPQwyr44A++PjiLqyP8vq23BjgMn0LWnHa3LFqTcHOwmPnxSjL8LHXs60W1NYyIiIiKaYkoUqMvnqLeisbYWdRlf9Wj5Xm/6HtJLo/jJwS785Fz6PtT4uZ/g4MGfOHre05PP5W6Rj2t8aR86f3AM3TLg3L0OzrTsvMkg/R+NtyU3Po7xv3f2ZIcQ+h0vwf90zPqiGNf5BMWZIZSVlaV9hUKOsxlxghOaPgPR033o/YVLYD2zDJX3LUTLtzrQ3deDrhefRcuDfhU+ERER0eQ1qXrUpSvvduPgsVMYdcv2+HwcQye70Z3tj+DMrMTCDe3o/FEf+o53oHVVMxrq61Al/wCPCjgzpZtMJpdx+YqjLGbMkP95MAPTZ85K/tGofH0eR/y34mRB3h+wfy+6nXn4VqEIKh9citbvHUTXd1b7d7JERERENAlNukBd/uXTBfdV4w63SPqGMlQ/vBALMzxXO9KwHi/8YD92rFqIqjunSkCegbNH/HMRvHvq4b+MK5cu2FNxcAXjlkcyZn2d7sWxl/clHo8pb9Rt/+NWtB86hRHn4xytbgih8uFv4tl/a/+rqURERETXk0kWqE9H1VMtWPJgJG2ALf8YUsvKha75zmX169H2rdVoKLffIKnE4xgfM5/pPZKSTz0p3RxCaKajpC5fMXq4PfgHMe4VR359bLAL39KPU8z62vAsXjg0AFvCyydD6H6xFS1ffUw9cae7fwijzjx6ZToi9z+Bpocr9WciIiKi68ukCtRDtUux5qlG+x/NkakVtjhP9sZ+HattfxVTmFmNx/+oGXVf0p+18V/3omvnajQ2NGDhU/qZ3s8fxcgUuE9x+pcrUOH8Y0Dx9xH9jZfnpFzB+HvvI2aL6acjXF6O3/Oll1s+inEv2jetxtLHHsP673Th1JhjuaaHUXn3fE83mRIRERFNNZMnUL+1Dku+8XVH3vIVjL7+Cvb9peN54aFKNP7RElsKzPR51aittD/tJD7chR1/8iw6fjQ0BR/xNx2V99ZhvuMBL+PRsxizPyQ+reg7Iyl/cbSs8gHUVnt7aox3cQwc34WtLx7DsO1xktMxIzQDoRz+OisRERHRVDFJAvUQ6p5qwdL77AHilXd/goNdR3Hs4J/jJ+fsAWXo7ifQsrIZZr96aFYYs2xZIFcQe28UUZdHqVdUViLikh0TPCGEvxJx/UNM08X6L/3DOpTZ/sjQOM4ODuOXjmerpzU2gFODqX8RtnnF19Fwp/6cIoIF39iKXXv24YVnmm1/XGn63Ea0rFqKBeXuiUuXr/wD/sGWanMFl+MXEDfTkCJ1aNm2D0d//DpO/rgHnTtXY0Ha5SAiIiKa3EoUqIdQ/uAadHy/E52eXiLI+5OlqNJBXln917HqyQX2oFM/qrFbBuhjJ3HsmPORjNNR+VgLVjYZofqVyxccQeB03FFZjep5lqBxZiWan+nALjHvyklxE+N0VHx1M3a0b0ZzlXlmEUJV02a88O/WpfwxoStREXj3/9IeeGcUxam+U/ilIw1IPv9863/swLPLxImAHqaepPPNrdh75ABe2NSMBffVoWHZerR+s1GNI+8P2LX3BbRueBa7DhzELkcQL6+YLH3qcfyB9Vzs8xjG3hEnU+pDBZq/+SzWNdWh4ktlKPtSBFWPrcezf9yCKt5wSkRERFNQyXrUQ+XVqLrH66sOC+4ux6ybxQ+/tABLv+HMLb+CkddfQWdP8k/Mj7x+FMf+i6P3d2YFHv+jFjSLgDU+OoKRqD3BZfrcZjy79zi6DoiTgx8cw8m/PIi2FQsQmVSpFiFUPNiCtgN9IqjuQ+9bfejc1oIFcx2XBK6IoPtHR9Ht+ldM04uf/nMcOHYK446bSkNzF2DJt/bh5GA/evv6MfDWQexYK7bT3DJx+qDdUIY/aFiIxpr/G5rl/QFmEB6qwIIVW9H1l6+j+4gu+x/tQ+vDFcnfClfGBtB7Wv/hqnmiTtTav5civ1+HP0jTQ09EREQ0mQU89aUMDTLQvtee8hL/9avoOnhS97Rql0bQfewYesfsgej0eY9jyR89jooPRdB3cgBRR8A5/dYIKqvEycHdFSizxraO8SaD6SH5lBf9werzcQz/aC/2HR/KoTfdFMfAIfHbHw2lBOuG6al/5Mj0yYhx1ePD30Hohsup8w6VITLXpeyluPHbk+/qz2lNx/Qv6LdEREREU0igA/VZ9y3D15151iKAOykDuDH92eLK8Ks4+sOfw36vpJkCcweGX92HzrQBp+kKxn/RjY79vY7pBFP8kywLKYLlky9/F217Tnr+a60p5EnQd76FrXu6MeylUD6PIzrYjRe2bEK7PDl4rxcd3/oWdhw6hVEP+fFX3htA159uxwuWKyb4219iYNhxxUSI/moAw+9Mgg1FRERElKMbfnd25N/r98rVq1f1uzxdvQG3/t4duHXaJXz8d7/Bh3m9/gajI/8Tfz/jdxGecQWffqiHn/8V3jq6D/tOvJOmZ/hzfPjur/Cbf/wiZuJS8nfjcXx+OYZ3/scg3u77CQbeu4wbbp6FWdOn4co//Ba//a14XfwN3vvlafSIoHbr//sYBsd+g89nhjD9H+NiPeTy/AJvn/4VPvwHMZvfCePOr8wCPvtEr6P8fgin//sQop8ZS5Lwxd9FRdl0XP37cWNZ/vZv8M7wKZw6/V7Kk2Zmfvkr+N2bgIuJ9R3FXw28hdPvyuh2Br5y3+No/IMvW/5a6DiGunZg/3+/hBkzZuCmL/xfxrqI1yd/+yucev0g/tP/awf+7L+MIu62WW+JYP6cL+IL8U8w/tG4eEXFegyg7/QIPkkZ/7eI/vItdP/k53gv/jmmXfsCZljL77ef4DfvnsUv+rvR+b2taO98A79+/7f6t8LVcbzz307i2Mm/widXvgB84Qbb8qrfnxvCW6/+J/yH//CfcPL/N26/qCF+/+uzUeC2O3DHrC+I+X6C904fw77/9P/Bqb/T4xARERFNIdPuubfmmn6vXLo0Ff7Sz1QUwoJNHdjxjWrxzjSOgf1t2Pz9gTxSWoiIiIgoyCbJ4xmJiIiIiK4vDNSJiIiIiAKIgToRERERUQAxUCciIiIiCiAG6pPGZVyJxxD7cBzj4/oVjWE8fll/T0RERERTCZ/6QkREREQUQOxRJyIiIiIKIAbqREREREQBxECdiIiIiCiAGKgTEREREQUQA3UiIiIiogBioE5EREREFEAM1ImIiIiIAoiBOhERERFRADFQJyIiIiIKIAbqREREREQBxECdiIiIiCiAGKgTEREREQUQA3UiIiIiogBioE5EREREFEAM1ImIiIiIAoiBOhERERFRADFQJyIiIiIKIAbqREREREQBxECdiIiIiCiAGKgTEREREQUQA3UiIiIiogBioE5EREREFEAM1ImIiIiIAoiBOhERERFRADFQJyIiIiIKIAbqREREREQBxECdiIiIiCiAGKgTEREREQUQA3UiIiIiogBioE5EREREFEAM1ImIiIiIAoiBOhERERFRAE27596aa/q9cunSJf0uPzfeeCNmzZqFGTNmYNq0aXooERXLtWvXcPnyZVy4cAFXr17VQ4mIiGiy8zVQl0H67bffjk8//VRNRwYQRFRc8oR45syZuOWWW/DRRx8xWCciIpoifE19kT3pMkj/7LPPGKQTlYjc1+Q+J/c9uQ8SERHR1OBroC7TXQpNnSGi/Mh9T+6DRERENDX4GqjLS/DsSSeaGHLf430hREREUwef+kJEREREFEAM1EukZX8fBo5v1Z8K13Z8EL37W/QnIiIiIppqpnigvhVHB/uwd4X+mJMW7O0bxMCgfjmD7BX70Gt+J15Ht+nhbrYdQ2vlWXQ8tUMPKFz7U7twtnJz5vnmpZAyyyKXMlOKuCxEREREAcce9bS6sL6hFnW1tegYjOthFofWoVF8V1e7CwMuXyeJYLMpjIGX14kpOiQCV5dgVAT3ZkBrvJzjiOV7eQDhpmNo00MCz3OZTRTj5Mz/kx+/6JPHvn3iHREREU1110GgHkP0kH47EbZVo2KsF+sdyyBTVwaeBjpruzGqhznFB3epEwXj1ZAyDRn49o5VoNH3FJgJLjNy1bJ/DeaPjyKQ5zhERETku6IH6jI3W+ZSq8BU9QTKdAZ7r6DK37b2HifSTPS4trQT3auYS763NeXC1hvpSG8RL797U9uqKzA6lJry0v6UCL4bXHrZc9Q+NIpQ5QLLOnmhyzXxcunRt6Wp2Hvt1ba0/N5aZim582o63nv9rXWhd39ED/XAuryyblg+J5bPtk56PMWsB5tRFwIqmpLjGOuSmoJju+fAcvVDjZ/4rH8jP4txbeWWS/2VxLKvro2h94cxPYCIiIimutL0qFeuQfVQLbrH56PpeARDMvUB81GvA5+utQ2WnuNujJY36+BqB5bKccuaE8Ff2/HNmD+yC3We870r0Kx6ro3pd4/XYXUikEymt6hXz6gI0vxMJdmK6vJRDG3XH3MUqt2cDOzSpTtsH8JoKIxy/dGLtuPNQI9lvVN6661lJtNULL32IuhsLhtAh/nbF2X6jUugnw8x7VYRjHbraXeKOlKhv8rKTKsR2xCoxlHLNl+qyl8E40/XIZZYb6NeGfXMrAdGSs6opWwa13o4ldq+RI2rUqTCoq5WD+nfW8pV1Gm5D6jhoszi5Y05lJm57EvQrocQERHR1FeSQD2Es+hRwVII4dipLMHGKGK2a/tGLjZq12DvfiNI7PQSPCXEbfnhqgc6nCb8eycWnLQCHfwZL3liYz3BKEQLImUiFK/O1KNrLbMuRMfVG0VeIYiPnEqUJw6dwtm42K536c8FUNMe7E7Uj661vWnTgjIqDyPmvCdgxQLMD1lPmrrQPxJHOOJHmSaFxBlTr9tJZHxA7wPCoShy6ReXKS914936hIOIiIiuFyUJ1K2BXSxqC58MltQBM/3A5tA6dA5CBKxAtw/pIiiLJHqnbekIz9SJU4kgEicrfRlOMBBGxHPvrNF73BFrTK53rmkYNkYg71fA61o/chU/i37XHPsKNJvrLF6ttaEMZZqnsSGfe723okleZfDxiUFEREQ0OUz8zaQyb7ghlkyl0OkHNjo/d2AwjGY/nngxHlXBvswzboxZbtiUKQnGGIHTEgkjHkvXv5z7zZ/WdCMZtNvyynNi9NAXHmAb0/G7h9tuNJFWk3gFPQCWNyNbTzDkyWSoDq055P0TERHR5DTxgfpdYVsvtrrMb+vWlvm583H2xSVYL4JLmWPemlMPcAh1T5rjy0clJm/uLA/b5qzygP3tUd+BobEKVBd8g6rsVQXOvuV2NUIEcvEYxvTHfHntWVapQ7XNySBRpZTEEXvH+DgWi1umlUuZGqko1htjZS69b/3dKt3E27ZIPVmQ6ViW9B514uhvTUnLlgIlXvJkMi7vEWC+OhER0VQ38YH69m6Vf92qewxX4xV0J6JO+bQNefPoK4mb8tqfMm429fwsaRHUdCfSPJoRHtyVyPVt/6HMfTdv2FwDvJz+UYnyZkBjPPcbJxNPCnEslwxc3fLBkyk3MhgVJxPPWKctAlzb02jkzZ8uj2cUUnLGs3JOezC3P8YkAsducfJh7eGNWZZN5ZUnyipzmTrLrGvtK7a6UD3kcnUlHTN9SpyIQfU4y2lYt9UOLFU3vup56pf9KT86xchyE69xpcEYnlheeaOqumnVYD6pRqbSJOsJe7yJiIioMNPuubfmmn6vXLp0Sb/L3R133IH3339ffyKDPNloROxF90C7IDJt6Jkwetm7Shr3QSIioqlj4nvUp7wdWNoTQ93TPuTW2xhpJXxkHxEREdHUNIl71GVPdYYc5rHuQN0oKNMjWsO9vi2TTJ1pRrDWkSYee9SJiIimDl8D9Ugkgg8++ADXrtkmSUQlMG3aNMyePRvRaFQPISIiosnM19SXy5cvY+bMmfoTEZWS3PfkPkhERERTg6+B+oULF3DLLbfgpptuUr17RFR8cl+T+5zc9+Q+SERERFODr6kv0o033ohZs2ZhxowZDNaJSkCmmsmedBmkX716VQ8lIiKiyc73QJ2IiIiIiArHxzMSEREREQUQA3UiIiIiogBioE5EREREFEAM1ImIiIiIAoiBOhERERFRADFQJyIiIiIKIAbqREREREQBxECdiIiIiCiAGKgTEREREQUQA3UiIiIiogBioE5EREREFEAM1ImIiIiIAoiBOhERERFRADFQJyIiIiIKIAbqREREREQBxECdiIiIiCiAGKgTEREREQUQA3UiIiIiogBioE5EREREFEAM1ImIiIiIAmjaPffWXNPvlUuXLul3+bnxxhsxa9YszJgxA9OmTdNDiahYrl27hsuXL+PChQu4evWqHkpERESTna+BugzSb7/9dnz66adqOjKAIKLikifEM2fOxC233IKPPvqIwToREdEU4Wvqi+xJl0H6Z599xiCdqETkvib3ObnvyX2QiIiIpgZfA3WZ7lJo6gwR5Ufue3IfJCIioqnB10BdXoJnTzrRxJD7Hu8LISIimjr41BciIiIiogBioF4iLfv7MHB8q/5UuLbjg+jd36I/EREREdFUM8UD9a04OtiHvSv0x5y0YG/fIAYG9csZZK/Yh17zO/E6uk0Pd7PtGForz6LjqR16QOHan9qFs5WbM883L4WUWRa5lJlSxGUhIiIiCjj2qKfVhfUNtairrUXHYFwPszi0Do3iu7raXRhw+TpJBJtNYQy8vE5MMUn1sFuC1gFnQCqC+4zfy+V7eQDhpmNo00MCz3OZTRTj5Mz/k58COE5uEq++fWJpiYiIaCq7DgL1GKKH9NuJsK0aFWO9WO9Yhq61DeokwHx1DAJ1T9p77eODuyzjNKRMQwa+vWMVaPQ9BWaCy4ySEic31roiznLGo7YTPyIiIpp6ih6oy55jmUstc6qNXkCZzmDvEUzpXU6kmehxbWknOiUll3xva6+krSfSkd4iXn73prZVV2B0KHvKS1c0BpRFLMvmTfvQKEKVC3L8nS7XxMslvcTWk2vvtVfb0vJ7a5ml5M6r6Xjv9bfWhd79ET3UA+vyyrph+ZxYPts66fEUsx5sRl0IqGhKjmOsS2oKju2eA8vVDzV+4rP+jfwsxrWVWy7112YrmmqBgR/6l0ZFREREwVSaHvXKNageqkX3+Hw0HY9gSKY+YD7qdeBj713uxmh5sw6udmCpHLesORH8tR3fjPkju1DnOd+7As1PA516+t3jdVidCCST6S3q1TMqgjQ/U0m2orp8FEPb9ccMWiJhxEdO2XpJQ7Wbk4FdulSH7UMYDYVRrj960Xa8GeixrHdKb721zGSaiqXXXgSdzWUD6DB/+6JMv3EJ9PMhpt1aG0O3nnanqCMV+quszJ5nsQ2Bahy1bPOlqvxFMP50HWKJ9TbqlVHPzHpgpOSMWsqmca2HfuvtS9S4qqc7LOpq9ZD+vaVcRZ2W+4AaLsosXt6YX5mluUJDREREU09JAvUQzqJHBUshhGOn0K6GpjOKmC1/2cjFRu0a7N1vBImdXoKnhLgtP1z1QIfThH/vxMTYE0AHqL3W9dLBn/GSJzbWE4xCtCBSJkLx6kw9utYy60J0XL1R5BUC2wnFoVM4Gxfb9S79uQBq2oPdifrRtbZX1IY8lIcRc9wTgBULMD9kPWnqQv9IHOGIH2WaFBJnTL1uJ5HxAb0PCIeiiOm3uREnGw3ertAQERHR5FeSQN0a2MWitvDJkEgVkC8j/cDm0Dp0yhzuWqC7wRGA5cOSYmJLR3imTpxKlJhMx2gS61W7JMMJjDhZ6ctwgoEwIp57Z43e445YY3K9807DkIxA3q+A17V+5Cp+Fv2uPc4VaDbXWbxaa0MZyjRPY0NZTkQLIE82xClbIuAnIiKiKW3ibyaVgWpDLJlKodMPbMQ4q2tjIrgKo9mPp13oG/FknnFjzHLDpkxJMMYoDbnuz4TRmzFIN6jUmFi6/uXcb/60phvJoN2WV54To4e+8ADbmI7fPdx2o4m0msTLx0dmFlvbk3WAIz2KiIiIpq6JD9TvCtt6sVv2r3H0qMvc4vk4++ISrBfBpcwxb82pBzhkeZqKfFRiMnWgPGybs8ph9rdHfQeGxipQ7XaDag5BunkD4dm3XEI0mbMcj2FMf8yX155llTpU25zM41cpJXHE3jE+jsXilmnlUqZGKor1xliZS+9bf7dKN0mzLRxSTxZkOpYlvUedOPpbU7Iz7newpUcRERHRlDbxgfr2bpV/3arTEVbjFXQnok75tA158+griZvn2p8ybjb1/Bzp+AC6E2kezQgP7tI3F4pp/VDmvps3bK4BXhbTNr5KJeepxnO/cTLxpBDHcsnANTUf3Axg7akYyaeriO9tT6ORN3+6PJ5RSMkZz8o57cHc/hjT9iVi+1iW+xl5g2Zy2VReeaKsMpeps8y61r5iqwvVQy5XV9Ix06fEiRhC5jSs22oHlqobX/U89cv+lB+dYmS5ide40mAMTyyvvFFV3bRqMJ9UI1NpkvXE3+fbq5OWYqbVEBERUeBMu+femmv6vXLp0iX9Lnd33HEH3n//ff2JDPJkoxGxF90D7YLk1CtP1wPug0RERFPHxPeoT3k7sLQnhrqnfcittzF65WM9DNKJiIiIpqJJ3KMue6oz5DCPdQfqRkGZHtEa7vVtmeTTapoRrHWkiccedSIioqnD10A9Eonggw8+wLVrtkkSUQlMmzYNs2fPRjQa1UOIiIhoMvM19eXy5cuYOXOm/kREpST3PbkPEhER0dTga6B+4cIF3HLLLbjppptU7x4RFZ/c1+Q+J/c9uQ8SERHR1OBr6ot04403YtasWZgxYwaDdaISkKlmsiddBulXr17VQ4mIiGiy8z1QJyIiIiKiwvHxjEREREREAcRAnYiIiIgogBioExEREREFEAN1IiIiIqIAYqBORERERBRADNSJiIiIiAKIgToRERERUQAxUCciIiIiCiAG6kREREREAcRAnYiIiIgogBioExEREREFEAN1IiIiIqIAYqBORERERBRADNSJiIiIiAKIgToRERERUQAxUCciIiIiCiAG6kREREREAcRAnYiIiIgogBioExEREREFEAN1IiIiIqIAYqBORERERBRADNSJiIiIiAKIgToRERERUQAxUCciIiIiCqBp99xbc02/Vy5duqTf5SuEqq8uwQN3zcJ0+fFKFIMnX8WpsSvqW+8iWPDUQtRGZunPYlKxIZx8tRejhS4iEREREVHA+R+oz6zG6u98D+vqy/QAIH6uGx3t30X3r3MI1r+0AM/+x+9hyd0q3FeuvNuNHf92B06+pwcQEREREU1RJUl9Cc1rxupvtqDuVj0g6GZWovlP9uHoj1/HyddfR/f3n8XCO/V3REREREQlULIc9ciCZVj1jUYk+9mDK3T3AjzWUIeKL5WhrKwMkbIwZiQ79omIiIiIiq50N5PeUIa6r63Bmq9W6AHBFRKBefh39AciIiIioglQ2qe+hCrR/PQ6tNSG9IBgkoH6rBn6AxERERHRBCj54xmn39mIlm9+HQu+pAcETgjhcBjTb9AfiYiIiIgmQMkDdamsdgnWrF6IiP4cLGERqIfADnUiIiIimkgleTyjq0ujOLl/B3YcGoLrQxvzeDxjqKoZq1cuxIK75+OOSMh4jrvp0jii757FQN9RdP7gFKJ6cMKt1Vj4tQdQGS5DZf3jqLvT8utLUYyci9mW8x8ujKLv0C4cG4zrIaYIGlatwZKGOsy/K4KQdSGuxBEdE8vwRhc6D7gsQ0IIdU+JaTQ1orZcTGOmHix9Hsf4e6MY6u/Gn3d2Y/gTPZyIiIiIppQbfnd25N/r98rVq1f1uzzd+GXc+/CjItC1RJefjGD4o1n48i2WfJIbv4i75kYwbfRtDL73Wz3Q4qavYMGjj+L3b0/+5vO/H8FbP30L71zQA0zycYob27Hjf1+OBZV34IuhGUjJXLlxJkJf/grm3/c4Fv3Lr+CGD87ir97TQfbMOqz70xfxvzfdj+r/VQT51uWUbgwh/Ltfxpctrztun4HYYC/eejcZqEceXI2tL/wH/JvHqsX3IcxwLsQNMxAquwPz/8XjePRffBlxse4jH36uv9QiC7Bu2/N49usP4S45jRv1cNM/mYGZt34ZFVUP4fGGexH65Nc4/S6jdSIiIqKppjSpL1di6P3B0dTe3y/VYcnTa9BQyDPKb61Gy7Z2tK6ow/+/vfsBruq68wP+TZ2VW8zzUkuN6+e1eZQUuc5Ia1dS8YpsGFHs4CkIeydGK4txFznbWZsReDKptwSStmsYsknTBlgZd2NDu+HPyvZsgyAdYjxoyAQNVGLjkSYei4aVqOuXsVciNA8rQanrnn/3vnPvu++++/6JK/H9zDx4f+6fc88995zfPffcq6Td8xwisWwNnvm3Yp7PV+4JNEs+/xx2bn8WbUuj3Shb+8B6PL/ja3iiwepyX9CIJzY/h41tS7xXA/KouacFG7/0PLqXx/vmXCIiIiIq3uyNUf/pd7H/L89iyteBnGh4DE9vWo8lEYNsr1q0PfWMCmxzQtWZDKYmxjA6Oob0lH94ilDbiA3iJEEFytPvYfyn4wiYKpKahg3o/sMNaPCP9pmewvjbIxh9S7xkOnwrqFm6Chu7NqDebHvyd9dg/e/6g/QZpC9Zy7jqHSiU/skQhsZKTTkRERERxdXsBeofTWHoyCs4NDDuG5Neg/p/8azqES+2XzjRvB7r17Sg1jPEZAbjAy/iuY42rPlCF7o3dWH959vR/fVXMTplJjFqUquwvn0Vkkjj5Ne7saq5GS2P78CxS75R8++exs4O8Zv83Xl97gns/IEcZZ7EqvYnsCrlDa+nRl/FV7+4Dhue6kb3F8VLpOOJL+7Aa2/ZiahBcvkqrGmVt9Um0djc4j1hmUnjbO9WbOzILmN9exe++vJJjE6kMT58DIcOHuI4dSIiIqJ5aHaf+jI9gkO9+3Fs1NcDfEstVvz+M+heXcxzYJJoXv3P0eh7zOPU4Mv45q4DOOu54TSD0de/gT996RjGPffKipMEESivsoefFKnmARFoL/f1gqdP49Ceb+PkRW/AP3PpJPYfOIYhO1ZP3IeW5Y1ILqhD3Z23e5dzdRzD54e8Pf3qJtwd6P5COzb80Qt4bdR3UkFERERE88LsP57x3dN45TuvYegD89mxqBHru5/G+qURg+ZPLUFjfdLbCy+C2B+dPImhPD3MYwMnMfC27yThzvvQeH/pY9WX1DdiyZ3mgzKDsfOncfqt4AA68/YQhsd9vepL/hHu/s3rwHXxsn2qEase34CGReYzEREREd00Zj9QF2Sv9/6/PI20L5ZNLHsU3Zs3oiVCYFpzbz3qk97BMjNTYxgdy//QQ1x9ByNv+8ai31KH1KeXoLRnuiexRMxb5xl6U4Mlq/8YB37wA5wMevXtxMb7vYPZb11Ui9pb0xifmPSNk0+g4fHn8VLfa3jx689HvsmUiIiIiOa+GxKoy17n0df348D3x3yBaQ2SKzqw6alVqP2k+SqPukV1uP3vmQ/G9ak00r5x6F4ZpN9NI+O5obVGBMp13meVR7Uggbpa33AVoSaRQG2tCL7zvPzrqrlFPsoxg6EfnsTwu7k98TW1S9CyegO2fvM1DPz3w3jxa91Ys4whOxEREdF8doMCdWF6HMe+8yJeG/ZF1rfUouXxp/F0oUcOLrgVNb5gfmb6V/hVgSHb169fx3X/k2cW1JTYUy3SIOYt18xMBtdFumdGX8W3e1/F0Af5N6LmU/VoaX8WL/znw/j2ZnkjLBERERHNRzcuUJc+OItDL38XZ3PGwNRj/VOPIhn2d/z/r/nflvNXjqIpENuHuC5ODnxzf5TB+Kh5nGKE19APj+GVl15x/9pq+s1v47nn/gQH3hzJeZyjR2IJVjz1x9ixZQUK/A1YIiIiIpqDbmygLmSGD2H/X5z2PY0FqLlnBVaE3Fh6/ZcZzPjuvaxZcDtuL9DBnUjk/sXQ69PXSgvWRZB+/Ze+RHw0ibH/9oJ+nGKE17NfegEHBrzj6mcunsT+f9ON9Y934asvHcPAW+OY8uWPIq8+rNmARx/gMBgiIiKi+eaGB+rS2Ov/CftfH8r5Y0hhMu+nc3qcE7VJJJNhQWstkkvu9t38mUHmZ5OYDAqEC3oPE+++5x1nX1OnbjCtSC/31TGcfPkFPP/FJ7BGPj/94GmM+Z9oU1veU2uIiIiIKJ5iEagDUxj4iwN49WzIE1t8ZtLjeMd/5+id96GlISRoTf42Whp9T06ZmcQ7Px0XKSjFDN4T86Y9QX4CS5pXoOUe87FSZNDeuwN/etj3113FScfCBbk3tBIRERHR3BaTQF24OqT+yubJiYiDUK6+g9G3/sYbYN+SxIrf24D19weFrbVY8fgTWOUbTjPz7giGfzxuPuUhguGaPOPf0yNnMXTR9+yaZauwsWu996+M2j7Vgif+9TfwYu8ePN/h/YusydYN6H5yFeoD553BzPR1eAbbfHQd1zK/KGOcPRERERHF0S3/8K7kvzPvlV//+tfmXYl+4048uPoRtNxjRZofvovzb5zEyN+az3l89MFPMPF/anFf02dw5981X1o++vkYfvjGD/HTX8hPM0j//JOob/kdfHpRNoq+5Y778OCD92HR/5vC22+nVQBbk1qFf/mlL+PZx/4pan9DT6dN4a//6s9x4LSeTll4Lx56eBU+U2tF5reKtf3vCfz19H34gy9/Fc/3bEDLgndx7i0x34fvY3rhfWj5Z0uQcE97bkXd/b+DFfcn8clrP8XIZR3I16RWoPOPvozntz6N9cs/jbt/6158pvEfY8Hf/hhn/+c0Gp7ajf/4lY1Y9dmHsXb1g6jDBxj5STZtNQ0b8K/+YD1a7rTusv35Ozj5+l/hx/4bcomIiIhoTvvEAw82fWzeK9PTJQ3WzlrQiO6vfxPPtFqjtD84iz1f3opDb5vPoRJo+eJOvPCHK2DHytLMpWN44csvuE9Ikeq/IKbdsia49/qjDDLTtyKRCB4YMjV8AC987UWctf9K6oJ6bNy5F1s/V2CU+QdD2P/vn8eB8yIIF9u88WtfxTOr8/xBoo9mkLlek/dZ7VODL+Ir372G3//Kc2i7x9fjfzWN99KTmFlwN5LJWng3RZysvPkinv+TQxgrc7cRERERUbzEZ+iLK4OhI6/g0MB4tpc7xNjrL2LPkbO+ceLGLYn8QfroMezvfdkbpEvTYxgaHMJ4oZV/6rexvv1RqBHx0yM49NJ+vHre6pm33ZI/SM9cOolDh4/h8t9ZKAJ686WlZlESS+5vRH3KH6SLMH3itJj3VQbpRERERPNQrIa+uH79Pt4Zz+DOz7Tgvn+QHebhHfriyODd4dP48fu34s57l+DeO8Ievi5MpzF66hV84xt/htOXgh8zMzUhThJq78OD/+ROOeolUObtUzjwX/9L9hnwV8dxfvAnyCxIInnP3fj7BZKh0/FdfOvr38L33/4lfvnej3Hqf4zjk3fci3t/qw4L8oyJ12aQfusE/vw/fAuvjfzSfEdERERE80nlh74gibbNz+KJB5Nwhpn/6v1hvPbSixiwhqxEUXP/ejzz1BrU190qlnUdvxg/i8PfOYQhfy+4qxYtX+hA++eaUZ+6G7dbwfL1qb/B2MgQTn//NZwc9T3XMZBY1pNPo+thcbKQvN18J9KQHsfwqUN45chQ3ifFyLHoG37vUTQ31FvzCh/9ApP/K413Rk/jB68dy7sdiYY12Nj+qHpCTXKRvRG/QPrdMQz94FUc6h/xPhaSiIiIiOaVKgTqRERERERUrhiOUSciIiIiIgbqREREREQxxECdiIiIiCiGGKgTEREREcUQA3UiIiIiohhioE5EREREFEMM1ImIiIiIYoiBOhERERFRDDFQJyIiIiKKIQbqREREREQxxECdiIiIiCiGGKgTEREREcUQA3UiIiIiohhioE5EREREFEMM1ImIiIiIYoiBOhERERFRDDFQJyIiIiKKIQbqREREREQxxECdiIiIiCiGGKgTEREREcUQA3UiIiIiohhioE5EREREFEMM1ImIiIiIYoiBOhERERFRDDFQJyIiIiKKIQbqREREREQxxECdiIiIiCiGGKgTEREREcUQA3UiIiIiohhioE5EREREFEMM1ImIiIiIYoiBOhERERFRDDFQJyIiIiKKIQbqREREREQxxECdiIiIiCiGGKgTEREREcUQA3UiIiIiohhioE5EREREFEMM1ImIiIiIYoiBOhERERFRDDFQJyIiIiKKIQbqREREREQxxECdiIiIiCiGGKgTEREREcUQA3UiIiIiohia84F6V+8bOH9uMOf1Zm+nmWLu0dt0BNvN56rbcQR9O8z7m9j2vsJ5njtNJ3pPiTLXt818joPKp8k5zjzlpBLlpnMf3nSO21P70GW+vmHENp0/9waqWn2odchyVNp+ilJOq87dhhvB5JsqN1XeV7NEHV+Ry7+z/aXm/2zUWXodqh2u+jG1DX1zvM0nCjNPetSvYXhPK5Y/ZF4nJpBo6olZ8BRXokJdmTLvb2IiYGxbbN7nE2WaeSpVt1D8ew2Tl/TnypQbsYzuJiQuH9fH7cM9OGx+mc+2N6SQuXAcu8znosSkDJa1DWXq6t2E5sQE+lV9/wg2HzU/zFmdaF22EBNnopb/FOoS4r/MFCb0F/HT2Yp6sY8G5v7OIbrhqh6oL1q0CMlkUr3k+1mx80nsvXANWNxw43ueiOaBXR3VCIp0wDExutt8vgmoQHuOBzA3eBvUSePl0RtyklAVO9ahGRfQv9N8Lmg3OmJ+Yrv9sSbgBp3IEc03n3jgwaaPzXtlenravCufDMxvu+0280n78MMPcfXqVfOpfPKS4RZRJwzv8QYR+vtJ9D/0ZLaykJfg1mZ7ATMX9mG1O5O8fLYOOLEPkyt70Cx7LCB7bZ7EhFqW7FHMfpetgOQlPmd6yfu7SseyMew9U4stZt16vSm1Pic1dlrctO+ZQtvWJjiLnjjRig67Mi9xe/LlhyJ7NztM4OT/PXMBe8MaB//09rJy8sm3PWpeiPSNotHKF2eafPtZBg1vijyacpYVlifOOux8FWnsxzq0+3op/Xm9vW8wzzRmu674lhOQV95lyKtAAYGvSX/Ovjb7s9bZnrDtdPJapCly/iv+aaw0qvXV6c9LvetWRD7unWyLto8kX/oVVV4mVBrqL+7DQF2PyS8rHWZZ2c0o/3jzsLfT/OzsNz0P8qfPky/B+1elr27A7JfoZUfKXwb1e//vebfRrLcy26DLpbsnw+oI/z73TBuSJnf9vnUpcv8fR7KMMqPTlVsvOGXRPR489ZmlzPnlfmub1PtK13NOWxN0jGpqX9/h5F827w5iU3b+vPsiW+7c9Lh5pPNGtXklH0dyP7Vh0sl/55g6MYb6tdn9ELhtAcefkzZ41mVvA1SaasWJwdgycdKTL7/95cDze2l5WHh6k053pb6yJ/mPi4B05Z3fN69nf4T9Frrc7LZ5jqe3J9F8f4S2iSquqj3qCxYsMO+ygr6rOFFA5YHjuTTrVgCyZ1C+9omDuidnXFtq7SbggJ6m/3IK7ecGdYVl5hnOiO/cITWmsMvKQv0uXicg5vGNHUw0YUvDqP59zwVADssRBRuiwOt55FCdTb4xfGI93cBBs1x5hSC11hrnF3l7elB3xpnGV0HsfFJ8d1wcorrSVNM4FYQ5yN3v5bZDbId/2xw504v8E8GHHsNs8gmiEjO/yW1OrfWPK5T53YARM429zYc3HxR5vxD1n/Vun+y5SYjKUfVGRcoTsY6ttRhw0iG2V/UWi/Toykp/729ACk6zeB0aR/X3Kk/lPreGXrkNq5l3+R7RaG0NGLcp9kn/ZZHKBu+wra7eNpFy04sZcd9nRcn/gGlkGrsDxs3mKTfOPmp+zJt2zz5yWMuQDYizDIccuiaDF7193oBLNtj6e+cY9eVjScdbMB386n1uN0Iyfc7+3itW0bx1UOwTeaLppEvkQ07ebUO7PJH5nhU8SAXKjiOsDNrpVMtxtjtk+F/52yDLjAjaZGBh5tl7sR6bgjI2Yn0SuN9duidZHh8qIFLTZOu0ssqMp74V+0Dsk/PndLCi5hP5mRHf5b8no8T5RfrcqxMij/SJrk6nXA7WRh+HLrd/kwgbnXnzlaMcnjyy2ogSjyNVV10e8O07UZZWhrRnjp3Hc+r5rs/Wq+A6saw1WxbV0BoRPFrHUqKpzW27nfx26zezjbKzQOePKAeiffIfH8XmYfj0EeKDKO1mvvnlNvmOqbFlZn+E/WaW65ZN8VLHhO8eiZzjqdu0TSu903naJqqKeTJGXVQCspFxbkozBdRz9rhSjqk8aFUeR7H5jKxo1nkqQnuaXaOyURSVwQHnDPkoBi9aQ2rkJUs5VtIKMHRFk0Kbpwaypjk6iLGM+F80bm6gt3NUTOEPQsU81pn54c0D1jTFbM++nKCzML18Txrl8h8WFZE4JBtzGqug6XVgoT6rfLLzUTDDkzyVr+oFyzYUzjbXLZWfdN57t28bGsXZvh7bGTVPvOuoGM+270a/HHp1R1Jvm2qMfdt/tAcDMhDyBbWSKneL26xGTI9h1See0fe9K0r+B00j0rg6sDcpH9/xodj7qAgiP/29M07Af9D6fleHPHkOOHaKPt5yZYPfgPJiLe/wj8YgVzFxIjud2oeJerTaq9jRgFRmDIPezQovO1Go8uVdv9p3MqgPG/5X9jbooUuZSVlPaoc3PxLQq1ZEfSKmKblXLmDe6GXGLvu7MWJOBtz5TDnyn0BnlTa/CkLNMJ6uu+rEv5NIu0mVJyZF1FWe7Y9YjkwA6+2tdpRyHJnx9jnD2bx1i7dut5l63m0XzPIuiMDbKosq33zHkqdOVPWrKL51ukdZlQNP+RPl4HsymLfrWaHYPAybvmB8EKXdDJl/aa04gbHvG5LHlDlBDftNvfd2PAQe655t03Kns9smqpaqBupBw2gqObQmS1QCqhdCVvyCqCC94/10gyLPEN1g3gT0oS5NqcYrH12xyt4Za5nnxBmwezkpyFGkr5i3RZnApEiMrnhK3J7I8o0d1mnIbaxyG2ybyqeAAOXwzyZzK4cQunLPNuzOmfyI2tfVzpMyqErTdzIpXvYwBQ9/r5IJosd+JDOw+O2Mkv+5QUJpnH3knKiqfZRzPJaiE8k7xGZcHPQF/Pp48p7w2Uo53vS+yhuk+x1NY8q8zU83ykWfsEShypdzHFhU/RV0Yh2gpG3QgYlTFvNf0Sm2PqmUUsuMSNmkCLjKEG1+7xUW59jR7Un0nvSSyV7/vEG6X8TjSNZVRY23z6VOGp12wdyUOrJZnig4gb0JDnP2az66HKjttetMse2iWFZN4fggQrsZNr9pJ3S74rs6EfabQ/bmO8uN2k46y3U6mMzJBHvTq6uqgbociy7HpH/88cfqVenx6bl2o0Ne8ko0BV5+tS8vZV9F9FgEEUGIO1TAehWu+MpXle2ROpOoNW8rQT8xpBJ0T5W+9BZ8Jl+1PCmbDPoC0mb3lri8Vw/kEzbgu5RczHZWLv+j0PtIB0HFNqhhdKM2O+SJvxnmVqlHRjoBR9knLLl0gz4LArZB9qCrsucOjfA9wlOqcH0S3WyWmRLkXGExN4mKlzPssqqPLL183Axf6QkZ0lMc9TSgco931XuvOyqyVxx0nahO6sywF91xEZ07xM7z8g+vqrBy44PQ+XXPuPzsDl1zT/DCfhMn3PLxnPbwSTWkLgrvVVPdNs2jG7tjqupDX2Rgnk6n1au6QbpxtAcHVS+PPXauOj03xfYIl8c++65yT1Tey7z5egDs3v5cgZfVhFJ6cdXlSrmsXruXWap271wZiunZNNyrB71mWIPbG1n8dkbJf1WWUYdkBcqy3kdNaO+rZG+LfQJgM71lV9IVOBmwyYau8BjVqOSl92o9BUMPWwkoXzmXv8sTug1yqI0cdx5UNouuTypltstMMcKvsLj3I1S7fTFD4ALHixdLDcGqxPFurnjUtephL6buU+VcBIi9AcNewhW+glINheOD8HazmPhCnTDLTsqAeiDnN3OFNuhG8Sjcq6Z9R/SQTv89N1Rx82SMupd7U9tW6+zyjKj0/DfzyEs/5TTCzmUgzw1X8my1ApWePBCshWwXQY8c5qErwcpvT+1dcl2d6FKrDFq+3C47DbZ805vetaB8UjdOlTC2zfS2NDf5e5krkScmUO0U+aC/CBBlGh8zXjLluzFMjoH2pNXDXD1o8t+IWcJ2Rsn/PNMU6tHzlhvDCcwWV7a3xTkBsK+Wbe+Tl4Kr1ViYK3Qir/MP64hCjtMvvgcwP18ZDCpf5mYy/5WY0gVtg6+uUz2d9kmlo9j6pHJmv8xEFHSFxXcMq97KogLS0shATt047LaXpbHH25dLdS4sblIn+m4eqXolJer+4q/SBZUDdYxU84pFwfighHbTnt+Xfn3TrcmvsN9Ux5F9f8A29BU1RNScAIv63XPCJMtv0BU1Ktu8DNTVAXBAn0G6d0jLp0yIRrd2rbwEZF5rgf5RUSGqeUoh1vNwK/qvNGGLs0x1p/8A0kutCqEUIjgbwCY3rTnjZSu2PfY40x5scSoFufwT4rzZXb5o3NQTQfIMIwma/spx9F+S+SDzyXnKg/ldVAzeG36jMpfehJyAoJw8cSpFeYlwa0/wkyuiTJOH7CHbe6HOM96wHccxIirJfFRjJeQ0SkVvZ5T8D5qmDsNnBs3vfnnKjSKWJRsgOYSkksGQ7LUV2+0MsZAvfVxU8fK1XKcZHlDqSXDwUzBKlKcMyvLlDpeQL+cpHoFDq4oXuA2donG/4lxWz67TvjHOVWx9Uik3osxEEHR1Qh67+mkxVjqLupm7dPoGW1l+Su1kyvNEo1KpG1UFT+Dv1P0lnPTKcvDQcUxZ5eD81nqMnUkjVdL2RhEhPijYbuafv0sE2lNWfa2fGKSPp7DfZF7IUQfZdconrZn7+yJSJz7if/uKkDMET3feUCVV9TnqRHRz6nKewzxLgUZsyZ4tEcB6niE/18yHbYgT2fOoxgff2JOFSnIfP3uzH+83C1WG5aNcq3yiTQoDdSKqMP0HMMDAjohonpHDb/Rz2GfjoRk0b4e+ENGN4txP4Rl/S0REc15X7yZ1j0fl7rmhQtijTkREREQUQ+xRJyIiIiKKIQbqREREREQxxECdiIiIiCiGGKgTEREREcUQA3UiIiIiohhioE5EREREFEMM1ImIiIiIYoiBOhERERFRDDFQJyIiIiKKIQbqREREREQxxECdiIiIiCiGGKgTEREREcUQA3UiIiIiohhioE5EREREFEMM1ImIiIiIYoiBOhERERFRDDFQJyIiIiKKIQbqREREREQxxECdiIiIiCiGGKgTEREREcUQA3UiIiIiohiaw4F6J3pPDeL8ubDXG+jtFJPuOJJ9P2c523sE2803sVWR/N6GPrkPT+1Dl/kmnMmfvm3mc37b++ZAHkbRuQ9vVqBcb+/Ll2/R87QYuflfnfXkUOWykvu+2DJajGouOyJRvvrmdqVZFV29b4hyNIi+HeaLsus7Uf77/PtZ7/8353j+5+RVbFUiv4tvo3X+RJhelLF45mH1yulN0y5FMIcD9aPY/HArlj/kvI5jQnybubDP+u4RbD6qp577UqhLiP8yU2o7573OJGrl/1fSOKy+qBARfLQtNu9p9s2n/K9WGZWqueyItj/WpNNAHqm6heLfa5i8pD+Xbcc6NN9h3s8zFc+rWKtWGy0CxpUp856qIubtUtUD9UWLFiGZTKqXfE+l2o0OefLxcM8Na7hn1dEerJbb27HbfEEUM9Usoyz/sbWrY751AlXPzZVXN1kbTbPmEw882PSxea9MT0+bd+WTgfltt91mPmkffvghrl69aj5VkrwEsw61F/Zhtb9WkJcm19Zh+MQY6tc2QZ70ShMnWtGx03yQ1HTZM1fZO5+zLEWvCyf2YXJlD5rVAifQ/9CTmOh9A1uaZC9C9rtd5pM6Mz7lTC9lf5eXedrFGZ0nTXJow1aR3svHVYOtprnjAvaaikBeNtuybAx7z9Rii0m3TnNKpc/ZEns71DKgl+dS2w03LaUs16Mi+W3y6oqVVic/9KesjMyTQbSa6fuxTuVl9jedX04e23LSZNZbf3EfBup6zPTXMLzHNDb+NJh9k+Xfx9a8km+b7fRJ+fNeLMC37okLF1DbVI8xe/kF0+fLB7H+4StNaPaXCSW7D/ZOtgWUa30cpPKtwyqr7neB+Z9dT759p/nz1n98+XjyWuyHC5NobsqWcyVfGTTf55YPu56Bm+7s9he3//MeQ1beO8tWZcPdB0FlV3LqplaMNFj5XbCcWssLOs5y9oUUcV3FlknBs20F5g/Ll/A8M+XXfPJuo7NtuXX8LrUPRf3m7Ff789Io5cY9WHP2Qba8ONMfx9iyddlpSshbTa8rsF4zadZ85VXIm4dOWfas09mmsLwSx+CeKbQ56VbzT3jzwlqmWyfa5U9tt1X3lbBcr8rkd2695ytjLp0/Ol6YRP8JoD1oHzh5bAvYBjePgtqNnHLmrzcL/S740+GmoXLl9KZpl0pQ1R71BQsWmHdZQd/NjoVoXgkclGe84rX3wjWk1lrjCt0KRf++/KF9ouD1hI69Sq3dBBzQ0/dfTqH93KA+WMz8wxnxnTu+Se9MWVE6Q3PUPGYMqux56L8sl+mMkxLTd4uCHVDYPBJN2NIwqpe55wLQ1IPzopBCFDT13YkJMcmm4sdPlr3cCue3OdCnnPXbQ53sg2bxOjSOWtPI7TD7QPXuiHTrA0lP421MsxJie9smnX1lKs2cNIh9Jg7g7Bg2c8BCHMjm9+V7xMlKtxl/aio7WQno+UUZgUiff4yiTPPKKXcZdpAOub3m+5E6q+KTCqbPqZSy27/8AFDvq6RyiDzdhINmmaZcq3K7Gx0yPxe3ecuBSIe8jDhxxq7MIuR/yL5z81YGrmbe5bJxyze+MyevDwLLfA1eWBnc+aQ+HhuyeSd19baJRncCA6pA+EXZ/8XVMS4x7xax+7PzHgfcuiJXau1gNi/F8ZsReZtdT0A6xX6R86hpVG++3M/m+JK/exomr9B1lVIm7W0rNH9YvoTmmW7M3frMORatdEmptT2oO+NME6HxdcrNSu+Y8+Byo4dvyrpRNf5qHd4gOdHU5rYxpeStn6zXnH21V1TrzVsHRZmUJ69m/sui3nbKq+AGgOZ3XU5MPS62VR3PIk3O+Omu3k0iYCkUqIj6o9tpG8RxLuY/f85qG812Fj8mu/zlVja/nSDWqbP1MaWCVE/+iHQ7ba1cptwHW005lXkst0W8deuyfPFAULtRsN7Uv+eLSxRVb9l1qd5uOx/Lzbebpl0q0U301Bdxlnogu4MObx4Qu2Uh6pbKTyKzV6ZEXXnQqiRFJXpGBqPr8ma4Pf2uUbmj7XUcxeBFUQEvbjDz60rZ7j1T8yTq0WoK064OeUCKwiYKgVvhhQXpijXN0UGMmYrALWg7R9V21n/WLrFRlLvcCuf30loRlE5gxD2AdqNfNHCJZa2eBtGTRjMN7kh6p4lCLMfeV5IcsytPnOyDeNf3ZKVkKgQ51jTh3W4V9KggR2+zN32yTOh93uhpPETe+wIjtW7RmB+0y49ct3kvFUyfU1GdsBoJkb4BEViE8uSF3k9uuQ0oB12frVdp7bfSEYkn7b59p/LWdzzsPK4q5zZPbSzlyWuZblfhMqiOT09l34nWZQvFPMeDg5AI+7/YOsbRdVed+HcSaXdeeZk9fzAkA2x3280+TtSZE5WgdIqAQAaMOcdTBGHrKqlMWttWaP6wfAnPM/nebpD99bXm2baI/PV6wXITwlNeis3bINb0h380puoPO+/9aT+8+RHvSZr/eHdOTOQJkNiXm5oW+vZlELvs7caIrH/sus20N/6T5MLKX25F81vdZ3INYz9yF6jrIF8Z87S1glom6pDMtw/zym03CtebIk2hcUlQXSqmEcGt/bmsfLtp2qXSVTVQDxpGU8mhNZWjbwKRvQ2ep8bYl3oKuTTlCZrykmeneZcvGg9zNqp7ggpVeH5Hkb5i3lZUpZdbQn6r/LUDWt34zd7Ndp1Iyhu+xL7xpHmrqIT0BAGBgU1v88SodUArE5gs2CjpdWcuDoZsa+H05Z7slEjtC+eky5wwucHmNrTLxtrXa1EunbfiJNbetnM9opLUv3vly2tbhDKoKlyrsjcBbrbh9Yqy/0utY/SJrrP95fXWqHRmxjDoS+fhn01mG7qKiFom891sWHj+sHyJkmeyx9hZrj28oyym3DQ/Zo5p05gHX4UpVYS8LeRoGlPmbTjZM+ysI3cYx64O05sp1i2v+NkBWRQTkyLwqYLKLreE/Fb56w0WtzeI3JvFB0JErjfzxiW63spMlppitkuVUNVAXY5Fl2PSP/74Y/Wq3vj0yrAv7WRfxQbL+YgzU/moH/vSt7rc4qMKreQUuPmrqPwWZ9ir1WVX62CQl+7tM9lZ4A4F8Ly8l6sDOU/xKImuLKMIS5+uVCpP98yZk6gdDeJdBSrdIBlrqIb18l/5KCavw8ug7mV1KnvVyF4eKLyvQ5Rex+geYDm9M8yu1Ec36idxzJ6SjxkjfP6wfAn7TQefanywmUYNQakIb++8LjejFWpHvMrN20L0iYw9fEMPw/DK1k/uVZt5qrj81h1vetiobrfU8A5/r3e1hdabEeOSMrFdKk/Vh77IwDydTqtXfIP0KL2aZXIuN/tu1PESjYc4m5WFOmdMdyWVMhSkokrJb5k39vhe8ZrVCk9fVQgbGqB6JPNdssx72TVKj4XOr/BGsMz0FcPfC2ouU6ZWHkGfGt5R/CX+Qorq7TU9hbV3hU0crQw6vbKNvebybEgvfXj+Vq6OccdUltj7nTs0Q9MNZr4rAqUoXCa9vWB+Eea3hOWL/zdnzHilb/pyOOWmre+IKDei3v9epTsUisub0uheSNkehQUd2/vWISWDFf/Y5EpK1IrcvJFKyW8RBHd7x2ZXruMvmoL1ZsG4JErbE4btUiXcRGPUwzhjx3w3msjLQSE35hQlp0HSQbnNqfDkmLrDmw/qy6fWjT2VoC4H2gWrcx/ejHj5vXJKyG+ZXpkf8uYn0zuhXiX1KppKobOzqHnVuLpEEzbZDZHMPycNziVve5/JbVK/B22z7M2Ql5ILXRYPmleUH99l11LSJ3vM/He85/CMwTTl1tezrIO/FFIhQ0OySsj/oLxV+Rd0Mutc9rRuds4p51HLoB7rmmoSeS2OzdDxjUXvfyFqHeObTl9Czx2+EkmedMqhH/7GzGmgu8S+KkXBMuk0pvaNsfJ3M1Sl4Pxh+RLyW05wIJYpx1dXji43icUpUW4i7CcnEC3imCiYN2XLDdJUG2XeKyKP2+WJiBwbLvblQf9xVwF6X9nDHnPrvtlQan5nrwI7r9KGrumOB1E+isnbQvVmwbgkX7sV/Y9YsV0qHwN1h7y7es8F1NoH1Vqgf1RUTmaSsphKLHvQNmDEvYyoC773spg4QA7oAr6lYhWvqPQ2PwJ9V7lJh7xLXvaEmN9nTbH5vVReuvJdYpLp9lcAhTgHltz+rT3FzSv24Wqxz6bsccbyEWFn0kipxYh99rB5eoS7TXUYPjOoZlfbHDR8J0ovi7nZL7j8GJHSJ+aRZcr8Lu+aL3TJP3NhAOh21isa6ssBTyJS+Sr+LzQ0pOT8l2lvRf8VK29F/tVfHEB6ae4yIpXziGVQVfZC+D0CUoT9X0yZt8jf9VMs9HzlXUIPSqd+qkPOzVlmnVu2Fr7hNVDBMinyt8MamqJ+l72QopzK3wvMH5YvoXkm9kW160EVoIj/C42L9YylF8dEe8QAKErelkeUAdkGWXkon34hbx6VuuSwGFVusr2xbgfT1goGKlHqvtlQbH53tqJe3mhot1kq3WJfRzk5dzkdD3K9PdjiCQoLKVBvim3KH5cYst7yt1vykYWXIu7ggvkm03hztEulqupz1IkqQ57I6EdIeS/B5vueZt8293F3xd5MRjQvyR59eSI2y8MdKB7UIwcDngOe73uqhvnRLrFHneYA7019Dv0IyyiXtKja1JjfQkNDiG4aneZxnJUfF0tzg7oS5390oxoqhAJPpKJKmS/tEnvUac6Ql1q9j1CTlxXZW3XDyfGGW/Wj2Xhlg8ipq+QjdsMeHkDznrqqYo/5LvRACaqYedQuMVAnIiIiIoohDn0hIiIiIoohBupERERERDHEQJ2IiIiIKIYYqBMRERERxRADdSIiIiKiGGKgTkREREQUQwzUiYiIiIhiiIE6EREREVEMMVAnIiIiIoohBupERERERDHEQJ2IiIiIKIYYqBMRERERxRADdSIiIiKiGJrjgXonek8N4nzfNvO5NNv7xDJO7UOX+YwdR3D+3Bvo7TSfiYiIiIhmGXvUiYiIiIhiiIE6EREREVEMzZtAvav3DZw/N2heR7DdfK+ZITJ5fyciIiIiipf5EagvXodNOIjlD7WK1z4MZ1Jod8ecyyC9B/UX95nfW9F/2f6diIiIiCh+5kegfvk4Vm8+aj4cxeYzE0CiHq3qZlDx+eFW63dg16j9OxERERFR/MzPMeqXppDBQtQtNZ8l9SQXM/Rlbcp8SUREREQUTzfBzaRmfPraOgzv0UNflp+YML8REREREcXT/AzUl9YigWuYvCTe71iH5sQ1EaQ/Amv0CxERERFRrM2Tm0nbrD9OtA19cmjL5QEdmOcMgzG/R2Z65HnzKRERERHNonkRqGcuDADdZvz5uXVIXT6O5R279Y9He3DwwjWk1jq/N2DkoeOIPvglhbqE+C9RK94REREREc2OTzzwYNPH5r0yPT1t3hERERER0Y1yE9xMSkREREQ09zBQJyIiIiKKIQbqREREREQxxECdiIiIiCiGGKgTEREREcUQA3UiIiIiohhioE5EREREFEMM1ImIiIiIYgf4/75wNK+VTGsIAAAAAElFTkSuQmCC)"
      ]
    },
    {
      "cell_type": "code",
      "metadata": {
        "id": "-dx8ASOXoU6M"
      },
      "source": [
        "import numpy as np\n",
        "\n",
        "def max_ball(v0):\n",
        "  vm = v0/3.6\n",
        "  t = np.linspace(0.0,9.9,100)\n",
        "  h = vm*t-0.5*9.81*t**2\n",
        "  return np.argmax(h)\n",
        "\n",
        "max_ball(25)\n"
      ],
      "execution_count": null,
      "outputs": []
    },
    {
      "cell_type": "markdown",
      "metadata": {
        "id": "S5q2Qv2FMpD8"
      },
      "source": [
        "10. ![Zrzut ekranu 2020-11-29 095020.png](data:image/png;base64,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)\n",
        "\n"
      ]
    },
    {
      "cell_type": "code",
      "metadata": {
        "colab": {
          "base_uri": "https://localhost:8080/"
        },
        "id": "1ZPcvSTFMutN",
        "outputId": "d5ff8ba9-1b25-453c-9302-2b1f7aa5e8ab"
      },
      "source": [
        "def parts_sum(ls):\n",
        "  sumls = []\n",
        "  for n in range(0,len(ls),1):\n",
        "    sumls.append(sum(ls[n:]))\n",
        "  sumls.append(0)\n",
        "  \n",
        "  \n",
        "  return sumls\n",
        "\n",
        "parts_sum([0,1,2,3,6,4,3,])"
      ],
      "execution_count": null,
      "outputs": [
        {
          "output_type": "execute_result",
          "data": {
            "text/plain": [
              "[19, 19, 18, 16, 13, 7, 3, 0]"
            ]
          },
          "metadata": {
            "tags": []
          },
          "execution_count": 39
        }
      ]
    },
    {
      "cell_type": "markdown",
      "metadata": {
        "id": "ZkcYBKJmrdUT"
      },
      "source": [
        "11.\n",
        "Given an array of ints, return a new array length 2 containing the first and last elements from the original array. The original array will be length 1 or more.\n",
        "\n",
        "\n",
        "make_ends([1, 2, 3]) → [1, 3]\n",
        "make_ends([1, 2, 3, 4]) → [1, 4]\n",
        "make_ends([7, 4, 6, 2]) → [7, 2]"
      ]
    },
    {
      "cell_type": "code",
      "metadata": {
        "colab": {
          "base_uri": "https://localhost:8080/"
        },
        "id": "w75srq75wrbc",
        "outputId": "93c1b114-4e16-4896-93a6-83dd9e3b21d8"
      },
      "source": [
        "def make_ends(nums):\n",
        "  result = []\n",
        "  result.append(nums[0])\n",
        "  result.append(nums[-1])\n",
        "\n",
        "  return result\n",
        "\n",
        "make_ends([3,2,5,7,6,5])"
      ],
      "execution_count": null,
      "outputs": [
        {
          "output_type": "execute_result",
          "data": {
            "text/plain": [
              "[3, 5]"
            ]
          },
          "metadata": {
            "tags": []
          },
          "execution_count": 1
        }
      ]
    },
    {
      "cell_type": "markdown",
      "metadata": {
        "id": "Fta2iNl4yZVk"
      },
      "source": [
        "12. \n",
        "Given an int array length 2, return True if it contains a 2 or a 3.\n",
        "\n",
        "\n",
        "has23([2, 5]) → True\n",
        "has23([4, 3]) → True\n",
        "has23([4, 5]) → False"
      ]
    },
    {
      "cell_type": "code",
      "metadata": {
        "colab": {
          "base_uri": "https://localhost:8080/"
        },
        "id": "jxDg32AkyaPe",
        "outputId": "d971f0a7-8afc-4438-90a6-98b94cba2cdc"
      },
      "source": [
        "def hes23(nums):\n",
        "  for n in nums:\n",
        "    if n == 2 or n == 3:\n",
        "      return True\n",
        "    else:\n",
        "      continue\n",
        "  else:\n",
        "    return False\n",
        "    \n",
        "\n",
        "hes23([4,2])"
      ],
      "execution_count": null,
      "outputs": [
        {
          "output_type": "execute_result",
          "data": {
            "text/plain": [
              "True"
            ]
          },
          "metadata": {
            "tags": []
          },
          "execution_count": 17
        }
      ]
    },
    {
      "cell_type": "markdown",
      "metadata": {
        "id": "C44ZpzFN3mEZ"
      },
      "source": [
        "13. Return an int array length 3 containing the first 3 digits of pi, {3, 1, 4}.\n",
        "\n",
        "\n",
        "make_pi() → [3, 1, 4]"
      ]
    },
    {
      "cell_type": "code",
      "metadata": {
        "id": "1zIrJhWV3m1z"
      },
      "source": [
        "def make_pi():\n",
        "  return [3,1,4]"
      ],
      "execution_count": null,
      "outputs": []
    },
    {
      "cell_type": "markdown",
      "metadata": {
        "id": "YFMNvoLD499p"
      },
      "source": [
        "14. \n",
        "Given an array of ints length 3, return an array with the elements \"rotated left\" so {1, 2, 3} yields {2, 3, 1}.\n",
        "\n",
        "\n",
        "rotate_left3([1, 2, 3]) → [2, 3, 1]\n",
        "rotate_left3([5, 11, 9]) → [11, 9, 5]\n",
        "rotate_left3([7, 0, 0]) → [0, 0, 7]"
      ]
    },
    {
      "cell_type": "code",
      "metadata": {
        "colab": {
          "base_uri": "https://localhost:8080/"
        },
        "id": "Qn4yPBZs4-6b",
        "outputId": "7cf64632-de13-495a-81cf-817a73efc432"
      },
      "source": [
        "def rotate_left3(nums):\n",
        "  return [nums[1],nums[2],nums[0]]\n",
        "\n",
        "rotate_left3([4,3,2])"
      ],
      "execution_count": null,
      "outputs": [
        {
          "output_type": "execute_result",
          "data": {
            "text/plain": [
              "[3, 2, 4]"
            ]
          },
          "metadata": {
            "tags": []
          },
          "execution_count": 18
        }
      ]
    },
    {
      "cell_type": "markdown",
      "metadata": {
        "id": "cKA0v9SD5m0o"
      },
      "source": [
        "15. Write a Python program to calculate the sum of a list of numbers using recursion.\n"
      ]
    },
    {
      "cell_type": "code",
      "metadata": {
        "colab": {
          "base_uri": "https://localhost:8080/"
        },
        "id": "rnR7-p8k5wME",
        "outputId": "a70e6661-31d5-4382-9cd2-61dfe426d600"
      },
      "source": [
        "def sum(num):\n",
        "\n",
        "  if not num:\n",
        "    return 0 \n",
        "  return num[0] + sum(num[1:])\n",
        "\n",
        "\n",
        "\n",
        "\n",
        "sum([1,2,3])"
      ],
      "execution_count": null,
      "outputs": [
        {
          "output_type": "execute_result",
          "data": {
            "text/plain": [
              "6"
            ]
          },
          "metadata": {
            "tags": []
          },
          "execution_count": 3
        }
      ]
    },
    {
      "cell_type": "markdown",
      "metadata": {
        "id": "5w3WDu-D9il5"
      },
      "source": [
        "16. Write a Python program to converting an Integer to a string in any base"
      ]
    },
    {
      "cell_type": "code",
      "metadata": {
        "colab": {
          "base_uri": "https://localhost:8080/"
        },
        "id": "LCuVu_0e9mQy",
        "outputId": "7a492033-c3ad-4224-ffc9-ab58bffa2c84"
      },
      "source": [
        "\n",
        "def to_string(n,base):\n",
        "   conver_tString = \"0123456789ABCDEF\"\n",
        "   if n < base:\n",
        "      return conver_tString[n]\n",
        "   else:\n",
        "      return to_string(n//base,base) + conver_tString[n % base]\n",
        "\n",
        "print(to_string(4,16))"
      ],
      "execution_count": null,
      "outputs": [
        {
          "output_type": "stream",
          "text": [
            "4\n"
          ],
          "name": "stdout"
        }
      ]
    },
    {
      "cell_type": "markdown",
      "metadata": {
        "id": "OPb_Z9xr6Axl"
      },
      "source": [
        "# Object Oriented Programming"
      ]
    },
    {
      "cell_type": "markdown",
      "metadata": {
        "id": "0iX8tAjrz4yn"
      },
      "source": [
        "17. Make a class called Restaurant. The __init__() method for\n",
        "Restaurant should store two attributes: a restaurant_name and a cuisine_type.\n",
        "Make a method called describe_restaurant() that prints these two pieces of\n",
        "information, and a method called open_restaurant() that prints a message indicating that the restaurant is open.\n",
        "Make an instance called restaurant from your class. Print the two attributes individually, and then call both methods."
      ]
    },
    {
      "cell_type": "code",
      "metadata": {
        "colab": {
          "base_uri": "https://localhost:8080/"
        },
        "id": "gDAe8-hX0zcA",
        "outputId": "c9080fc1-2a3b-4979-d5e9-93a88816082f"
      },
      "source": [
        "class Restaurant:\n",
        "\n",
        "  def __init__(self,restaurant_name,cuisine_type):\n",
        "    self.restaurant_name = restaurant_name\n",
        "    self.cuisine_type = cuisine_type\n",
        "  \n",
        "  def describe_restaurant(self):\n",
        "    print('Restarutant ' + str(self.restaurant_name),end=' ')\n",
        "    print('serves only ' +  str(self.cuisine_type) + ' dishes')\n",
        "\n",
        "  def open_restaurant(self):\n",
        "    print('That restaurant is open')\n",
        "\n",
        "res1 = Restaurant('Hokai','Vietnamese')\n",
        "res1.describe_restaurant()\n",
        "res1.open_restaurant()"
      ],
      "execution_count": null,
      "outputs": [
        {
          "output_type": "stream",
          "text": [
            "Restarutant Hokai serves only Vietnamese dishes\n",
            "That restaurant is open\n"
          ],
          "name": "stdout"
        }
      ]
    },
    {
      "cell_type": "markdown",
      "metadata": {
        "id": "_eXiFjop5Zs5"
      },
      "source": [
        "18. Start with your class from Exercise 17. Create three\n",
        "different instances from the class, and call describe_restaurant() for each\n",
        "instance."
      ]
    },
    {
      "cell_type": "code",
      "metadata": {
        "colab": {
          "base_uri": "https://localhost:8080/"
        },
        "id": "yJZ9VEth4iX9",
        "outputId": "5a85aeff-d3a4-4caf-ab61-0a5b22fa9068"
      },
      "source": [
        "class Restaurant:\n",
        "\n",
        "  def __init__(self,restaurant_name,cuisine_type):\n",
        "    self.restaurant_name = restaurant_name\n",
        "    self.cuisine_type = cuisine_type\n",
        "  \n",
        "  def describe_restaurant(self):\n",
        "    print('Restarutant ' + str(self.restaurant_name),end=' ')\n",
        "    print('serves only ' +  str(self.cuisine_type) + ' dishes')\n",
        "\n",
        "  def open_restaurant(self):\n",
        "    print('That restaurant is open')\n",
        "\n",
        "res1 = Restaurant('Hokai','Vietnamese')\n",
        "res2 = Restaurant('u Szwagra','Kebsy')\n",
        "res3 = Restaurant('McDonalds','Fast Food')\n",
        "\n",
        "res1.describe_restaurant()\n",
        "res2.describe_restaurant()\n",
        "res3.describe_restaurant()"
      ],
      "execution_count": null,
      "outputs": [
        {
          "output_type": "stream",
          "text": [
            "Restarutant Hokai serves only Vietnamese dishes\n",
            "Restarutant u Szwagra serves only Kebsy dishes\n",
            "Restarutant McDonalds serves only Fast Food dishes\n"
          ],
          "name": "stdout"
        }
      ]
    },
    {
      "cell_type": "markdown",
      "metadata": {
        "id": "MdwLh3Pd6Lcq"
      },
      "source": [
        "19. Make a class called User. Create two attributes called first_name\n",
        "and last_name, and then create several other attributes that are typically stored\n",
        "in a user profile. Make a method called describe_user() that prints a summary\n",
        "of the user’s information. Make another method called greet_user() that prints\n",
        "a personalized greeting to the user.\n",
        "Create several instances representing different users, and call both methods\n",
        "for each user"
      ]
    },
    {
      "cell_type": "code",
      "metadata": {
        "id": "QEJfjoyC6Oh5"
      },
      "source": [
        "class User:\n",
        "\n",
        "  def __init__(self,first_name,last_name,age,education,special):\n",
        "    self.first_name = first_name\n",
        "    self.last_name = last_name\n",
        "    self.age = age\n",
        "    self.education = education\n",
        "    self.special = special\n",
        "\n",
        "  def describe_user(self):\n",
        "    print('First name: ' + str(self.first_name))\n",
        "    print('Las name: ' + str(self.last_name))\n",
        "    print('Age: ' + str(self.age))\n",
        "    print('Education: ' + str(self.education))\n",
        "\n",
        "  def greet_user(self):\n",
        "    print('Special interests for user ' + str(self.first_name) + str(self.special))\n",
        "\n",
        "user1 = User('Slawek','Serafin',21,'Secondary education','Gym')\n",
        "user2 = User('Joe','Biden',78,'Higher','Politician')\n",
        "\n",
        "\n",
        "user1.describe_user()\n",
        "user1.greet_user()\n",
        "print()\n",
        "user2.describe_user()\n",
        "user2.greet_user()\n",
        "\n"
      ],
      "execution_count": null,
      "outputs": []
    },
    {
      "cell_type": "markdown",
      "metadata": {
        "id": "xTer8TsY_Cpl"
      },
      "source": [
        "20. Start with your program from 17.\n",
        "Add an attribute called number_served with a default value of 0. Create an\n",
        "instance called restaurant from this class. Print the number of customers the\n",
        "restaurant has served, and then change this value and print it again.\n",
        "Add a method called set_number_served() that lets you set the number\n",
        "of customers that have been served. Call this method with a new number and\n",
        "print the value again.\n",
        "Add a method called increment_number_served() that lets you increment\n",
        "the number of customers who’ve been served. Call this method with any number you like that could represent how many customers were served in, say, a\n",
        "day of business."
      ]
    },
    {
      "cell_type": "code",
      "metadata": {
        "id": "hVOCC4Ap_EFv"
      },
      "source": [
        "class Restaurant:\n",
        "\n",
        "  def __init__(self,restaurant_name,cuisine_type):\n",
        "    self.restaurant_name = restaurant_name\n",
        "    self.cuisine_type = cuisine_type\n",
        "    self.number_served = 0\n",
        "  \n",
        "  def describe_restaurant(self):\n",
        "    print('Restarutant ' + str(self.restaurant_name),end=' ')\n",
        "    print('serves only ' +  str(self.cuisine_type) + ' dishes')\n",
        "\n",
        "  def open_restaurant(self):\n",
        "    print('That restaurant is open')\n",
        "\n",
        "  def set_number_served(self,number_of_customers):\n",
        "    self.number_served = number_of_customers\n",
        "\n",
        "  def increment_number_served(self,increment):\n",
        "    self.number_served+=increment\n",
        "\n",
        "\n",
        "\n",
        "restaurant = Restaurant('Hokai','Vietnamese')\n",
        "print(restaurant.number_served)\n",
        "restaurant.number_served = 17\n",
        "print(restaurant.number_served)\n",
        "restaurant.set_number_served(23)\n",
        "print(restaurant.number_served)\n",
        "restaurant.increment_number_served(5)\n",
        "print(restaurant.number_served)\n",
        "\n"
      ],
      "execution_count": null,
      "outputs": []
    },
    {
      "cell_type": "markdown",
      "metadata": {
        "id": "DSFsGDoxYrtP"
      },
      "source": [
        "21. Add an attribute called login_attempts to your User\n",
        "class from Exercise 19. Write a method called increment_\n",
        "login_attempts() that increments the value of login_attempts by 1. Write\n",
        "another method called reset_login_attempts() that resets the value of login_\n",
        "attempts to 0.\n",
        "Make an instance of the User class and call increment_login_attempts()\n",
        "several times. Print the value of login_attempts to make sure it was incremented\n",
        "properly, and then call reset_login_attempts(). Print login_attempts again to\n",
        "make sure it was reset to 0."
      ]
    },
    {
      "cell_type": "code",
      "metadata": {
        "id": "5s3ZFgmHYxqj"
      },
      "source": [
        "class User:\n",
        "\n",
        "  def __init__(self,first_name,last_name,age,education,special,login_attempts):\n",
        "    self.first_name = first_name\n",
        "    self.last_name = last_name\n",
        "    self.age = age\n",
        "    self.education = education\n",
        "    self.special = special\n",
        "    self.login_attempts = login_attempts\n",
        "\n",
        "  def describe_user(self):\n",
        "    print('First name: ' + str(self.first_name))\n",
        "    print('Las name: ' + str(self.last_name))\n",
        "    print('Age: ' + str(self.age))\n",
        "    print('Education: ' + str(self.education))\n",
        "\n",
        "  def greet_user(self):\n",
        "    print('Special interests for user ' + str(self.first_name) + str(self.special))\n",
        "\n",
        "  def increment_login_attempts(self):\n",
        "    self.login_attempts+=1\n",
        "  \n",
        "\n",
        "  def reset_login_attempts(self):\n",
        "    self.login_attempts = 0\n",
        "\n",
        "user1 = User('Slawek','Serafin',21,'Secondary education','Gym',6)\n",
        "user2 = User('Joe','Biden',78,'Higher','Politician',9)\n",
        "\n",
        "\n",
        "print(user1.login_attempts)\n",
        "user1.increment_login_attempts()\n",
        "print(user1.login_attempts)\n",
        "user1.reset_login_attempts()\n",
        "print(user1.login_attempts)"
      ],
      "execution_count": null,
      "outputs": []
    },
    {
      "cell_type": "markdown",
      "metadata": {
        "id": "fdgn_U3lcEqv"
      },
      "source": [
        "22. Write a Python class to convert an integer to a roman numeral and vice versa"
      ]
    },
    {
      "cell_type": "markdown",
      "metadata": {
        "id": "Ml5k6lVkdFxR"
      },
      "source": [
        "Python divmod()\n",
        "The divmod() method takes two numbers and returns a pair of numbers (a tuple) consisting of their quotient(iloraz) and remainder(reszta)."
      ]
    },
    {
      "cell_type": "markdown",
      "metadata": {
        "id": "Tbi1d5bJduh6"
      },
      "source": [
        "[Tuples](https://www.w3schools.com/python/python_tuples.asp)"
      ]
    },
    {
      "cell_type": "code",
      "metadata": {
        "colab": {
          "base_uri": "https://localhost:8080/"
        },
        "id": "e4gOLYX0dNbp",
        "outputId": "f407e98a-92ed-499e-bf97-e7e50ed187fc"
      },
      "source": [
        "a = divmod(7,4)\n",
        "print(a)\n",
        "\n",
        "b = divmod(8,7)\n",
        "print(b)\n",
        "\n",
        "c = divmod(54,10)\n",
        "print(c)\n",
        "\n",
        "d = divmod(1041,1000)\n",
        "print(d)"
      ],
      "execution_count": null,
      "outputs": [
        {
          "output_type": "stream",
          "text": [
            "(1, 3)\n",
            "(1, 1)\n",
            "(5, 4)\n",
            "(1, 41)\n"
          ],
          "name": "stdout"
        }
      ]
    },
    {
      "cell_type": "code",
      "metadata": {
        "id": "wA2EgDMYcF1I"
      },
      "source": [
        "class Conventer:\n",
        "\n",
        "  def __init__(self,num,roman):\n",
        "    self.num = num\n",
        "    self.roman = roman\n",
        "\n",
        "  def int2roman(self):\n",
        "    value = [1000,900,500,400,100,50,40,10,5,4,1]\n",
        "    symbols = ['M','CM','D','CM','C','L','XL','X','V','IV','I']\n",
        "\n",
        "    i = 0\n",
        "    while self.num>0:\n",
        "      for _ in range(self.num//value[i]):\n",
        "        self.roman+=symbols[i]\n",
        "        self.num-=value[i]\n",
        "      i+=1\n",
        "    return self.roman\n",
        "  \n",
        "  def roman2int(self):\n",
        "    dict = {'I':1,'V':5,'X':10,'L':50,'C':100,'D':500,'M':1000}\n",
        "\n",
        "    for i in range(len(self.roman)):\n",
        "      if i > 0 and dict[self.roman[i]] > dict[self.roman[i-1]]:\n",
        "        self.num += dict[self.roman[i]] - 2*dict[self.roman[i-1]]\n",
        "      else:\n",
        "        self.num += dict[self.roman[i]]\n",
        "    return self.num\n",
        "  \n",
        "\n",
        "value1 = Conventer(9879,'')\n",
        "print(value1.int2roman())\n",
        "\n",
        "\n",
        "value2 = Conventer(0,'MMXCIII')\n",
        "print(value2.roman2int())\n",
        "\n",
        "\n",
        "\n"
      ],
      "execution_count": null,
      "outputs": []
    },
    {
      "cell_type": "markdown",
      "metadata": {
        "id": "onkNfs8Hs2LG"
      },
      "source": [
        "23. Create a class Ghost\n",
        "\n",
        "Ghost objects are instantiated without any arguments.\n",
        "Ghost objects are given a random color attribute of white\" or \"yellow\" or \"purple\" or \"red\" when instantiated"
      ]
    },
    {
      "cell_type": "code",
      "metadata": {
        "colab": {
          "base_uri": "https://localhost:8080/",
          "height": 35
        },
        "id": "Vfv3KM1ss5UE",
        "outputId": "ea9ddee0-e9ce-49af-83f6-c20e2270808e"
      },
      "source": [
        "import random\n",
        "\n",
        "class Ghost:\n",
        "  \n",
        "  def __init__(self):\n",
        "    dict = {1:'White',2:'yellow',3:'purple',4:'red'}\n",
        "    self.color = dict[random.randint(1,4)]\n",
        "  \n",
        "\n",
        "\n",
        "\n",
        "ghost = Ghost()\n",
        "ghost.color"
      ],
      "execution_count": null,
      "outputs": [
        {
          "output_type": "execute_result",
          "data": {
            "application/vnd.google.colaboratory.intrinsic+json": {
              "type": "string"
            },
            "text/plain": [
              "'White'"
            ]
          },
          "metadata": {
            "tags": []
          },
          "execution_count": 67
        }
      ]
    },
    {
      "cell_type": "markdown",
      "metadata": {
        "id": "WLfLkCVJ4Gg_"
      },
      "source": [
        "24. Refactor the following code so that it belongs to a Person class/object. Each Person instance will have a greet method. The Person instance should be instantiated with a name so that it no longer has to be passed into each greet method call.\n",
        "\n",
        "Here is how the final refactored code would be used:\n",
        "\n",
        "  1. joe = Person('Joe')\n",
        "  2. joe.greet('Kate') # should return 'Hello Kate, my name is Joe'\n",
        "  3. joe.name          # should == 'Joe'"
      ]
    },
    {
      "cell_type": "code",
      "metadata": {
        "colab": {
          "base_uri": "https://localhost:8080/",
          "height": 35
        },
        "id": "xcIUimhZ4Hsm",
        "outputId": "f9fdae4e-cdbc-40cc-ad95-fb8e06e1f63d"
      },
      "source": [
        "class Person:\n",
        "\n",
        "  def __init__(self,name):\n",
        "    self.name = name\n",
        "  def greet(self,user):\n",
        "    return 'Hello {} my name is {}'.format(user,self.name)\n",
        "\n",
        "joe = Person('Joe')\n",
        "joe.greet('Kate')\n"
      ],
      "execution_count": null,
      "outputs": [
        {
          "output_type": "execute_result",
          "data": {
            "application/vnd.google.colaboratory.intrinsic+json": {
              "type": "string"
            },
            "text/plain": [
              "'Hello Kate my name is Joe'"
            ]
          },
          "metadata": {
            "tags": []
          },
          "execution_count": 73
        }
      ]
    },
    {
      "cell_type": "markdown",
      "metadata": {
        "id": "YJzc2SI1646Y"
      },
      "source": [
        "25. You are developing an image hosting website.\n",
        "\n",
        "You have to create a function for generating random and unique image filenames.\n",
        "\n",
        "Create a function for generating a random 6 character string which will be used to access the photo URL.\n",
        "\n",
        "To make sure the name is not already in use, you are given access to an PhotoManager object.\n",
        "\n",
        "You can call it like so to make sure the name is unique\n",
        "\n",
        "// at this point, the website has only one photo, hosted on the 'ABCDEF' url\n",
        " 1. photoManager.nameExists('ABCDEF'); // returns true\n",
        " 2. photoManager.nameExists('BBCDEF'); // returns false"
      ]
    },
    {
      "cell_type": "code",
      "metadata": {
        "colab": {
          "base_uri": "https://localhost:8080/"
        },
        "id": "aNlFTZKm69YE",
        "outputId": "3e2cd203-48a8-4116-f737-001883ad96a9"
      },
      "source": [
        "import random\n",
        "\n",
        "class Generator:\n",
        "\n",
        "  def nameExists(self,string):\n",
        "    lst = ['ABCDEF']\n",
        "    if string in lst:\n",
        "      return True\n",
        "    else:\n",
        "      return False\n",
        "\n",
        "\n",
        "\n",
        "  def generateName(self):\n",
        "      dict = {1:'A',2:'S',3:'D',4:'F',5:'P',6:'G',7:'H',8:'J',9:'K',10:'L',\n",
        "      11:'Z',12:'X',13:'C',14:'V',15:'B',16:'N',17:'M'}\n",
        "\n",
        "      url = ''\n",
        "      for i in range(6):\n",
        "        url +=  dict[random.randint(1,17)]\n",
        "      if url == self.photoManager:\n",
        "        return True\n",
        "      else:\n",
        "        return False\n",
        "\n",
        "photoManager = Generator()\n",
        "photoManager.nameExists('ABCDEF')"
      ],
      "execution_count": null,
      "outputs": [
        {
          "output_type": "execute_result",
          "data": {
            "text/plain": [
              "True"
            ]
          },
          "metadata": {
            "tags": []
          },
          "execution_count": 123
        }
      ]
    },
    {
      "cell_type": "markdown",
      "metadata": {
        "id": "kewUPPIYj0oL"
      },
      "source": [
        "Better solution"
      ]
    },
    {
      "cell_type": "markdown",
      "metadata": {
        "id": "4SZT7TFXj6gU"
      },
      "source": [
        "[UUID](https://www.geeksforgeeks.org/generating-random-ids-using-uuid-python/)\n",
        "\n",
        "[ASCII_letters](https://www.geeksforgeeks.org/python-string-ascii_letters/)"
      ]
    },
    {
      "cell_type": "code",
      "metadata": {
        "id": "wZaWTWhhj2MD"
      },
      "source": [
        "import uuid\n",
        "def generateName():\n",
        "    return str(uuid.uuid4())[:6]"
      ],
      "execution_count": null,
      "outputs": []
    },
    {
      "cell_type": "code",
      "metadata": {
        "id": "8c1hgN8ej2t1"
      },
      "source": [
        "from random import sample\n",
        "from string import ascii_letters\n",
        "\n",
        "def generateName(length=6):\n",
        "    while True:\n",
        "        name = ''.join(sample(ascii_letters, length))\n",
        "        if not photoManager.nameExists(name):\n",
        "            return name"
      ],
      "execution_count": null,
      "outputs": []
    },
    {
      "cell_type": "markdown",
      "metadata": {
        "id": "yiySKpa2I9IF"
      },
      "source": [
        "26.  An ice cream stand is a specific kind of restaurant. Write\n",
        "a class called IceCreamStand that inherits from the Restaurant class you wrote\n",
        "in Exercise 9-1 (page 166) or Exercise 9-4 (page 171). Either version of\n",
        "the class will work; just pick the one you like better. Add an attribute called\n",
        "flavors that stores a list of ice cream flavors. Write a method that displays\n",
        "these flavors. Create an instance of IceCreamStand, and call this method."
      ]
    },
    {
      "cell_type": "code",
      "metadata": {
        "colab": {
          "base_uri": "https://localhost:8080/"
        },
        "id": "KlnUSl8CI_m9",
        "outputId": "54181992-7f3d-46bf-ddc2-98cf04b74a15"
      },
      "source": [
        "%%writefile restaurant.py\n",
        "\n",
        "class Restaurant:\n",
        "\n",
        "  def __init__(self,restaurant_name,cuisine_type):\n",
        "    self.restaurant_name = restaurant_name\n",
        "    self.cuisine_type = cuisine_type\n",
        "  \n",
        "  def describe_restaurant(self):\n",
        "    print('Restarutant ' + str(self.restaurant_name),end=' ')\n",
        "    print('serves only ' +  str(self.cuisine_type) + ' dishes')\n",
        "\n",
        "  def open_restaurant(self):\n",
        "    print('That restaurant is open')\n",
        "\n",
        "class IceCreamStand(Restaurant):\n",
        "\n",
        "  def __init__(self,restaurant_name,cuisine_type,flavors):\n",
        "    super().__init__(restaurant_name,cuisine_type)\n",
        "    self.flavors = flavors\n",
        "\n",
        "  def display_flavors(self):\n",
        "    print(self.flavors)\n",
        "\n",
        "test1 = IceCreamStand('Mac','FastFood',['apple','orange','grape'])\n",
        "test1.display_flavors()\n"
      ],
      "execution_count": null,
      "outputs": [
        {
          "output_type": "stream",
          "text": [
            "Writing restaurant.py\n"
          ],
          "name": "stdout"
        }
      ]
    },
    {
      "cell_type": "markdown",
      "metadata": {
        "id": "adGIEKczNg3q"
      },
      "source": [
        "27. An administrator is a special kind of user. Write a class called\n",
        "Admin that inherits from the User class you wrote in Exercise 9-3 (page 166)\n",
        "or Exercise 9-5 (page 171). Add an attribute, privileges, that stores a list\n",
        "of strings like \"can add post\", \"can delete post\", \"can ban user\", and so on.\n",
        "Write a method called show_privileges() that lists the administrator’s set of\n",
        "privileges. Create an instance of Admin, and call your method.\n"
      ]
    },
    {
      "cell_type": "code",
      "metadata": {
        "id": "RU0VodFUNh2T"
      },
      "source": [
        "class User:\n",
        "\n",
        "  def __init__(self,first_name,last_name,age,education,special):\n",
        "    self.first_name = first_name\n",
        "    self.last_name = last_name\n",
        "    self.age = age\n",
        "    self.education = education\n",
        "    self.special = special\n",
        "\n",
        "  def describe_user(self):\n",
        "    print('First name: ' + str(self.first_name))\n",
        "    print('Las name: ' + str(self.last_name))\n",
        "    print('Age: ' + str(self.age))\n",
        "    print('Education: ' + str(self.education))\n",
        "\n",
        "  def greet_user(self):\n",
        "    print('Special interests for user ' + str(self.first_name) + str(self.special))\n",
        "\n",
        "\n",
        "class Admin(User):\n",
        "\n",
        "  def __init__(self,first_name,last_name,age,education,special,privileges):\n",
        "    super().__init__(first_name,last_name,age,education,special)\n",
        "    self.privileges = privileges\n",
        "\n",
        "  def show_privileges(self):\n",
        "    return self.privileges\n",
        "\n",
        "\n",
        "user1 = Admin('Slawek','Serafin',21,'Secondary education','Gym',\n",
        "             ['can add post','can delete post','can ban user'])\n",
        "user1.show_privileges()\n"
      ],
      "execution_count": null,
      "outputs": []
    },
    {
      "cell_type": "markdown",
      "metadata": {
        "id": "gpCfKY6zQOW5"
      },
      "source": [
        "28. Write a separate Privileges class. The class should have one\n",
        "attribute, privileges, that stores a list of strings as described in Exercise 9-7.\n",
        "Move the show_privileges() method to this class. Make a Privileges instance\n",
        "as an attribute in the Admin class. Create a new instance of Admin and use your\n",
        "method to show its privileges"
      ]
    },
    {
      "cell_type": "code",
      "metadata": {
        "colab": {
          "base_uri": "https://localhost:8080/"
        },
        "id": "DBkKIZ_BQPa6",
        "outputId": "2dbd9e72-def3-46b2-ef66-3ada2c5fe654"
      },
      "source": [
        "%%writefile user.py\n",
        "\n",
        "class User:\n",
        "\n",
        "  def __init__(self,first_name,last_name,age,education,special):\n",
        "    self.first_name = first_name\n",
        "    self.last_name = last_name\n",
        "    self.age = age\n",
        "    self.education = education\n",
        "    self.special = special\n",
        "\n",
        "  def describe_user(self):\n",
        "    print('First name: ' + str(self.first_name))\n",
        "    print('Las name: ' + str(self.last_name))\n",
        "    print('Age: ' + str(self.age))\n",
        "    print('Education: ' + str(self.education))\n",
        "\n",
        "  def greet_user(self):\n",
        "    print('Special interests for user ' + str(self.first_name) + str(self.special))\n",
        "\n",
        "\n",
        "class Privileges:\n",
        "\n",
        "  def __init__(self,privileges=['can add post','can delete post','can ban user']):\n",
        "    self.privileges = privileges\n",
        "  \n",
        "  def show_privileges(self):\n",
        "    return self.privileges\n",
        "\n",
        "class Admin(User):\n",
        "\n",
        "  def __init__(self,first_name,last_name,age,education,special):\n",
        "    super().__init__(first_name,last_name,age,education,special)\n",
        "    self.privileges = Privileges()\n",
        "\n",
        "\n",
        "user1 = Admin('Slawek','Serafin',21,'Secondary education','Gym')\n",
        "user1.privileges.show_privileges()"
      ],
      "execution_count": null,
      "outputs": [
        {
          "output_type": "stream",
          "text": [
            "Writing user.py\n"
          ],
          "name": "stdout"
        }
      ]
    },
    {
      "cell_type": "markdown",
      "metadata": {
        "id": "5-PWI6VsTnrk"
      },
      "source": [
        "29.  Use the final version of electric_car.py from this section.\n",
        "\n",
        "Add a method to the Battery class called upgrade_battery(). This method\n",
        "should check the battery size and set the capacity to 85 if it isn’t already.\n",
        "Make an electric car with a default battery size, call get_range() once, and\n",
        "then call get_range() a second time after upgrading the battery. You should\n",
        "see an increase in the car’s range"
      ]
    },
    {
      "cell_type": "code",
      "metadata": {
        "id": "zcO5VlKiTobH"
      },
      "source": [
        "class Car:\n",
        "\n",
        "  def __init__(self,brand,model):\n",
        "    self.brand = brand\n",
        "    self.model = model\n",
        "\n",
        "\n",
        "class Battery:\n",
        "\n",
        "  def __init__(self, battery_size=70):\n",
        "    self.battery_size = battery_size\n",
        "\n",
        "  def get_range(self):\n",
        "\n",
        "    if self.battery_size == 70:\n",
        "      range = 240\n",
        "      return range\n",
        "    elif self.battery_size == 85:\n",
        "      range = 270\n",
        "      return range\n",
        "\n",
        "  def upgrade_battery(self):\n",
        "    if self.battery_size != 85:\n",
        "      self.battery_size = 85\n",
        "\n",
        "\n",
        "class ElectricCar(Car):\n",
        "\n",
        "  def __init__(self,brand,model):\n",
        "    super().__init__(brand,model)\n",
        "    self.battery = Battery()\n",
        "\n",
        "\n",
        "car1 = ElectricCar('Volvo','S60')\n",
        "car1.battery.get_range()\n",
        "car1.battery.upgrade_battery()\n",
        "car1.battery.get_range()"
      ],
      "execution_count": null,
      "outputs": []
    },
    {
      "cell_type": "markdown",
      "metadata": {
        "id": "vaoYKPWyY1PN"
      },
      "source": [
        "30. Using your latest Restaurant class, store it in a module. Make a separate file that imports Restaurant. Make a Restaurant instance,\n",
        "and call one of Restaurant’s methods to show that the import statement is working properly."
      ]
    },
    {
      "cell_type": "code",
      "metadata": {
        "id": "nfcXyPnHZCnO"
      },
      "source": [
        "from restaurant import Restaurant\n",
        "\n",
        "test1 = Restaurant('KFC','chicken')\n",
        "test1.describe_restaurant()"
      ],
      "execution_count": null,
      "outputs": []
    },
    {
      "cell_type": "markdown",
      "metadata": {
        "id": "vhti0eMPcJki"
      },
      "source": [
        "31. Start with your work from Exercise 28.\n",
        "Store the classes User, Privileges, and Admin in one module. Create a separate file, make an Admin instance, and call show_privileges() to show that\n",
        "everything is working correctly."
      ]
    },
    {
      "cell_type": "code",
      "metadata": {
        "colab": {
          "base_uri": "https://localhost:8080/"
        },
        "id": "FmLNBaVjcL1T",
        "outputId": "201682b1-1eb6-48db-b412-013967b128e4"
      },
      "source": [
        "from user import Admin,Privileges,User\n",
        "\n",
        "test1 = Admin('Slawek','Serafin','21','Secondary','IT')\n",
        "test1.privileges.show_privileges()"
      ],
      "execution_count": null,
      "outputs": [
        {
          "output_type": "execute_result",
          "data": {
            "text/plain": [
              "['can add post', 'can delete post', 'can ban user']"
            ]
          },
          "metadata": {
            "tags": []
          },
          "execution_count": 29
        }
      ]
    },
    {
      "cell_type": "markdown",
      "metadata": {
        "id": "rjztjjCId1MP"
      },
      "source": [
        "32. The module random contains functions that generate random numbers in a variety of ways. The function randint() returns an integer in the\n",
        "range you provide. Make a class Die with one attribute called sides, which has a default\n",
        "value of 6. Write a method called roll_die() that prints a random number\n",
        "between 1 and the number of sides the die has. Make a 6-sided die and roll\n",
        "it 10 times. Make a 10-sided die and a 20-sided die. Roll each die 10 times"
      ]
    },
    {
      "cell_type": "code",
      "metadata": {
        "colab": {
          "base_uri": "https://localhost:8080/"
        },
        "id": "KgJu84fWd17f",
        "outputId": "c28604c3-53e5-400c-eaaa-5e00e6f0d2db"
      },
      "source": [
        "from random import randint\n",
        "\n",
        "class Die:\n",
        "\n",
        "  def __init__(self,sides = 6):\n",
        "    self.sides = sides\n",
        "\n",
        "  def roll_die(self):\n",
        "    for i in range(2):\n",
        "      print(randint(1,self.sides),end=' ')\n",
        "\n",
        "  def upgrade_sides(self,number):\n",
        "    self.sides = number\n",
        "\n",
        "test1 = Die()\n",
        "test1.upgrade_sides(13)\n",
        "test1.roll_die()"
      ],
      "execution_count": null,
      "outputs": [
        {
          "output_type": "stream",
          "text": [
            "8 11 "
          ],
          "name": "stdout"
        }
      ]
    },
    {
      "cell_type": "code",
      "metadata": {
        "colab": {
          "base_uri": "https://localhost:8080/"
        },
        "id": "Y4U0ua3xyLdX",
        "outputId": "dd8544de-0a92-4958-a838-a50dc966884f"
      },
      "source": [
        "class BoardSorting:\n",
        "  \n",
        "  def __init__(self,list):\n",
        "    self.list = list\n",
        "\n",
        "  def implementation(self):\n",
        "\n",
        "    link = []\n",
        "    ID = []\n",
        "    p_new = []\n",
        "    for id in range(1,2*len(self.list)):\n",
        "      ID.append(id)\n",
        "\n",
        "    \n",
        "    P = sorted(self.list)\n",
        "    c = P[0]+P[1]\n",
        "    P.append(c)\n",
        "    link.append(ID.index(len(self.list)+2))\n",
        "    link.append(ID.index(len(self.list)+2))\n",
        "\n",
        "    P.insert(0,1)\n",
        "    P.insert(1,0)\n",
        "    \n",
        "    return ID\n",
        "  \n",
        "\n",
        "test1 = BoardSorting([0.1,0.1,0.15,0.2,0.45])\n",
        "test1.implementation()"
      ],
      "execution_count": null,
      "outputs": [
        {
          "output_type": "execute_result",
          "data": {
            "text/plain": [
              "[1, 2, 3, 4, 5, 6, 7, 8, 9]"
            ]
          },
          "metadata": {
            "tags": []
          },
          "execution_count": 33
        }
      ]
    },
    {
      "cell_type": "markdown",
      "metadata": {
        "id": "tHW5QFGBH5xc"
      },
      "source": [
        "33. Return the magnitude of a vector, given as an array of its component values.\r\n",
        "\r\n",
        "The vector (2, 3, 5) would be represented as an array containing three values at indices 0, 1 and 2 respectively.\r\n",
        "The array will always contain at least 2 and at most 100 elements (2 ≤ vector.Length ≤ 100), each of which will be within the range [-100, 100].\r\n",
        "An array containing four elements represents a vector in 4D space."
      ]
    },
    {
      "cell_type": "code",
      "metadata": {
        "colab": {
          "base_uri": "https://localhost:8080/"
        },
        "id": "Pb65X2U0H8AK",
        "outputId": "f08f1505-2a43-4a51-84cb-1a1bbc55d218"
      },
      "source": [
        "import numpy as np\r\n",
        "import math as m\r\n",
        "\r\n",
        "class Vector:\r\n",
        "\r\n",
        "  def __init__(self,array):\r\n",
        "    self.array = array\r\n",
        "\r\n",
        "  def magnitude(self):\r\n",
        "    sum_of_power = 0\r\n",
        "    for i in self.array:\r\n",
        "      sum_of_power +=i**2\r\n",
        "    \r\n",
        "    return m.sqrt(sum_of_power)\r\n",
        "\r\n",
        "test1 = Vector([2,3,4,6,5,4])\r\n",
        "test1.magnitude()"
      ],
      "execution_count": null,
      "outputs": [
        {
          "output_type": "execute_result",
          "data": {
            "text/plain": [
              "10.295630140987"
            ]
          },
          "metadata": {
            "tags": []
          },
          "execution_count": 7
        }
      ]
    },
    {
      "cell_type": "markdown",
      "metadata": {
        "id": "GVwxg-yHRE0u"
      },
      "source": [
        "Solution 2:"
      ]
    },
    {
      "cell_type": "code",
      "metadata": {
        "id": "S5O9M5S4RHU0"
      },
      "source": [
        "def magnitude(vector):\r\n",
        "    return sum(i**2 for i in vector)**0.5"
      ],
      "execution_count": null,
      "outputs": []
    },
    {
      "cell_type": "markdown",
      "metadata": {
        "id": "IfrVUirxRJQr"
      },
      "source": [
        "Solution 3:"
      ]
    },
    {
      "cell_type": "code",
      "metadata": {
        "id": "jCvs-Vg4RK65"
      },
      "source": [
        "import numpy as np\r\n",
        "\r\n",
        "def magnitude(vector):\r\n",
        "    return np.linalg.norm(vector)"
      ],
      "execution_count": null,
      "outputs": []
    },
    {
      "cell_type": "markdown",
      "metadata": {
        "id": "Wh_WyrCUS3E9"
      },
      "source": [
        "34. Bob is a theoretical coder - he doesn't write code, but comes up with theories, formulas and algorithm ideas. You are his secretary, and he has tasked you with writing the code for his newest project - a method for making the short form of a word. Write a function shortForm(C# ShortForm, Python short_form) that takes a string and returns it converted into short form using the rule: Remove all vowels, except for those that are the first or last letter. Do not count 'y' as a vowel, and ignore case. Also note, the string given will not have any spaces; only one word, and only Roman letters."
      ]
    },
    {
      "cell_type": "code",
      "metadata": {
        "id": "9WoFPSblS4AW"
      },
      "source": [
        "def short_form(s):\r\n",
        "  result = []\r\n",
        "  result.append(s[0])\r\n",
        "  vowels = ['a','e','i','o','u','A','E','I','O','U']\r\n",
        "  for i in s[1:len(s)-1]:\r\n",
        "    if i not in vowels:\r\n",
        "      result.append(i)\r\n",
        "  result.append(s[-1])\r\n",
        "  \r\n",
        "  listToStr = ''.join(map(str,result))   \r\n",
        "  \r\n",
        "  return listToStr\r\n",
        "  \r\n",
        "  \r\n",
        "short_form('UnInTENtONAl')"
      ],
      "execution_count": null,
      "outputs": []
    },
    {
      "cell_type": "markdown",
      "metadata": {
        "id": "33vI4xl98rO5"
      },
      "source": [
        "Better solution:"
      ]
    },
    {
      "cell_type": "code",
      "metadata": {
        "colab": {
          "base_uri": "https://localhost:8080/",
          "height": 35
        },
        "id": "qtfl3Rlx8s3j",
        "outputId": "0fee42f0-60bd-4910-bf09-086e1d11af2d"
      },
      "source": [
        "def short_form(s):\r\n",
        "    return '{}{}{}'.format(s[0], s[1:-1].translate('aeiouAEIOU'), s[-1])\r\n",
        "\r\n",
        "short_form('jkhkjdadas')"
      ],
      "execution_count": null,
      "outputs": [
        {
          "output_type": "execute_result",
          "data": {
            "application/vnd.google.colaboratory.intrinsic+json": {
              "type": "string"
            },
            "text/plain": [
              "'jkhkjdadas'"
            ]
          },
          "metadata": {
            "tags": []
          },
          "execution_count": 91
        }
      ]
    },
    {
      "cell_type": "code",
      "metadata": {
        "id": "w5vf0y2-8uFt"
      },
      "source": [
        "from re import *\r\n",
        "def short_form(s):\r\n",
        "    return sub(r\"(?<!^)[aeiou](?=.)\", '', s, flags=I)"
      ],
      "execution_count": null,
      "outputs": []
    },
    {
      "cell_type": "markdown",
      "metadata": {
        "id": "IhuGGcfvSgCL"
      },
      "source": [
        "35. The goal of this exercise is to convert a string to a new string where each character in the new string is \"(\" if that character appears only once in the original string, or \")\" if that character appears more than once in the original string. Ignore capitalization when determining if a character is a duplicate."
      ]
    },
    {
      "cell_type": "code",
      "metadata": {
        "colab": {
          "base_uri": "https://localhost:8080/",
          "height": 35
        },
        "id": "pIyrAQAwShMK",
        "outputId": "8e5918cd-fe57-4a43-e11b-8d8f37783b6c"
      },
      "source": [
        "def duplicate_encode(word):\r\n",
        "  list1 = list(word)\r\n",
        "  list2 = []\r\n",
        "  for i in list1:\r\n",
        "    if list1.count(str(i)) == 1:\r\n",
        "      list2.append('(')\r\n",
        "    else:\r\n",
        "        list2.append(')')\r\n",
        "  list2str = ''.join(map(str,list2))\r\n",
        "  return list2str\r\n",
        "\r\n",
        "\r\n",
        "duplicate_encode(')())())')\r\n",
        "    "
      ],
      "execution_count": null,
      "outputs": [
        {
          "output_type": "execute_result",
          "data": {
            "application/vnd.google.colaboratory.intrinsic+json": {
              "type": "string"
            },
            "text/plain": [
              "')))))))'"
            ]
          },
          "metadata": {
            "tags": []
          },
          "execution_count": 103
        }
      ]
    },
    {
      "cell_type": "markdown",
      "metadata": {
        "id": "mQZ3pvYojKpl"
      },
      "source": [
        "The best solution:"
      ]
    },
    {
      "cell_type": "code",
      "metadata": {
        "colab": {
          "base_uri": "https://localhost:8080/",
          "height": 35
        },
        "id": "JMN8D-LBjMbo",
        "outputId": "0efe028d-4c87-40a0-937f-756103f252dc"
      },
      "source": [
        "def duplicate_encode(word):\r\n",
        "    return \"\".join([\"(\" if word.lower().count(c) == 1 else \")\" for c in word.lower()])\r\n",
        "\r\n",
        "duplicate_encode('(l;k;lfsdf')"
      ],
      "execution_count": null,
      "outputs": [
        {
          "output_type": "execute_result",
          "data": {
            "application/vnd.google.colaboratory.intrinsic+json": {
              "type": "string"
            },
            "text/plain": [
              "'())()))(()'"
            ]
          },
          "metadata": {
            "tags": []
          },
          "execution_count": 104
        }
      ]
    },
    {
      "cell_type": "markdown",
      "metadata": {
        "id": "2lmf2UaCmiCR"
      },
      "source": [
        "36. As a part of this Kata, you need to create a function that when provided with a triplet, returns the index of the numerical element that lies between the other two elements.\r\n",
        "\r\n",
        "The input to the function will be an array of three distinct numbers (Haskell: a tuple)."
      ]
    },
    {
      "cell_type": "code",
      "metadata": {
        "colab": {
          "base_uri": "https://localhost:8080/"
        },
        "id": "xdrEEOhnmjLO",
        "outputId": "bf6fa213-7242-4ccc-b4c0-f6e94445bba2"
      },
      "source": [
        "def gimme(input_array):\r\n",
        "  a = sorted(input_array)\r\n",
        "  b = a[1]\r\n",
        "  return input_array.index(b)\r\n",
        "\r\n",
        "gimme((4,5,6))"
      ],
      "execution_count": null,
      "outputs": [
        {
          "output_type": "stream",
          "text": [
            "5\n"
          ],
          "name": "stdout"
        },
        {
          "output_type": "execute_result",
          "data": {
            "text/plain": [
              "1"
            ]
          },
          "metadata": {
            "tags": []
          },
          "execution_count": 120
        }
      ]
    },
    {
      "cell_type": "markdown",
      "metadata": {
        "id": "ZHdnaN8sqYQ2"
      },
      "source": [
        "The best solution:"
      ]
    },
    {
      "cell_type": "code",
      "metadata": {
        "id": "3DeYbzDZqZbJ"
      },
      "source": [
        "def gimme(inputArray):\r\n",
        "    return inputArray.index(sorted(inputArray)[1])"
      ],
      "execution_count": null,
      "outputs": []
    },
    {
      "cell_type": "markdown",
      "metadata": {
        "id": "merxeY1P8mBo"
      },
      "source": [
        "10.12.2020"
      ]
    },
    {
      "cell_type": "markdown",
      "metadata": {
        "id": "qaR5eE_6ryat"
      },
      "source": [
        "37. Given a string, return true if the first instance of \"x\" in the string is immediately followed by the string \"xx\"."
      ]
    },
    {
      "cell_type": "code",
      "metadata": {
        "colab": {
          "base_uri": "https://localhost:8080/"
        },
        "id": "_ZmHKgIUr0Gp",
        "outputId": "141a1842-c128-4e0a-fa15-849071a1e5db"
      },
      "source": [
        "def triple_x(s):\r\n",
        "  result = s.find('x')\r\n",
        "  if result == -1:\r\n",
        "   return False\r\n",
        "  else:\r\n",
        "    if s[result+1:result+3] == 'xx':\r\n",
        "      return True\r\n",
        "    else:\r\n",
        "      return False\r\n",
        "\r\n",
        "\r\n",
        "triple_x('xxxeamplexx')\r\n",
        "\r\n"
      ],
      "execution_count": null,
      "outputs": [
        {
          "output_type": "execute_result",
          "data": {
            "text/plain": [
              "True"
            ]
          },
          "metadata": {
            "tags": []
          },
          "execution_count": 20
        }
      ]
    },
    {
      "cell_type": "markdown",
      "metadata": {
        "id": "e2urKV1U77pa"
      },
      "source": [
        "The best solution:"
      ]
    },
    {
      "cell_type": "code",
      "metadata": {
        "id": "dErE0tDm79E6"
      },
      "source": [
        "def triple_x(s):\r\n",
        "    try:\r\n",
        "        return True if s.index(\"x\")==s.index(\"xxx\") else False\r\n",
        "    except: return False"
      ],
      "execution_count": null,
      "outputs": []
    },
    {
      "cell_type": "markdown",
      "metadata": {
        "id": "5s6kGqfc8o0G"
      },
      "source": [
        "38. An element in an array is dominant if it is greater than all elements to its right. You will be given an array and your task will be to return a list of all dominant elements. "
      ]
    },
    {
      "cell_type": "code",
      "metadata": {
        "id": "BYeBZmPN8qvu"
      },
      "source": [
        "\r\n",
        "#Brak rozwiązania\r\n",
        "def solve(arr):\r\n",
        "  list2 = []\r\n",
        "  for index,value in enumerate(arr):\r\n",
        "    for that in arr[index+1:]:\r\n",
        "      if all(that<value):\r\n",
        "        list2.append(a)\r\n",
        "    print()\r\n",
        "    \r\n",
        "  \r\n",
        "\r\n",
        "solve([4,5,64,2])"
      ],
      "execution_count": null,
      "outputs": []
    },
    {
      "cell_type": "markdown",
      "metadata": {
        "id": "SZYSXIByRsTc"
      },
      "source": [
        "Best solution:"
      ]
    },
    {
      "cell_type": "code",
      "metadata": {
        "id": "wDPwTe_4RvIg"
      },
      "source": [
        "def solve(arr):\r\n",
        "    r = []\r\n",
        "    for v in arr[::-1]:\r\n",
        "        if not r or r[-1] < v: r.append(v)\r\n",
        "    return r[::-1]"
      ],
      "execution_count": null,
      "outputs": []
    },
    {
      "cell_type": "code",
      "metadata": {
        "colab": {
          "base_uri": "https://localhost:8080/"
        },
        "id": "w8DGR983Rv8S",
        "outputId": "9257a545-a967-4476-ecce-010a65327cb2"
      },
      "source": [
        "def solve(arr):\r\n",
        "    return [a for i,a in enumerate(arr) if all(x < a for x in arr[i+1:])]\r\n",
        "\r\n",
        "solve('4,5,6,3,2')"
      ],
      "execution_count": null,
      "outputs": [
        {
          "output_type": "execute_result",
          "data": {
            "text/plain": [
              "['6', '3', '2']"
            ]
          },
          "metadata": {
            "tags": []
          },
          "execution_count": 56
        }
      ]
    },
    {
      "cell_type": "markdown",
      "metadata": {
        "id": "Iu5z3i5dJmFN"
      },
      "source": [
        "39. Your fellow coders have bought you several drinks tonight in the form of a string. Return a string suggesting how many glasses of water you should drink to not be hungover"
      ]
    },
    {
      "cell_type": "code",
      "metadata": {
        "colab": {
          "base_uri": "https://localhost:8080/"
        },
        "id": "fxV82IUWJnWl",
        "outputId": "9a18fd7c-ebe9-4e80-d85c-f38b49696d1b"
      },
      "source": [
        "def hydrate(drink_string):\r\n",
        "  a = list(drink_string)\r\n",
        "  result = []\r\n",
        "  result1 = ''\r\n",
        "  for i,v in enumerate(a):\r\n",
        "    if v.isdigit():\r\n",
        "      if a[i+1].isdigit():\r\n",
        "        result1+=a[i]+a[i+1]\r\n",
        "      else:\r\n",
        "        result.append(int(v))\r\n",
        "     \r\n",
        "  if sum(result)==1:\r\n",
        "    return '1 glass of water'\r\n",
        "  else:\r\n",
        "    return ['{} glasses of water'.format(result1)]\r\n",
        "\r\n",
        "hydrate(\"10 glasses of water\")"
      ],
      "execution_count": null,
      "outputs": [
        {
          "output_type": "execute_result",
          "data": {
            "text/plain": [
              "['10 glasses of water']"
            ]
          },
          "metadata": {
            "tags": []
          },
          "execution_count": 51
        }
      ]
    },
    {
      "cell_type": "markdown",
      "metadata": {
        "id": "wLJTGLEJdYgt"
      },
      "source": [
        "Best solutions:"
      ]
    },
    {
      "cell_type": "code",
      "metadata": {
        "colab": {
          "base_uri": "https://localhost:8080/",
          "height": 35
        },
        "id": "17kd-meAdaS4",
        "outputId": "1ead29d7-9981-44ff-c79f-71a813d27455"
      },
      "source": [
        "def hydrate(drink_string): \r\n",
        "    c=sum(int(c) for c in drink_string.split() if c.isdigit())\r\n",
        "    return \"{} {} of water\".format(c,'glass') if c==1 else \"{} {} of water\".format(c,'glasses')\r\n",
        "\r\n",
        "hydrate('10 glasses of water')"
      ],
      "execution_count": null,
      "outputs": [
        {
          "output_type": "execute_result",
          "data": {
            "application/vnd.google.colaboratory.intrinsic+json": {
              "type": "string"
            },
            "text/plain": [
              "'10 glasses of water'"
            ]
          },
          "metadata": {
            "tags": []
          },
          "execution_count": 53
        }
      ]
    },
    {
      "cell_type": "code",
      "metadata": {
        "colab": {
          "base_uri": "https://localhost:8080/"
        },
        "id": "FzL8KL5KmNfU",
        "outputId": "2e10a377-7495-47ce-e60e-e54553787501"
      },
      "source": [
        "x = '231 glaseesof watter'\r\n",
        "print(x.split())"
      ],
      "execution_count": null,
      "outputs": [
        {
          "output_type": "stream",
          "text": [
            "['231', 'glaseesof', 'watter']\n"
          ],
          "name": "stdout"
        }
      ]
    },
    {
      "cell_type": "code",
      "metadata": {
        "id": "t72gQy-TdbKE"
      },
      "source": [
        "import re\r\n",
        "\r\n",
        "def hydrate(s):\r\n",
        "    n = sum(map(int,re.findall(r'\\d+',s)))\r\n",
        "    return f\"{ n } glass{ 'es'*(n!=1) } of water\""
      ],
      "execution_count": null,
      "outputs": []
    },
    {
      "cell_type": "markdown",
      "metadata": {
        "id": "6x6uJnjxndfG"
      },
      "source": [
        "40. A pangram is a sentence that contains every single letter of the alphabet at least once. For example, the sentence \"The quick brown fox jumps over the lazy dog\" is a pangram, because it uses the letters A-Z at least once (case is irrelevant).\r\n",
        "\r\n",
        "Given a string, detect whether or not it is a pangram. Return True if it is, False if not. Ignore numbers and punctuation."
      ]
    },
    {
      "cell_type": "code",
      "metadata": {
        "id": "-RSgW2arneVG",
        "colab": {
          "base_uri": "https://localhost:8080/"
        },
        "outputId": "33a64cf2-ba76-4ae1-fed9-b24991dcede4"
      },
      "source": [
        "import string\r\n",
        "\r\n",
        "def is_pangram(s):\r\n",
        "  lst = list(string.ascii_lowercase)\r\n",
        "  print(lst)\r\n",
        "  sen_lst =list(s.lower())\r\n",
        "  for i in sen_lst:\r\n",
        "    if i in list(lst):\r\n",
        "      lst.remove(i)\r\n",
        "  print(list(lst))\r\n",
        "  if not lst:\r\n",
        "    return True\r\n",
        "  else:\r\n",
        "    return False\r\n",
        "\r\n",
        "is_pangram('The quick brown fox jumps over the lazy dog')\r\n"
      ],
      "execution_count": null,
      "outputs": [
        {
          "output_type": "stream",
          "text": [
            "['a', 'b', 'c', 'd', 'e', 'f', 'g', 'h', 'i', 'j', 'k', 'l', 'm', 'n', 'o', 'p', 'q', 'r', 's', 't', 'u', 'v', 'w', 'x', 'y', 'z']\n",
            "[]\n"
          ],
          "name": "stdout"
        },
        {
          "output_type": "execute_result",
          "data": {
            "text/plain": [
              "True"
            ]
          },
          "metadata": {
            "tags": []
          },
          "execution_count": 18
        }
      ]
    },
    {
      "cell_type": "code",
      "metadata": {
        "colab": {
          "base_uri": "https://localhost:8080/"
        },
        "id": "yGRH3Jr5KCP0",
        "outputId": "efa33283-33aa-475d-f26f-623cdcdab909"
      },
      "source": [
        "import string\r\n",
        "\r\n",
        "def is_pangram(s):\r\n",
        "  if not (set(string.ascii_lowercase).difference(set(s.lower()))):\r\n",
        "    return True\r\n",
        "  else:\r\n",
        "    return False\r\n",
        "    \r\n",
        "\r\n",
        "is_pangram('example')"
      ],
      "execution_count": null,
      "outputs": [
        {
          "output_type": "execute_result",
          "data": {
            "text/plain": [
              "False"
            ]
          },
          "metadata": {
            "tags": []
          },
          "execution_count": 33
        }
      ]
    },
    {
      "cell_type": "markdown",
      "metadata": {
        "id": "2O3CQftD4RNe"
      },
      "source": [
        "The best solution:"
      ]
    },
    {
      "cell_type": "code",
      "metadata": {
        "id": "Q_NMVCAy4TFq"
      },
      "source": [
        "import string\r\n",
        "\r\n",
        "def is_pangram(s):\r\n",
        "    return set(string.lowercase) <= set(s.lower())"
      ],
      "execution_count": null,
      "outputs": []
    },
    {
      "cell_type": "markdown",
      "metadata": {
        "id": "F3Es0pqNPhFQ"
      },
      "source": [
        "41. There is an array with some numbers. All numbers are equal except for one. Try to find it!\r\n",
        "\r\n",
        "find_uniq([ 1, 1, 1, 2, 1, 1 ]) == 2\r\n",
        "\r\n",
        "find_uniq([ 0, 0, 0.55, 0, 0 ]) == 0.55"
      ]
    },
    {
      "cell_type": "code",
      "metadata": {
        "colab": {
          "base_uri": "https://localhost:8080/"
        },
        "id": "oG9zTgIiXnAZ",
        "outputId": "bb46e00f-d640-4299-e284-a9a7524db34f"
      },
      "source": [
        "s = [1,1,1,1,2,1,1,1,1,1,1]\r\n",
        "print(set(s))"
      ],
      "execution_count": null,
      "outputs": [
        {
          "output_type": "stream",
          "text": [
            "{1, 2}\n"
          ],
          "name": "stdout"
        }
      ]
    },
    {
      "cell_type": "code",
      "metadata": {
        "colab": {
          "base_uri": "https://localhost:8080/"
        },
        "id": "pgDpXX0WPiMN",
        "outputId": "055e1e86-3cca-4b4f-d3dc-c7d6ceda6a56"
      },
      "source": [
        "def find_uniq(arr):\r\n",
        "  a = set(arr)\r\n",
        "  for i in a:\r\n",
        "     if arr.count(i)==1:\r\n",
        "       return i\r\n",
        "\r\n",
        "find_uniq([1,1,1,1,1,1,0.5,1,1,1,1,1])"
      ],
      "execution_count": null,
      "outputs": [
        {
          "output_type": "execute_result",
          "data": {
            "text/plain": [
              "0.5"
            ]
          },
          "metadata": {
            "tags": []
          },
          "execution_count": 41
        }
      ]
    },
    {
      "cell_type": "markdown",
      "metadata": {
        "id": "QA18EgPIZHOp"
      },
      "source": [
        "Best solution:"
      ]
    },
    {
      "cell_type": "code",
      "metadata": {
        "id": "yD7VR1KwZIsX"
      },
      "source": [
        "def find_uniq(arr):\r\n",
        "    a, b = set(arr)\r\n",
        "    return a if arr.count(a) == 1 else b"
      ],
      "execution_count": null,
      "outputs": []
    },
    {
      "cell_type": "markdown",
      "metadata": {
        "id": "ziOaC5bJZ69f"
      },
      "source": [
        "42. Bob is preparing to pass IQ test. The most frequent task in this test is to find out which one of the given numbers differs from the others. Bob observed that one number usually differs from the others in evenness. Help Bob — to check his answers, he needs a program that among the given numbers finds one that is different in evenness, and return a position of this number.\r\n",
        "\r\n",
        "! Keep in mind that your task is to help Bob solve a real IQ test, which means indexes of the elements start from 1 (not 0)\r\n",
        "\r\n",
        "Examples :\r\n",
        "\r\n",
        "iq_test(\"2 4 7 8 10\") => 3 // Third number is odd, while the rest of the numbers are even\r\n",
        "\r\n",
        "iq_test(\"1 2 1 1\") => 2 // Second number is even, while the rest of the numbers are odd"
      ]
    },
    {
      "cell_type": "code",
      "metadata": {
        "colab": {
          "base_uri": "https://localhost:8080/"
        },
        "id": "9N-HLkhNZ9QA",
        "outputId": "0c0f1407-37f4-4212-e99f-ef6563160cb3"
      },
      "source": [
        "def iq_test(numbers):\r\n",
        "  a = numbers.split()\r\n",
        "  odd = 0\r\n",
        "  even = 0\r\n",
        "  for i in a:\r\n",
        "    if int(i)%2 == 0:\r\n",
        "      even+=1\r\n",
        "    else:\r\n",
        "      odd+=1\r\n",
        "  if even > odd:\r\n",
        "    for i in a:\r\n",
        "      if int(i)%2 != 0:\r\n",
        "        return a.index(i)+1\r\n",
        "  else:\r\n",
        "    for i in a:\r\n",
        "      if int(i)%2 == 0:\r\n",
        "        return a.index(i)+1\r\n",
        "    \r\n",
        "\r\n",
        "\r\n",
        "\r\n",
        "iq_test('7 7 7 5 3 5 3 8')"
      ],
      "execution_count": null,
      "outputs": [
        {
          "output_type": "execute_result",
          "data": {
            "text/plain": [
              "8"
            ]
          },
          "metadata": {
            "tags": []
          },
          "execution_count": 10
        }
      ]
    },
    {
      "cell_type": "markdown",
      "metadata": {
        "id": "qvzb5DjcWndw"
      },
      "source": [
        "Best solutions:"
      ]
    },
    {
      "cell_type": "code",
      "metadata": {
        "id": "ujQVhEGAWo9Q"
      },
      "source": [
        "def iq_test(numbers):\r\n",
        "    e = [int(i) % 2 == 0 for i in numbers.split()]\r\n",
        "    print(e)\r\n",
        "\r\n",
        "    return e.index(True) + 1 if e.count(True) == 1 else e.index(False) + 1\r\n",
        "\r\n",
        "iq_test('7 7 7 5 3 5 3 8')"
      ],
      "execution_count": null,
      "outputs": []
    },
    {
      "cell_type": "code",
      "metadata": {
        "id": "qXsUb8hVWqJH"
      },
      "source": [
        "def iq_test(n):\r\n",
        "    n = [int(i)%2 for i in n.split()]\r\n",
        "    print(n)\r\n",
        "    if n.count(0)>1:\r\n",
        "        return n.index(1)+1\r\n",
        "    else:\r\n",
        "        return n.index(0)+1\r\n",
        "\r\n",
        "iq_test('7 7 7 5 3 5 3 8')"
      ],
      "execution_count": null,
      "outputs": []
    },
    {
      "cell_type": "markdown",
      "metadata": {
        "id": "fim4Isu4CPVr"
      },
      "source": [
        "43. Sublime"
      ]
    }
  ]
}
